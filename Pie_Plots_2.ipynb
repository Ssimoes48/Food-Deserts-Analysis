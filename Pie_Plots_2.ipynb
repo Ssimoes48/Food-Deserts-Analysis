{
 "cells": [
  {
   "cell_type": "code",
   "execution_count": 1,
   "metadata": {},
   "outputs": [],
   "source": [
    "#Import modules\n",
    "\n",
    "import matplotlib.pyplot as plt\n",
    "import pandas as pd\n",
    "import scipy.stats as st\n",
    "import numpy as np\n"
   ]
  },
  {
   "cell_type": "code",
   "execution_count": 2,
   "metadata": {},
   "outputs": [],
   "source": [
    "#Import data from CSV\n",
    "combined_path = \"output/true_combined.csv\"\n",
    "medicare_path = \"Resources/Medicare_Enrollment_2017.csv\""
   ]
  },
  {
   "cell_type": "code",
   "execution_count": 3,
   "metadata": {},
   "outputs": [],
   "source": [
    "#Import csvs\n",
    "combined_df = pd.read_csv(combined_path)\n",
    "medicare_df= pd.read_csv(medicare_path)"
   ]
  },
  {
   "cell_type": "code",
   "execution_count": 4,
   "metadata": {},
   "outputs": [
    {
     "data": {
      "text/html": [
       "<div>\n",
       "<style scoped>\n",
       "    .dataframe tbody tr th:only-of-type {\n",
       "        vertical-align: middle;\n",
       "    }\n",
       "\n",
       "    .dataframe tbody tr th {\n",
       "        vertical-align: top;\n",
       "    }\n",
       "\n",
       "    .dataframe thead th {\n",
       "        text-align: right;\n",
       "    }\n",
       "</style>\n",
       "<table border=\"1\" class=\"dataframe\">\n",
       "  <thead>\n",
       "    <tr style=\"text-align: right;\">\n",
       "      <th></th>\n",
       "      <th>State</th>\n",
       "      <th>County</th>\n",
       "      <th>POP2010</th>\n",
       "      <th>OHU2010</th>\n",
       "      <th>PovertyRate</th>\n",
       "      <th>MedianFamilyIncome</th>\n",
       "      <th>LAPOP1_10</th>\n",
       "      <th>LAPOP05_10</th>\n",
       "      <th>LAPOP1_20</th>\n",
       "      <th>LALOWI1_10</th>\n",
       "      <th>...</th>\n",
       "      <th>Food Environment Index</th>\n",
       "      <th># Deaths</th>\n",
       "      <th>Years of Potential Life Lost Rate</th>\n",
       "      <th>% Obese</th>\n",
       "      <th>% Fair/Poor</th>\n",
       "      <th># Diabetics</th>\n",
       "      <th># Violent Crimes</th>\n",
       "      <th># Unemployed</th>\n",
       "      <th>% Children in Poverty</th>\n",
       "      <th>Original Medicare</th>\n",
       "    </tr>\n",
       "  </thead>\n",
       "  <tbody>\n",
       "    <tr>\n",
       "      <th>0</th>\n",
       "      <td>Alabama</td>\n",
       "      <td>Autauga</td>\n",
       "      <td>54571</td>\n",
       "      <td>20221</td>\n",
       "      <td>13.858333</td>\n",
       "      <td>61082.916667</td>\n",
       "      <td>18092.661348</td>\n",
       "      <td>30141.638549</td>\n",
       "      <td>11064.872922</td>\n",
       "      <td>6835.642497</td>\n",
       "      <td>...</td>\n",
       "      <td>6.9</td>\n",
       "      <td>830.0</td>\n",
       "      <td>9158.0</td>\n",
       "      <td>34</td>\n",
       "      <td>18</td>\n",
       "      <td>711.0</td>\n",
       "      <td>145.0</td>\n",
       "      <td>1327.0</td>\n",
       "      <td>19.0</td>\n",
       "      <td>5784</td>\n",
       "    </tr>\n",
       "    <tr>\n",
       "      <th>1</th>\n",
       "      <td>Alabama</td>\n",
       "      <td>Baldwin</td>\n",
       "      <td>182265</td>\n",
       "      <td>73180</td>\n",
       "      <td>14.358065</td>\n",
       "      <td>60664.935484</td>\n",
       "      <td>46400.350641</td>\n",
       "      <td>72307.849152</td>\n",
       "      <td>43486.806226</td>\n",
       "      <td>15459.848416</td>\n",
       "      <td>...</td>\n",
       "      <td>7.5</td>\n",
       "      <td>2573.0</td>\n",
       "      <td>7394.0</td>\n",
       "      <td>27</td>\n",
       "      <td>16</td>\n",
       "      <td>2615.0</td>\n",
       "      <td>415.0</td>\n",
       "      <td>4791.0</td>\n",
       "      <td>20.0</td>\n",
       "      <td>28388</td>\n",
       "    </tr>\n",
       "    <tr>\n",
       "      <th>2</th>\n",
       "      <td>Alabama</td>\n",
       "      <td>Barbour</td>\n",
       "      <td>27457</td>\n",
       "      <td>9820</td>\n",
       "      <td>24.533333</td>\n",
       "      <td>43123.000000</td>\n",
       "      <td>6683.975691</td>\n",
       "      <td>9302.717960</td>\n",
       "      <td>1182.176872</td>\n",
       "      <td>3251.362574</td>\n",
       "      <td>...</td>\n",
       "      <td>4.9</td>\n",
       "      <td>413.0</td>\n",
       "      <td>8573.0</td>\n",
       "      <td>44</td>\n",
       "      <td>25</td>\n",
       "      <td>525.0</td>\n",
       "      <td>85.0</td>\n",
       "      <td>771.0</td>\n",
       "      <td>45.0</td>\n",
       "      <td>4372</td>\n",
       "    </tr>\n",
       "    <tr>\n",
       "      <th>3</th>\n",
       "      <td>Alabama</td>\n",
       "      <td>Bibb</td>\n",
       "      <td>22915</td>\n",
       "      <td>7953</td>\n",
       "      <td>16.025000</td>\n",
       "      <td>43362.500000</td>\n",
       "      <td>295.614426</td>\n",
       "      <td>295.614426</td>\n",
       "      <td>0.000000</td>\n",
       "      <td>164.903295</td>\n",
       "      <td>...</td>\n",
       "      <td>7.3</td>\n",
       "      <td>407.0</td>\n",
       "      <td>11766.0</td>\n",
       "      <td>40</td>\n",
       "      <td>20</td>\n",
       "      <td>333.0</td>\n",
       "      <td>33.0</td>\n",
       "      <td>561.0</td>\n",
       "      <td>29.0</td>\n",
       "      <td>2480</td>\n",
       "    </tr>\n",
       "    <tr>\n",
       "      <th>4</th>\n",
       "      <td>Alabama</td>\n",
       "      <td>Blount</td>\n",
       "      <td>57322</td>\n",
       "      <td>21578</td>\n",
       "      <td>17.911111</td>\n",
       "      <td>52136.000000</td>\n",
       "      <td>5855.939161</td>\n",
       "      <td>7387.084978</td>\n",
       "      <td>3900.420369</td>\n",
       "      <td>2570.900481</td>\n",
       "      <td>...</td>\n",
       "      <td>8.3</td>\n",
       "      <td>906.0</td>\n",
       "      <td>9333.0</td>\n",
       "      <td>35</td>\n",
       "      <td>19</td>\n",
       "      <td>705.0</td>\n",
       "      <td>123.0</td>\n",
       "      <td>1316.0</td>\n",
       "      <td>22.0</td>\n",
       "      <td>6070</td>\n",
       "    </tr>\n",
       "    <tr>\n",
       "      <th>...</th>\n",
       "      <td>...</td>\n",
       "      <td>...</td>\n",
       "      <td>...</td>\n",
       "      <td>...</td>\n",
       "      <td>...</td>\n",
       "      <td>...</td>\n",
       "      <td>...</td>\n",
       "      <td>...</td>\n",
       "      <td>...</td>\n",
       "      <td>...</td>\n",
       "      <td>...</td>\n",
       "      <td>...</td>\n",
       "      <td>...</td>\n",
       "      <td>...</td>\n",
       "      <td>...</td>\n",
       "      <td>...</td>\n",
       "      <td>...</td>\n",
       "      <td>...</td>\n",
       "      <td>...</td>\n",
       "      <td>...</td>\n",
       "      <td>...</td>\n",
       "    </tr>\n",
       "    <tr>\n",
       "      <th>3089</th>\n",
       "      <td>Wyoming</td>\n",
       "      <td>Sweetwater</td>\n",
       "      <td>43806</td>\n",
       "      <td>16475</td>\n",
       "      <td>11.841667</td>\n",
       "      <td>81835.083333</td>\n",
       "      <td>9400.240856</td>\n",
       "      <td>16730.468695</td>\n",
       "      <td>8914.971285</td>\n",
       "      <td>1816.028671</td>\n",
       "      <td>...</td>\n",
       "      <td>8.1</td>\n",
       "      <td>445.0</td>\n",
       "      <td>6878.0</td>\n",
       "      <td>32</td>\n",
       "      <td>16</td>\n",
       "      <td>469.0</td>\n",
       "      <td>159.0</td>\n",
       "      <td>1053.0</td>\n",
       "      <td>10.0</td>\n",
       "      <td>5641</td>\n",
       "    </tr>\n",
       "    <tr>\n",
       "      <th>3090</th>\n",
       "      <td>Wyoming</td>\n",
       "      <td>Teton</td>\n",
       "      <td>21294</td>\n",
       "      <td>8973</td>\n",
       "      <td>8.100000</td>\n",
       "      <td>89555.250000</td>\n",
       "      <td>3711.377493</td>\n",
       "      <td>3949.327991</td>\n",
       "      <td>2605.093461</td>\n",
       "      <td>972.594547</td>\n",
       "      <td>...</td>\n",
       "      <td>8.0</td>\n",
       "      <td>116.0</td>\n",
       "      <td>3728.0</td>\n",
       "      <td>13</td>\n",
       "      <td>12</td>\n",
       "      <td>104.0</td>\n",
       "      <td>NaN</td>\n",
       "      <td>558.0</td>\n",
       "      <td>8.0</td>\n",
       "      <td>3122</td>\n",
       "    </tr>\n",
       "    <tr>\n",
       "      <th>3091</th>\n",
       "      <td>Wyoming</td>\n",
       "      <td>Uinta</td>\n",
       "      <td>21118</td>\n",
       "      <td>7668</td>\n",
       "      <td>14.166667</td>\n",
       "      <td>65312.666667</td>\n",
       "      <td>758.694309</td>\n",
       "      <td>758.694309</td>\n",
       "      <td>13.350968</td>\n",
       "      <td>318.523395</td>\n",
       "      <td>...</td>\n",
       "      <td>7.5</td>\n",
       "      <td>234.0</td>\n",
       "      <td>7660.0</td>\n",
       "      <td>28</td>\n",
       "      <td>15</td>\n",
       "      <td>243.0</td>\n",
       "      <td>8.0</td>\n",
       "      <td>475.0</td>\n",
       "      <td>12.0</td>\n",
       "      <td>2804</td>\n",
       "    </tr>\n",
       "    <tr>\n",
       "      <th>3092</th>\n",
       "      <td>Wyoming</td>\n",
       "      <td>Washakie</td>\n",
       "      <td>8533</td>\n",
       "      <td>3492</td>\n",
       "      <td>14.133333</td>\n",
       "      <td>62213.666667</td>\n",
       "      <td>1057.246483</td>\n",
       "      <td>2537.470166</td>\n",
       "      <td>885.406917</td>\n",
       "      <td>359.634002</td>\n",
       "      <td>...</td>\n",
       "      <td>8.0</td>\n",
       "      <td>97.0</td>\n",
       "      <td>7294.0</td>\n",
       "      <td>28</td>\n",
       "      <td>14</td>\n",
       "      <td>156.0</td>\n",
       "      <td>7.0</td>\n",
       "      <td>174.0</td>\n",
       "      <td>16.0</td>\n",
       "      <td>1812</td>\n",
       "    </tr>\n",
       "    <tr>\n",
       "      <th>3093</th>\n",
       "      <td>Wyoming</td>\n",
       "      <td>Weston</td>\n",
       "      <td>7208</td>\n",
       "      <td>3021</td>\n",
       "      <td>12.100000</td>\n",
       "      <td>75233.000000</td>\n",
       "      <td>2225.791797</td>\n",
       "      <td>3377.924045</td>\n",
       "      <td>1564.687515</td>\n",
       "      <td>676.061144</td>\n",
       "      <td>...</td>\n",
       "      <td>8.0</td>\n",
       "      <td>88.0</td>\n",
       "      <td>8051.0</td>\n",
       "      <td>29</td>\n",
       "      <td>14</td>\n",
       "      <td>103.0</td>\n",
       "      <td>9.0</td>\n",
       "      <td>133.0</td>\n",
       "      <td>13.0</td>\n",
       "      <td>1447</td>\n",
       "    </tr>\n",
       "  </tbody>\n",
       "</table>\n",
       "<p>3094 rows × 34 columns</p>\n",
       "</div>"
      ],
      "text/plain": [
       "        State      County  POP2010  OHU2010  PovertyRate  MedianFamilyIncome  \\\n",
       "0     Alabama     Autauga    54571    20221    13.858333        61082.916667   \n",
       "1     Alabama     Baldwin   182265    73180    14.358065        60664.935484   \n",
       "2     Alabama     Barbour    27457     9820    24.533333        43123.000000   \n",
       "3     Alabama        Bibb    22915     7953    16.025000        43362.500000   \n",
       "4     Alabama      Blount    57322    21578    17.911111        52136.000000   \n",
       "...       ...         ...      ...      ...          ...                 ...   \n",
       "3089  Wyoming  Sweetwater    43806    16475    11.841667        81835.083333   \n",
       "3090  Wyoming       Teton    21294     8973     8.100000        89555.250000   \n",
       "3091  Wyoming       Uinta    21118     7668    14.166667        65312.666667   \n",
       "3092  Wyoming    Washakie     8533     3492    14.133333        62213.666667   \n",
       "3093  Wyoming      Weston     7208     3021    12.100000        75233.000000   \n",
       "\n",
       "         LAPOP1_10    LAPOP05_10     LAPOP1_20    LALOWI1_10  ...  \\\n",
       "0     18092.661348  30141.638549  11064.872922   6835.642497  ...   \n",
       "1     46400.350641  72307.849152  43486.806226  15459.848416  ...   \n",
       "2      6683.975691   9302.717960   1182.176872   3251.362574  ...   \n",
       "3       295.614426    295.614426      0.000000    164.903295  ...   \n",
       "4      5855.939161   7387.084978   3900.420369   2570.900481  ...   \n",
       "...            ...           ...           ...           ...  ...   \n",
       "3089   9400.240856  16730.468695   8914.971285   1816.028671  ...   \n",
       "3090   3711.377493   3949.327991   2605.093461    972.594547  ...   \n",
       "3091    758.694309    758.694309     13.350968    318.523395  ...   \n",
       "3092   1057.246483   2537.470166    885.406917    359.634002  ...   \n",
       "3093   2225.791797   3377.924045   1564.687515    676.061144  ...   \n",
       "\n",
       "      Food Environment Index  # Deaths  Years of Potential Life Lost Rate  \\\n",
       "0                        6.9     830.0                             9158.0   \n",
       "1                        7.5    2573.0                             7394.0   \n",
       "2                        4.9     413.0                             8573.0   \n",
       "3                        7.3     407.0                            11766.0   \n",
       "4                        8.3     906.0                             9333.0   \n",
       "...                      ...       ...                                ...   \n",
       "3089                     8.1     445.0                             6878.0   \n",
       "3090                     8.0     116.0                             3728.0   \n",
       "3091                     7.5     234.0                             7660.0   \n",
       "3092                     8.0      97.0                             7294.0   \n",
       "3093                     8.0      88.0                             8051.0   \n",
       "\n",
       "      % Obese  % Fair/Poor  # Diabetics  # Violent Crimes  # Unemployed  \\\n",
       "0          34           18        711.0             145.0        1327.0   \n",
       "1          27           16       2615.0             415.0        4791.0   \n",
       "2          44           25        525.0              85.0         771.0   \n",
       "3          40           20        333.0              33.0         561.0   \n",
       "4          35           19        705.0             123.0        1316.0   \n",
       "...       ...          ...          ...               ...           ...   \n",
       "3089       32           16        469.0             159.0        1053.0   \n",
       "3090       13           12        104.0               NaN         558.0   \n",
       "3091       28           15        243.0               8.0         475.0   \n",
       "3092       28           14        156.0               7.0         174.0   \n",
       "3093       29           14        103.0               9.0         133.0   \n",
       "\n",
       "      % Children in Poverty  Original Medicare  \n",
       "0                      19.0               5784  \n",
       "1                      20.0              28388  \n",
       "2                      45.0               4372  \n",
       "3                      29.0               2480  \n",
       "4                      22.0               6070  \n",
       "...                     ...                ...  \n",
       "3089                   10.0               5641  \n",
       "3090                    8.0               3122  \n",
       "3091                   12.0               2804  \n",
       "3092                   16.0               1812  \n",
       "3093                   13.0               1447  \n",
       "\n",
       "[3094 rows x 34 columns]"
      ]
     },
     "execution_count": 4,
     "metadata": {},
     "output_type": "execute_result"
    }
   ],
   "source": [
    "#Combine combined_df and medicare_df\n",
    "combined_med_df=pd.DataFrame.merge(combined_df,medicare_df, on = [\"State\",\"County\"])\n",
    "combined_med_df"
   ]
  },
  {
   "cell_type": "code",
   "execution_count": 5,
   "metadata": {},
   "outputs": [],
   "source": [
    "#Convert \"Original Medicare to String\n",
    "\n",
    "combined_med_df[[\"Original Medicare\"]]=combined_med_df[[\"Original Medicare\"]].apply(pd.to_numeric)\n"
   ]
  },
  {
   "cell_type": "code",
   "execution_count": 6,
   "metadata": {},
   "outputs": [
    {
     "data": {
      "text/html": [
       "<div>\n",
       "<style scoped>\n",
       "    .dataframe tbody tr th:only-of-type {\n",
       "        vertical-align: middle;\n",
       "    }\n",
       "\n",
       "    .dataframe tbody tr th {\n",
       "        vertical-align: top;\n",
       "    }\n",
       "\n",
       "    .dataframe thead th {\n",
       "        text-align: right;\n",
       "    }\n",
       "</style>\n",
       "<table border=\"1\" class=\"dataframe\">\n",
       "  <thead>\n",
       "    <tr style=\"text-align: right;\">\n",
       "      <th></th>\n",
       "      <th>State</th>\n",
       "      <th>County</th>\n",
       "      <th>POP2010</th>\n",
       "      <th>OHU2010</th>\n",
       "      <th>PovertyRate</th>\n",
       "      <th>MedianFamilyIncome</th>\n",
       "      <th>LAPOP1_10</th>\n",
       "      <th>LAPOP05_10</th>\n",
       "      <th>LAPOP1_20</th>\n",
       "      <th>LALOWI1_10</th>\n",
       "      <th>...</th>\n",
       "      <th>TractSNAP</th>\n",
       "      <th>Food Environment Index</th>\n",
       "      <th># Deaths</th>\n",
       "      <th>Years of Potential Life Lost Rate</th>\n",
       "      <th>% Obese</th>\n",
       "      <th>% Fair/Poor</th>\n",
       "      <th># Diabetics</th>\n",
       "      <th># Violent Crimes</th>\n",
       "      <th># Unemployed</th>\n",
       "      <th>% Children in Poverty</th>\n",
       "    </tr>\n",
       "  </thead>\n",
       "  <tbody>\n",
       "    <tr>\n",
       "      <th>0</th>\n",
       "      <td>Alabama</td>\n",
       "      <td>Autauga</td>\n",
       "      <td>54571</td>\n",
       "      <td>20221</td>\n",
       "      <td>13.858333</td>\n",
       "      <td>61082.916667</td>\n",
       "      <td>18092.661348</td>\n",
       "      <td>30141.638549</td>\n",
       "      <td>11064.872922</td>\n",
       "      <td>6835.642497</td>\n",
       "      <td>...</td>\n",
       "      <td>2682</td>\n",
       "      <td>6.9</td>\n",
       "      <td>830.0</td>\n",
       "      <td>9158.0</td>\n",
       "      <td>34</td>\n",
       "      <td>18</td>\n",
       "      <td>711.0</td>\n",
       "      <td>145.0</td>\n",
       "      <td>1327.0</td>\n",
       "      <td>19.0</td>\n",
       "    </tr>\n",
       "    <tr>\n",
       "      <th>1</th>\n",
       "      <td>Alabama</td>\n",
       "      <td>Baldwin</td>\n",
       "      <td>182265</td>\n",
       "      <td>73180</td>\n",
       "      <td>14.358065</td>\n",
       "      <td>60664.935484</td>\n",
       "      <td>46400.350641</td>\n",
       "      <td>72307.849152</td>\n",
       "      <td>43486.806226</td>\n",
       "      <td>15459.848416</td>\n",
       "      <td>...</td>\n",
       "      <td>6471</td>\n",
       "      <td>7.5</td>\n",
       "      <td>2573.0</td>\n",
       "      <td>7394.0</td>\n",
       "      <td>27</td>\n",
       "      <td>16</td>\n",
       "      <td>2615.0</td>\n",
       "      <td>415.0</td>\n",
       "      <td>4791.0</td>\n",
       "      <td>20.0</td>\n",
       "    </tr>\n",
       "    <tr>\n",
       "      <th>2</th>\n",
       "      <td>Alabama</td>\n",
       "      <td>Barbour</td>\n",
       "      <td>27457</td>\n",
       "      <td>9820</td>\n",
       "      <td>24.533333</td>\n",
       "      <td>43123.000000</td>\n",
       "      <td>6683.975691</td>\n",
       "      <td>9302.717960</td>\n",
       "      <td>1182.176872</td>\n",
       "      <td>3251.362574</td>\n",
       "      <td>...</td>\n",
       "      <td>2097</td>\n",
       "      <td>4.9</td>\n",
       "      <td>413.0</td>\n",
       "      <td>8573.0</td>\n",
       "      <td>44</td>\n",
       "      <td>25</td>\n",
       "      <td>525.0</td>\n",
       "      <td>85.0</td>\n",
       "      <td>771.0</td>\n",
       "      <td>45.0</td>\n",
       "    </tr>\n",
       "    <tr>\n",
       "      <th>3</th>\n",
       "      <td>Alabama</td>\n",
       "      <td>Bibb</td>\n",
       "      <td>22915</td>\n",
       "      <td>7953</td>\n",
       "      <td>16.025000</td>\n",
       "      <td>43362.500000</td>\n",
       "      <td>295.614426</td>\n",
       "      <td>295.614426</td>\n",
       "      <td>0.000000</td>\n",
       "      <td>164.903295</td>\n",
       "      <td>...</td>\n",
       "      <td>1125</td>\n",
       "      <td>7.3</td>\n",
       "      <td>407.0</td>\n",
       "      <td>11766.0</td>\n",
       "      <td>40</td>\n",
       "      <td>20</td>\n",
       "      <td>333.0</td>\n",
       "      <td>33.0</td>\n",
       "      <td>561.0</td>\n",
       "      <td>29.0</td>\n",
       "    </tr>\n",
       "    <tr>\n",
       "      <th>4</th>\n",
       "      <td>Alabama</td>\n",
       "      <td>Blount</td>\n",
       "      <td>57322</td>\n",
       "      <td>21578</td>\n",
       "      <td>17.911111</td>\n",
       "      <td>52136.000000</td>\n",
       "      <td>5855.939161</td>\n",
       "      <td>7387.084978</td>\n",
       "      <td>3900.420369</td>\n",
       "      <td>2570.900481</td>\n",
       "      <td>...</td>\n",
       "      <td>2900</td>\n",
       "      <td>8.3</td>\n",
       "      <td>906.0</td>\n",
       "      <td>9333.0</td>\n",
       "      <td>35</td>\n",
       "      <td>19</td>\n",
       "      <td>705.0</td>\n",
       "      <td>123.0</td>\n",
       "      <td>1316.0</td>\n",
       "      <td>22.0</td>\n",
       "    </tr>\n",
       "    <tr>\n",
       "      <th>...</th>\n",
       "      <td>...</td>\n",
       "      <td>...</td>\n",
       "      <td>...</td>\n",
       "      <td>...</td>\n",
       "      <td>...</td>\n",
       "      <td>...</td>\n",
       "      <td>...</td>\n",
       "      <td>...</td>\n",
       "      <td>...</td>\n",
       "      <td>...</td>\n",
       "      <td>...</td>\n",
       "      <td>...</td>\n",
       "      <td>...</td>\n",
       "      <td>...</td>\n",
       "      <td>...</td>\n",
       "      <td>...</td>\n",
       "      <td>...</td>\n",
       "      <td>...</td>\n",
       "      <td>...</td>\n",
       "      <td>...</td>\n",
       "      <td>...</td>\n",
       "    </tr>\n",
       "    <tr>\n",
       "      <th>3093</th>\n",
       "      <td>Wyoming</td>\n",
       "      <td>Sweetwater</td>\n",
       "      <td>43806</td>\n",
       "      <td>16475</td>\n",
       "      <td>11.841667</td>\n",
       "      <td>81835.083333</td>\n",
       "      <td>9400.240856</td>\n",
       "      <td>16730.468695</td>\n",
       "      <td>8914.971285</td>\n",
       "      <td>1816.028671</td>\n",
       "      <td>...</td>\n",
       "      <td>835</td>\n",
       "      <td>8.1</td>\n",
       "      <td>445.0</td>\n",
       "      <td>6878.0</td>\n",
       "      <td>32</td>\n",
       "      <td>16</td>\n",
       "      <td>469.0</td>\n",
       "      <td>159.0</td>\n",
       "      <td>1053.0</td>\n",
       "      <td>10.0</td>\n",
       "    </tr>\n",
       "    <tr>\n",
       "      <th>3094</th>\n",
       "      <td>Wyoming</td>\n",
       "      <td>Teton</td>\n",
       "      <td>21294</td>\n",
       "      <td>8973</td>\n",
       "      <td>8.100000</td>\n",
       "      <td>89555.250000</td>\n",
       "      <td>3711.377493</td>\n",
       "      <td>3949.327991</td>\n",
       "      <td>2605.093461</td>\n",
       "      <td>972.594547</td>\n",
       "      <td>...</td>\n",
       "      <td>128</td>\n",
       "      <td>8.0</td>\n",
       "      <td>116.0</td>\n",
       "      <td>3728.0</td>\n",
       "      <td>13</td>\n",
       "      <td>12</td>\n",
       "      <td>104.0</td>\n",
       "      <td>NaN</td>\n",
       "      <td>558.0</td>\n",
       "      <td>8.0</td>\n",
       "    </tr>\n",
       "    <tr>\n",
       "      <th>3095</th>\n",
       "      <td>Wyoming</td>\n",
       "      <td>Uinta</td>\n",
       "      <td>21118</td>\n",
       "      <td>7668</td>\n",
       "      <td>14.166667</td>\n",
       "      <td>65312.666667</td>\n",
       "      <td>758.694309</td>\n",
       "      <td>758.694309</td>\n",
       "      <td>13.350968</td>\n",
       "      <td>318.523395</td>\n",
       "      <td>...</td>\n",
       "      <td>621</td>\n",
       "      <td>7.5</td>\n",
       "      <td>234.0</td>\n",
       "      <td>7660.0</td>\n",
       "      <td>28</td>\n",
       "      <td>15</td>\n",
       "      <td>243.0</td>\n",
       "      <td>8.0</td>\n",
       "      <td>475.0</td>\n",
       "      <td>12.0</td>\n",
       "    </tr>\n",
       "    <tr>\n",
       "      <th>3096</th>\n",
       "      <td>Wyoming</td>\n",
       "      <td>Washakie</td>\n",
       "      <td>8533</td>\n",
       "      <td>3492</td>\n",
       "      <td>14.133333</td>\n",
       "      <td>62213.666667</td>\n",
       "      <td>1057.246483</td>\n",
       "      <td>2537.470166</td>\n",
       "      <td>885.406917</td>\n",
       "      <td>359.634002</td>\n",
       "      <td>...</td>\n",
       "      <td>337</td>\n",
       "      <td>8.0</td>\n",
       "      <td>97.0</td>\n",
       "      <td>7294.0</td>\n",
       "      <td>28</td>\n",
       "      <td>14</td>\n",
       "      <td>156.0</td>\n",
       "      <td>7.0</td>\n",
       "      <td>174.0</td>\n",
       "      <td>16.0</td>\n",
       "    </tr>\n",
       "    <tr>\n",
       "      <th>3097</th>\n",
       "      <td>Wyoming</td>\n",
       "      <td>Weston</td>\n",
       "      <td>7208</td>\n",
       "      <td>3021</td>\n",
       "      <td>12.100000</td>\n",
       "      <td>75233.000000</td>\n",
       "      <td>2225.791797</td>\n",
       "      <td>3377.924045</td>\n",
       "      <td>1564.687515</td>\n",
       "      <td>676.061144</td>\n",
       "      <td>...</td>\n",
       "      <td>218</td>\n",
       "      <td>8.0</td>\n",
       "      <td>88.0</td>\n",
       "      <td>8051.0</td>\n",
       "      <td>29</td>\n",
       "      <td>14</td>\n",
       "      <td>103.0</td>\n",
       "      <td>9.0</td>\n",
       "      <td>133.0</td>\n",
       "      <td>13.0</td>\n",
       "    </tr>\n",
       "  </tbody>\n",
       "</table>\n",
       "<p>3098 rows × 33 columns</p>\n",
       "</div>"
      ],
      "text/plain": [
       "        State      County  POP2010  OHU2010  PovertyRate  MedianFamilyIncome  \\\n",
       "0     Alabama     Autauga    54571    20221    13.858333        61082.916667   \n",
       "1     Alabama     Baldwin   182265    73180    14.358065        60664.935484   \n",
       "2     Alabama     Barbour    27457     9820    24.533333        43123.000000   \n",
       "3     Alabama        Bibb    22915     7953    16.025000        43362.500000   \n",
       "4     Alabama      Blount    57322    21578    17.911111        52136.000000   \n",
       "...       ...         ...      ...      ...          ...                 ...   \n",
       "3093  Wyoming  Sweetwater    43806    16475    11.841667        81835.083333   \n",
       "3094  Wyoming       Teton    21294     8973     8.100000        89555.250000   \n",
       "3095  Wyoming       Uinta    21118     7668    14.166667        65312.666667   \n",
       "3096  Wyoming    Washakie     8533     3492    14.133333        62213.666667   \n",
       "3097  Wyoming      Weston     7208     3021    12.100000        75233.000000   \n",
       "\n",
       "         LAPOP1_10    LAPOP05_10     LAPOP1_20    LALOWI1_10  ...  TractSNAP  \\\n",
       "0     18092.661348  30141.638549  11064.872922   6835.642497  ...       2682   \n",
       "1     46400.350641  72307.849152  43486.806226  15459.848416  ...       6471   \n",
       "2      6683.975691   9302.717960   1182.176872   3251.362574  ...       2097   \n",
       "3       295.614426    295.614426      0.000000    164.903295  ...       1125   \n",
       "4      5855.939161   7387.084978   3900.420369   2570.900481  ...       2900   \n",
       "...            ...           ...           ...           ...  ...        ...   \n",
       "3093   9400.240856  16730.468695   8914.971285   1816.028671  ...        835   \n",
       "3094   3711.377493   3949.327991   2605.093461    972.594547  ...        128   \n",
       "3095    758.694309    758.694309     13.350968    318.523395  ...        621   \n",
       "3096   1057.246483   2537.470166    885.406917    359.634002  ...        337   \n",
       "3097   2225.791797   3377.924045   1564.687515    676.061144  ...        218   \n",
       "\n",
       "      Food Environment Index  # Deaths  Years of Potential Life Lost Rate  \\\n",
       "0                        6.9     830.0                             9158.0   \n",
       "1                        7.5    2573.0                             7394.0   \n",
       "2                        4.9     413.0                             8573.0   \n",
       "3                        7.3     407.0                            11766.0   \n",
       "4                        8.3     906.0                             9333.0   \n",
       "...                      ...       ...                                ...   \n",
       "3093                     8.1     445.0                             6878.0   \n",
       "3094                     8.0     116.0                             3728.0   \n",
       "3095                     7.5     234.0                             7660.0   \n",
       "3096                     8.0      97.0                             7294.0   \n",
       "3097                     8.0      88.0                             8051.0   \n",
       "\n",
       "      % Obese  % Fair/Poor  # Diabetics  # Violent Crimes  # Unemployed  \\\n",
       "0          34           18        711.0             145.0        1327.0   \n",
       "1          27           16       2615.0             415.0        4791.0   \n",
       "2          44           25        525.0              85.0         771.0   \n",
       "3          40           20        333.0              33.0         561.0   \n",
       "4          35           19        705.0             123.0        1316.0   \n",
       "...       ...          ...          ...               ...           ...   \n",
       "3093       32           16        469.0             159.0        1053.0   \n",
       "3094       13           12        104.0               NaN         558.0   \n",
       "3095       28           15        243.0               8.0         475.0   \n",
       "3096       28           14        156.0               7.0         174.0   \n",
       "3097       29           14        103.0               9.0         133.0   \n",
       "\n",
       "      % Children in Poverty  \n",
       "0                      19.0  \n",
       "1                      20.0  \n",
       "2                      45.0  \n",
       "3                      29.0  \n",
       "4                      22.0  \n",
       "...                     ...  \n",
       "3093                   10.0  \n",
       "3094                    8.0  \n",
       "3095                   12.0  \n",
       "3096                   16.0  \n",
       "3097                   13.0  \n",
       "\n",
       "[3098 rows x 33 columns]"
      ]
     },
     "execution_count": 6,
     "metadata": {},
     "output_type": "execute_result"
    }
   ],
   "source": [
    "#Read data from CSV\n",
    "combined_df = pd.read_csv(combined_path)\n",
    "combined_df"
   ]
  },
  {
   "cell_type": "code",
   "execution_count": 7,
   "metadata": {},
   "outputs": [
    {
     "name": "stdout",
     "output_type": "stream",
     "text": [
      "The national Food Environment Index Average is: 7.025338928340858\n"
     ]
    }
   ],
   "source": [
    "#FOOD ENVIRONMENT INDEX:\n",
    "\n",
    "#Find the mean of the food environment index:\n",
    "food_env_avg = combined_df[\"Food Environment Index\"].mean()\n",
    "print(\"The national Food Environment Index Average is: \" + str(food_env_avg))"
   ]
  },
  {
   "cell_type": "code",
   "execution_count": 8,
   "metadata": {},
   "outputs": [
    {
     "name": "stdout",
     "output_type": "stream",
     "text": [
      "The national Food Environment Index Median is: 7.3\n"
     ]
    }
   ],
   "source": [
    "#Find the median of the food environment index:\n",
    "food_env_med = combined_df[\"Food Environment Index\"].median()\n",
    "print(\"The national Food Environment Index Median is: \" + str(food_env_med))"
   ]
  },
  {
   "cell_type": "code",
   "execution_count": 9,
   "metadata": {},
   "outputs": [
    {
     "data": {
      "text/plain": [
       "count    3098.000000\n",
       "mean        7.025339\n",
       "std         1.258195\n",
       "min         0.000000\n",
       "25%         6.400000\n",
       "50%         7.300000\n",
       "75%         7.900000\n",
       "max        10.000000\n",
       "Name: Food Environment Index, dtype: float64"
      ]
     },
     "execution_count": 9,
     "metadata": {},
     "output_type": "execute_result"
    }
   ],
   "source": [
    "#FOOD ENVIRONMENT INDEX \n",
    "\n",
    "#Find the stats of the food environment index:\n",
    "food_env_stats = combined_df[\"Food Environment Index\"].describe()\n",
    "food_env_stats"
   ]
  },
  {
   "cell_type": "code",
   "execution_count": 10,
   "metadata": {},
   "outputs": [
    {
     "data": {
      "text/plain": [
       "6.4"
      ]
     },
     "execution_count": 10,
     "metadata": {},
     "output_type": "execute_result"
    }
   ],
   "source": [
    "#Calculate the 0.25 quantile. This is what will be used for the poor environment cutoff.\n",
    "bottomquartile = combined_df[\"Food Environment Index\"].quantile(q=0.25)\n",
    "bottomquartile"
   ]
  },
  {
   "cell_type": "code",
   "execution_count": 11,
   "metadata": {},
   "outputs": [],
   "source": [
    "#Group the food environments into \"healthy\" or \"poor\" environments based on the cutoff\n",
    "healthy_env=combined_df.loc[combined_df[\"Food Environment Index\"]>=bottomquartile]\n",
    "poor_env=combined_df.loc[combined_df[\"Food Environment Index\"]<bottomquartile]"
   ]
  },
  {
   "cell_type": "code",
   "execution_count": 12,
   "metadata": {},
   "outputs": [],
   "source": [
    "#Creating bins based on max/min student budget values\n",
    "bins = [0, float(bottomquartile), 10]\n",
    "#bin names\n",
    "ranges = [\"Poor\", \"Healthy\"]"
   ]
  },
  {
   "cell_type": "code",
   "execution_count": 13,
   "metadata": {},
   "outputs": [
    {
     "data": {
      "text/plain": [
       "0       Healthy\n",
       "1       Healthy\n",
       "2          Poor\n",
       "3       Healthy\n",
       "4       Healthy\n",
       "         ...   \n",
       "3089    Healthy\n",
       "3090    Healthy\n",
       "3091    Healthy\n",
       "3092    Healthy\n",
       "3093    Healthy\n",
       "Name: Food Environment Index, Length: 3094, dtype: category\n",
       "Categories (2, object): [Poor < Healthy]"
      ]
     },
     "execution_count": 13,
     "metadata": {},
     "output_type": "execute_result"
    }
   ],
   "source": [
    "#Slicing the data and placing into bins\n",
    "pd.cut(combined_med_df[\"Food Environment Index\"], bins, labels=ranges)"
   ]
  },
  {
   "cell_type": "code",
   "execution_count": 14,
   "metadata": {},
   "outputs": [],
   "source": [
    "#Creating a column for food environment categories\n",
    "combined_med_df[\"Environment Category\"] = pd.cut(combined_med_df[\"Food Environment Index\"], bins=bins, labels=ranges)\n",
    "combined_med_df.reset_index(drop=True,inplace=True)"
   ]
  },
  {
   "cell_type": "code",
   "execution_count": 15,
   "metadata": {},
   "outputs": [],
   "source": [
    "#Creating series for each parameter. Calculating the sum for Medicare enrollees and # of diabetics per category enrollment.\n",
    "population_sum = combined_med_df.groupby(\"Environment Category\")[\"Original Medicare\"].sum()\n",
    "diabetics_sum = combined_med_df.groupby(\"Environment Category\")[\"# Diabetics\"].sum()"
   ]
  },
  {
   "cell_type": "code",
   "execution_count": 16,
   "metadata": {},
   "outputs": [],
   "source": [
    "#Create dataframe to hold data\n",
    "popsum_byenv_df = pd.DataFrame(\n",
    "    {\"Medicare Population Total\": population_sum,\n",
    "    \"Medicare Diabetic Total\": diabetics_sum})"
   ]
  },
  {
   "cell_type": "code",
   "execution_count": 17,
   "metadata": {},
   "outputs": [
    {
     "data": {
      "text/html": [
       "<div>\n",
       "<style scoped>\n",
       "    .dataframe tbody tr th:only-of-type {\n",
       "        vertical-align: middle;\n",
       "    }\n",
       "\n",
       "    .dataframe tbody tr th {\n",
       "        vertical-align: top;\n",
       "    }\n",
       "\n",
       "    .dataframe thead th {\n",
       "        text-align: right;\n",
       "    }\n",
       "</style>\n",
       "<table border=\"1\" class=\"dataframe\">\n",
       "  <thead>\n",
       "    <tr style=\"text-align: right;\">\n",
       "      <th></th>\n",
       "      <th>Environment Category</th>\n",
       "      <th>Medicare Population Total</th>\n",
       "      <th>Medicare Diabetic Total</th>\n",
       "      <th>Percent Diabetic</th>\n",
       "    </tr>\n",
       "  </thead>\n",
       "  <tbody>\n",
       "    <tr>\n",
       "      <th>0</th>\n",
       "      <td>Poor</td>\n",
       "      <td>6314323</td>\n",
       "      <td>630891.0</td>\n",
       "      <td>9.991427</td>\n",
       "    </tr>\n",
       "    <tr>\n",
       "      <th>1</th>\n",
       "      <td>Healthy</td>\n",
       "      <td>31222101</td>\n",
       "      <td>2637842.0</td>\n",
       "      <td>8.448637</td>\n",
       "    </tr>\n",
       "  </tbody>\n",
       "</table>\n",
       "</div>"
      ],
      "text/plain": [
       "  Environment Category  Medicare Population Total  Medicare Diabetic Total  \\\n",
       "0                 Poor                    6314323                 630891.0   \n",
       "1              Healthy                   31222101                2637842.0   \n",
       "\n",
       "   Percent Diabetic  \n",
       "0          9.991427  \n",
       "1          8.448637  "
      ]
     },
     "execution_count": 17,
     "metadata": {},
     "output_type": "execute_result"
    }
   ],
   "source": [
    "#Adding Percent Diabetic with Medicare\n",
    "popsum_byenv_df[\"Percent Diabetic\"]=(popsum_byenv_df[\"Medicare Diabetic Total\"]/popsum_byenv_df[\"Medicare Population Total\"])*100\n",
    "percent_diabetic_df=popsum_byenv_df.reset_index()\n",
    "percent_diabetic_df"
   ]
  },
  {
   "cell_type": "code",
   "execution_count": 18,
   "metadata": {},
   "outputs": [],
   "source": [
    "#Pie plot for Poor Food Environment\n",
    "\n",
    "#Generate pie plot using pyplot\n",
    "#Designating data to draw upon\n",
    "labels = [\"Diabetic\",\"Non-Diabetic\"]\n",
    "sizes =  [630891,5683432]\n",
    "colors = [\"gold\", \"lightskyblue\"]\n",
    "explode = (0.1,0)"
   ]
  },
  {
   "cell_type": "code",
   "execution_count": 19,
   "metadata": {},
   "outputs": [
    {
     "data": {
      "text/plain": [
       "Text(0.5, 1.0, 'Percent of Medicare Enrollment Diabetic - Poor Food Environment')"
      ]
     },
     "execution_count": 19,
     "metadata": {},
     "output_type": "execute_result"
    },
    {
     "data": {
      "image/png": "[encoded data removed]",
      "text/plain": [
       "<Figure size 432x288 with 1 Axes>"
      ]
     },
     "metadata": {},
     "output_type": "display_data"
    }
   ],
   "source": [
    "#Creating the pie chart based on the values above\n",
    "plt.pie(sizes, explode = explode, labels=labels, colors=colors, autopct=\"%1.1f%%\", shadow=True)\n",
    "plt.title(\"Percent of Medicare Enrollment Diabetic - Poor Food Environment\")"
   ]
  },
  {
   "cell_type": "code",
   "execution_count": 20,
   "metadata": {},
   "outputs": [],
   "source": [
    "#Pie plot for Healthy Food Environment\n",
    "\n",
    "#Generate pie plot using pyplot\n",
    "#Designating data to draw upon\n",
    "labels = [\"Diabetic\",\"Non-Diabetic\"]\n",
    "sizes =  [2637842,28584259]\n",
    "colors = [\"slateblue\", \"thistle\"]\n",
    "explode = (0.1,0)"
   ]
  },
  {
   "cell_type": "code",
   "execution_count": 21,
   "metadata": {},
   "outputs": [
    {
     "data": {
      "text/plain": [
       "Text(0.5, 1.0, 'Percent of Medicare Enrollment Diabetic - Healthy Food Environment')"
      ]
     },
     "execution_count": 21,
     "metadata": {},
     "output_type": "execute_result"
    },
    {
     "data": {
      "image/png": "[encoded data removed]",
      "text/plain": [
       "<Figure size 432x288 with 1 Axes>"
      ]
     },
     "metadata": {},
     "output_type": "display_data"
    }
   ],
   "source": [
    "#Creating the pie chart based on the values above\n",
    "plt.pie(sizes, explode = explode, labels=labels, colors=colors, autopct=\"%1.1f%%\", shadow=True)\n",
    "plt.title(\"Percent of Medicare Enrollment Diabetic - Healthy Food Environment\")"
   ]
  },
  {
   "cell_type": "code",
   "execution_count": 22,
   "metadata": {},
   "outputs": [
    {
     "data": {
      "text/plain": [
       "5.5"
      ]
     },
     "execution_count": 22,
     "metadata": {},
     "output_type": "execute_result"
    }
   ],
   "source": [
    "#Calculate the 0.10 quantile. This is what will be used for the poor environment cutoff.\n",
    "#According to The Locator, 10% of the roughly 65,000 census tracts in the US are food deserts.\n",
    "bottomten = combined_df[\"Food Environment Index\"].quantile(q=0.10)\n",
    "bottomten"
   ]
  },
  {
   "cell_type": "code",
   "execution_count": 23,
   "metadata": {},
   "outputs": [],
   "source": [
    "#Group the food environments into \"healthy\" or \"poor\" environments based on the cutoff\n",
    "healthy_ninety=combined_df.loc[combined_df[\"Food Environment Index\"]>=bottomten]\n",
    "poor_ten=combined_df.loc[combined_df[\"Food Environment Index\"]<bottomten]"
   ]
  },
  {
   "cell_type": "code",
   "execution_count": 24,
   "metadata": {},
   "outputs": [],
   "source": [
    "#Creating bins based on max/min student budget values\n",
    "bins = [0, float(bottomten), 10]\n",
    "#bin names\n",
    "ranges = [\"Food Desert\", \"Healthy\"]"
   ]
  },
  {
   "cell_type": "code",
   "execution_count": 25,
   "metadata": {},
   "outputs": [],
   "source": [
    "#Slicing the data and placing into bins\n",
    "binned_if_desert = pd.cut(combined_med_df[\"Food Environment Index\"], bins, labels=ranges)"
   ]
  },
  {
   "cell_type": "code",
   "execution_count": 26,
   "metadata": {},
   "outputs": [],
   "source": [
    "#Creating a column for food environment categories\n",
    "combined_med_df[\"Environment Category\"] = binned_if_desert\n",
    "combined_med_df.reset_index(drop=True,inplace=True)"
   ]
  },
  {
   "cell_type": "code",
   "execution_count": 27,
   "metadata": {},
   "outputs": [],
   "source": [
    "#Creating series for each parameter. Calculating the sum for Medicare enrollees and # of diabetics per category enrollment.\n",
    "population_total = combined_med_df.groupby(\"Environment Category\")[\"Original Medicare\"].sum()\n",
    "diabetics_total = combined_med_df.groupby(\"Environment Category\")[\"# Diabetics\"].sum()"
   ]
  },
  {
   "cell_type": "code",
   "execution_count": 28,
   "metadata": {},
   "outputs": [],
   "source": [
    "#Create dataframe to hold data\n",
    "popsum_byenv__deserts_df = pd.DataFrame(\n",
    "    {\"Medicare Population Total\": population_total,\n",
    "    \"Medicare Diabetic Total\": diabetics_total})"
   ]
  },
  {
   "cell_type": "code",
   "execution_count": 29,
   "metadata": {},
   "outputs": [
    {
     "data": {
      "text/html": [
       "<div>\n",
       "<style scoped>\n",
       "    .dataframe tbody tr th:only-of-type {\n",
       "        vertical-align: middle;\n",
       "    }\n",
       "\n",
       "    .dataframe tbody tr th {\n",
       "        vertical-align: top;\n",
       "    }\n",
       "\n",
       "    .dataframe thead th {\n",
       "        text-align: right;\n",
       "    }\n",
       "</style>\n",
       "<table border=\"1\" class=\"dataframe\">\n",
       "  <thead>\n",
       "    <tr style=\"text-align: right;\">\n",
       "      <th></th>\n",
       "      <th>Environment Category</th>\n",
       "      <th>Medicare Population Total</th>\n",
       "      <th>Medicare Diabetic Total</th>\n",
       "      <th>Percent Diabetic</th>\n",
       "    </tr>\n",
       "  </thead>\n",
       "  <tbody>\n",
       "    <tr>\n",
       "      <th>0</th>\n",
       "      <td>Food Desert</td>\n",
       "      <td>1563000</td>\n",
       "      <td>159982.0</td>\n",
       "      <td>10.235573</td>\n",
       "    </tr>\n",
       "    <tr>\n",
       "      <th>1</th>\n",
       "      <td>Healthy</td>\n",
       "      <td>35973424</td>\n",
       "      <td>3108751.0</td>\n",
       "      <td>8.641799</td>\n",
       "    </tr>\n",
       "  </tbody>\n",
       "</table>\n",
       "</div>"
      ],
      "text/plain": [
       "  Environment Category  Medicare Population Total  Medicare Diabetic Total  \\\n",
       "0          Food Desert                    1563000                 159982.0   \n",
       "1              Healthy                   35973424                3108751.0   \n",
       "\n",
       "   Percent Diabetic  \n",
       "0         10.235573  \n",
       "1          8.641799  "
      ]
     },
     "execution_count": 29,
     "metadata": {},
     "output_type": "execute_result"
    }
   ],
   "source": [
    "#Adding Percent Diabetic with Medicare\n",
    "popsum_byenv__deserts_df[\"Percent Diabetic\"]=(popsum_byenv__deserts_df[\"Medicare Diabetic Total\"]/popsum_byenv__deserts_df[\"Medicare Population Total\"])*100\n",
    "percent_diabetic2_df=popsum_byenv__deserts_df.reset_index()\n",
    "percent_diabetic2_df"
   ]
  },
  {
   "cell_type": "code",
   "execution_count": 30,
   "metadata": {},
   "outputs": [],
   "source": [
    "#Pie plot for Food Desert Environment\n",
    "\n",
    "#Generate pie plot using pyplot\n",
    "#Designating data to draw upon\n",
    "labels = [\"Diabetic\",\"Non-Diabetic\"]\n",
    "sizes =  [159982,1403018]\n",
    "colors = [\"gold\", \"lightskyblue\"]\n",
    "explode = (0.1,0)"
   ]
  },
  {
   "cell_type": "code",
   "execution_count": 31,
   "metadata": {},
   "outputs": [
    {
     "data": {
      "text/plain": [
       "Text(0.5, 1.0, 'Percent of Medicare Enrollment Diabetic - Food Desert')"
      ]
     },
     "execution_count": 31,
     "metadata": {},
     "output_type": "execute_result"
    },
    {
     "data": {
      "image/png": "[encoded data removed]",
      "text/plain": [
       "<Figure size 432x288 with 1 Axes>"
      ]
     },
     "metadata": {},
     "output_type": "display_data"
    }
   ],
   "source": [
    "#Creating the pie chart based on the values above\n",
    "plt.pie(sizes, explode = explode, labels=labels, colors=colors, autopct=\"%1.1f%%\", shadow=True)\n",
    "plt.title(\"Percent of Medicare Enrollment Diabetic - Food Desert\")"
   ]
  },
  {
   "cell_type": "code",
   "execution_count": 32,
   "metadata": {},
   "outputs": [],
   "source": [
    "#Pie plot for Healthy Food Environment\n",
    "\n",
    "#Generate pie plot using pyplot\n",
    "#Designating data to draw upon\n",
    "labels = [\"Diabetic\",\"Non-Diabetic\"]\n",
    "sizes =  [3108751,32864673]\n",
    "colors = [\"slateblue\", \"thistle\"]\n",
    "explode = (0.1,0)"
   ]
  },
  {
   "cell_type": "code",
   "execution_count": 33,
   "metadata": {},
   "outputs": [
    {
     "data": {
      "text/plain": [
       "Text(0.5, 1.0, 'Percent of Medicare Enrollment Diabetic - Non Food Desert')"
      ]
     },
     "execution_count": 33,
     "metadata": {},
     "output_type": "execute_result"
    },
    {
     "data": {
      "image/png": "[encoded data removed]",
      "text/plain": [
       "<Figure size 432x288 with 1 Axes>"
      ]
     },
     "metadata": {},
     "output_type": "display_data"
    }
   ],
   "source": [
    "#Creating the pie chart based on the values above\n",
    "plt.pie(sizes, explode = explode, labels=labels, colors=colors, autopct=\"%1.1f%%\", shadow=True)\n",
    "plt.title(\"Percent of Medicare Enrollment Diabetic - Non Food Desert\")"
   ]
  },
  {
   "cell_type": "code",
   "execution_count": 34,
   "metadata": {},
   "outputs": [],
   "source": [
    "#Obesity"
   ]
  },
  {
   "cell_type": "code",
   "execution_count": null,
   "metadata": {},
   "outputs": [],
   "source": []
  },
  {
   "cell_type": "code",
   "execution_count": null,
   "metadata": {},
   "outputs": [],
   "source": []
  },
  {
   "cell_type": "code",
   "execution_count": null,
   "metadata": {},
   "outputs": [],
   "source": []
  },
  {
   "cell_type": "code",
   "execution_count": null,
   "metadata": {},
   "outputs": [],
   "source": []
  },
  {
   "cell_type": "code",
   "execution_count": null,
   "metadata": {},
   "outputs": [],
   "source": []
  },
  {
   "cell_type": "code",
   "execution_count": null,
   "metadata": {},
   "outputs": [],
   "source": []
  },
  {
   "cell_type": "code",
   "execution_count": null,
   "metadata": {},
   "outputs": [],
   "source": []
  },
  {
   "cell_type": "code",
   "execution_count": null,
   "metadata": {},
   "outputs": [],
   "source": []
  },
  {
   "cell_type": "code",
   "execution_count": null,
   "metadata": {},
   "outputs": [],
   "source": []
  },
  {
   "cell_type": "code",
   "execution_count": 35,
   "metadata": {},
   "outputs": [],
   "source": [
    "#Race breakdown\n",
    "#Census defines race by five categories: White, Black, American Indian or Alaska Native, Asian, Native Hawaiian and Other Pacific Islander, and Multiracial\n",
    "#Added hispanic for breakdown purposes\n",
    "#Calculate count of all race tracts:\n",
    "whitetract=combined_med_df[\"TractWhite\"].sum()\n",
    "blacktract=combined_med_df[\"TractBlack\"].sum()\n",
    "asiantract=combined_med_df[\"TractAsian\"].sum()\n",
    "nhopitract=combined_med_df[\"TractNHOPI\"].sum()\n",
    "aiantract=combined_med_df[\"TractAIAN\"].sum()\n",
    "omultirtract=combined_med_df[\"TractOMultir\"].sum()\n",
    "hispanictract=combined_med_df[\"TractHispanic\"].sum()"
   ]
  },
  {
   "cell_type": "code",
   "execution_count": 36,
   "metadata": {},
   "outputs": [
    {
     "data": {
      "text/plain": [
       "327957531"
      ]
     },
     "execution_count": 36,
     "metadata": {},
     "output_type": "execute_result"
    }
   ],
   "source": [
    "all_tract=whitetract+blacktract+asiantract+nhopitract+aiantract+hispanictract\n",
    "all_tract"
   ]
  },
  {
   "cell_type": "code",
   "execution_count": 37,
   "metadata": {},
   "outputs": [],
   "source": [
    "#Creating a column for food environment categories\n",
    "combined_med_df[\"Environment Category\"] = binned_if_desert\n",
    "combined_med_df.reset_index(drop=True,inplace=True)"
   ]
  },
  {
   "cell_type": "code",
   "execution_count": 38,
   "metadata": {},
   "outputs": [],
   "source": [
    "#Creating series for each parameter. Calculating the sum of enrollees by race, grouped by environment.\n",
    "white_pop = combined_med_df.groupby(\"Environment Category\")[\"TractWhite\"].sum()\n",
    "black_pop = combined_med_df.groupby(\"Environment Category\")[\"TractBlack\"].sum()\n",
    "asian_pop = combined_med_df.groupby(\"Environment Category\")[\"TractAsian\"].sum()\n",
    "nhopi_pop = combined_med_df.groupby(\"Environment Category\")[\"TractNHOPI\"].sum()\n",
    "aian_pop = combined_med_df.groupby(\"Environment Category\")[\"TractAIAN\"].sum()\n",
    "omultir_pop = combined_med_df.groupby(\"Environment Category\")[\"TractOMultir\"].sum()\n",
    "hispanic_pop = combined_med_df.groupby(\"Environment Category\")[\"TractHispanic\"].sum()"
   ]
  },
  {
   "cell_type": "code",
   "execution_count": 39,
   "metadata": {},
   "outputs": [
    {
     "data": {
      "text/html": [
       "<div>\n",
       "<style scoped>\n",
       "    .dataframe tbody tr th:only-of-type {\n",
       "        vertical-align: middle;\n",
       "    }\n",
       "\n",
       "    .dataframe tbody tr th {\n",
       "        vertical-align: top;\n",
       "    }\n",
       "\n",
       "    .dataframe thead th {\n",
       "        text-align: right;\n",
       "    }\n",
       "</style>\n",
       "<table border=\"1\" class=\"dataframe\">\n",
       "  <thead>\n",
       "    <tr style=\"text-align: right;\">\n",
       "      <th></th>\n",
       "      <th>Environment Category</th>\n",
       "      <th>White</th>\n",
       "      <th>Black</th>\n",
       "      <th>Asian</th>\n",
       "      <th>NHOPI</th>\n",
       "      <th>AIAN</th>\n",
       "      <th>Other/Multi</th>\n",
       "      <th>Hispanic/Latinx</th>\n",
       "    </tr>\n",
       "  </thead>\n",
       "  <tbody>\n",
       "    <tr>\n",
       "      <th>0</th>\n",
       "      <td>Food Desert</td>\n",
       "      <td>6192366</td>\n",
       "      <td>4110488</td>\n",
       "      <td>178566</td>\n",
       "      <td>11556</td>\n",
       "      <td>439300</td>\n",
       "      <td>632889</td>\n",
       "      <td>999993</td>\n",
       "    </tr>\n",
       "    <tr>\n",
       "      <th>1</th>\n",
       "      <td>Healthy</td>\n",
       "      <td>215548737</td>\n",
       "      <td>33849445</td>\n",
       "      <td>14395563</td>\n",
       "      <td>524949</td>\n",
       "      <td>2451822</td>\n",
       "      <td>27294395</td>\n",
       "      <td>49250707</td>\n",
       "    </tr>\n",
       "  </tbody>\n",
       "</table>\n",
       "</div>"
      ],
      "text/plain": [
       "  Environment Category      White     Black     Asian   NHOPI     AIAN  \\\n",
       "0          Food Desert    6192366   4110488    178566   11556   439300   \n",
       "1              Healthy  215548737  33849445  14395563  524949  2451822   \n",
       "\n",
       "   Other/Multi  Hispanic/Latinx  \n",
       "0       632889           999993  \n",
       "1     27294395         49250707  "
      ]
     },
     "execution_count": 39,
     "metadata": {},
     "output_type": "execute_result"
    }
   ],
   "source": [
    "#Create dataframe to hold data\n",
    "race_sum_deserts_df = pd.DataFrame(\n",
    "    {\"White\": white_pop,\n",
    "    \"Black\": black_pop,\n",
    "    \"Asian\": asian_pop,\n",
    "    \"NHOPI\": nhopi_pop,\n",
    "    \"AIAN\": aian_pop,\n",
    "    \"Other/Multi\": omultir_pop,\n",
    "    \"Hispanic/Latinx\": hispanic_pop})\n",
    "race_sum_deserts_df.reset_index()"
   ]
  },
  {
   "cell_type": "code",
   "execution_count": 40,
   "metadata": {},
   "outputs": [
    {
     "data": {
      "text/plain": [
       "Text(0.5, 1.0, 'Non-Food Desert')"
      ]
     },
     "execution_count": 40,
     "metadata": {},
     "output_type": "execute_result"
    },
    {
     "data": {
      "image/png": "[encoded data removed]",
      "text/plain": [
       "<Figure size 1440x1440 with 2 Axes>"
      ]
     },
     "metadata": {},
     "output_type": "display_data"
    }
   ],
   "source": [
    "#Creating pie chart for Food Desert\n",
    "\n",
    "race_pie =race_sum_deserts_df.T.plot.pie(subplots=True, figsize=(20,20),autopct='%1.1f%%')\n",
    "race_pie[0].set_title(\"Food Desert\")\n",
    "race_pie[1].set_title(\"Non-Food Desert\")\n"
   ]
  },
  {
   "cell_type": "code",
   "execution_count": 48,
   "metadata": {},
   "outputs": [
    {
     "data": {
      "image/png": "[encoded data removed]",
      "text/plain": [
       "<Figure size 432x288 with 1 Axes>"
      ]
     },
     "metadata": {},
     "output_type": "display_data"
    },
    {
     "data": {
      "text/plain": [
       "<Figure size 2160x3600 with 0 Axes>"
      ]
     },
     "metadata": {},
     "output_type": "display_data"
    }
   ],
   "source": [
    "#Race Pie Chart Easier to Read\n",
    "#Food Desert:\n",
    "# Pie chart\n",
    "labels = ['White', 'Black', 'Asian', 'NHOPI','AIAN','Other/Multi','Hispanic/Latinx']\n",
    "sizes = [6192366,4110488,178566,11556,439300,632889,999993]\n",
    "#colors\n",
    "colors = ['#ff9999','#66b3ff','#99ff99','#ffcc99','#9999ff','#ff99cc','#ffff9d']\n",
    " \n",
    "fig1, ax1 = plt.subplots()\n",
    "ax1.pie(sizes, colors = colors, labels=labels, autopct='%1.1f%%', startangle=90,pctdistance=0.85)\n",
    "#draw circle\n",
    "centre_circle = plt.Circle((0,0),0.70,fc='white')\n",
    "fig = plt.gcf()\n",
    "fig.gca().add_artist(centre_circle)\n",
    "# Equal aspect ratio ensures that pie is drawn as a circle\n",
    "ax1.axis('equal')  \n",
    "plt.tight_layout()\n",
    "plt.title(\"Food Desert Racial Distribution\")\n",
    "fig=plt.figure(figsize=(30,50))\n",
    "plt.show()\n"
   ]
  },
  {
   "cell_type": "code",
   "execution_count": 50,
   "metadata": {},
   "outputs": [
    {
     "data": {
      "image/png": "[encoded data removed]",
      "text/plain": [
       "<Figure size 432x288 with 1 Axes>"
      ]
     },
     "metadata": {},
     "output_type": "display_data"
    },
    {
     "data": {
      "text/plain": [
       "<Figure size 2160x3600 with 0 Axes>"
      ]
     },
     "metadata": {},
     "output_type": "display_data"
    }
   ],
   "source": [
    "#Race Pie Chart Easier to Read\n",
    "#Non Food Desert:\n",
    "# Pie chart\n",
    "labels = ['White', 'Black', 'Asian', 'NHOPI','AIAN','Other/Multi','Hispanic/Latinx']\n",
    "sizes = [215548737,33849445,14395563,524949,2451822,27294395,49250707]\n",
    "#colors\n",
    "colors = ['#ff9999','#66b3ff','#99ff99','#ffcc99','#9999ff','#ff99cc','#ffff9d']\n",
    " \n",
    "fig1, ax1 = plt.subplots()\n",
    "ax1.pie(sizes, colors = colors, labels=labels, autopct='%1.1f%%', startangle=90,pctdistance=0.85)\n",
    "#draw circle\n",
    "centre_circle = plt.Circle((0,0),0.70,fc='white')\n",
    "fig = plt.gcf()\n",
    "fig.gca().add_artist(centre_circle)\n",
    "# Equal aspect ratio ensures that pie is drawn as a circle\n",
    "ax1.axis('equal')  \n",
    "plt.tight_layout()\n",
    "plt.title(\"Non Food Desert Racial Distribution\")\n",
    "fig=plt.figure(figsize=(30,50))\n",
    "plt.show()\n"
   ]
  },
  {
   "cell_type": "code",
   "execution_count": null,
   "metadata": {},
   "outputs": [],
   "source": []
  },
  {
   "cell_type": "code",
   "execution_count": null,
   "metadata": {},
   "outputs": [],
   "source": []
  },
  {
   "cell_type": "code",
   "execution_count": null,
   "metadata": {},
   "outputs": [],
   "source": []
  },
  {
   "cell_type": "code",
   "execution_count": null,
   "metadata": {},
   "outputs": [],
   "source": []
  },
  {
   "cell_type": "code",
   "execution_count": 42,
   "metadata": {},
   "outputs": [
    {
     "name": "stdout",
     "output_type": "stream",
     "text": [
      "151237.0\n"
     ]
    }
   ],
   "source": [
    "#Calculating death # in Food Desert environment\n",
    "poor_env_deaths=poor_ten[\"# Deaths\"].sum()\n",
    "print(poor_env_deaths)"
   ]
  },
  {
   "cell_type": "code",
   "execution_count": 43,
   "metadata": {},
   "outputs": [
    {
     "name": "stdout",
     "output_type": "stream",
     "text": [
      "3255203.0\n"
     ]
    }
   ],
   "source": [
    "#Calculating death # in Healthy environment\n",
    "healthy_env_deaths=healthy_ninety[\"# Deaths\"].sum()\n",
    "print(healthy_env_deaths)"
   ]
  },
  {
   "cell_type": "code",
   "execution_count": 44,
   "metadata": {},
   "outputs": [
    {
     "data": {
      "text/plain": [
       "3406440.0"
      ]
     },
     "execution_count": 44,
     "metadata": {},
     "output_type": "execute_result"
    }
   ],
   "source": [
    "#Calculating nationwide death #\n",
    "all_deaths=combined_df[\"# Deaths\"].sum()\n",
    "all_deaths"
   ]
  },
  {
   "cell_type": "code",
   "execution_count": 45,
   "metadata": {},
   "outputs": [],
   "source": [
    "#Pie plot for Food Desert Environment\n",
    "\n",
    "#Generate pie plot using pyplot\n",
    "#Designating data to draw upon\n",
    "labels = [\"Deaths in Food Desert\",\"Deaths in Healthy Environment\"]\n",
    "sizes =  [159982,1403018]\n",
    "colors = [\"gold\", \"lightskyblue\"]\n",
    "explode = (0.1,0)"
   ]
  },
  {
   "cell_type": "code",
   "execution_count": null,
   "metadata": {},
   "outputs": [],
   "source": []
  },
  {
   "cell_type": "code",
   "execution_count": 46,
   "metadata": {},
   "outputs": [],
   "source": [
    "#Pie plot for Healthy Food Environment\n",
    "\n",
    "#Generate pie plot using pyplot\n",
    "#Designating data to draw upon\n",
    "labels = [\"Diabetic\",\"Non-Diabetic\"]\n",
    "sizes =  [3108751,32864673]\n",
    "colors = [\"slateblue\", \"thistle\"]\n",
    "explode = (0.1,0)"
   ]
  },
  {
   "cell_type": "code",
   "execution_count": null,
   "metadata": {},
   "outputs": [],
   "source": []
  }
 ],
 "metadata": {
  "kernelspec": {
   "display_name": "Python 3",
   "language": "python",
   "name": "python3"
  },
  "language_info": {
   "codemirror_mode": {
    "name": "ipython",
    "version": 3
   },
   "file_extension": ".py",
   "mimetype": "text/x-python",
   "name": "python",
   "nbconvert_exporter": "python",
   "pygments_lexer": "ipython3",
   "version": "3.6.10"
  }
 },
 "nbformat": 4,
 "nbformat_minor": 4
}
