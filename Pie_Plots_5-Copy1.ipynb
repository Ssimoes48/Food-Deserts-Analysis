{
 "cells": [
  {
   "cell_type": "code",
   "execution_count": 1,
   "metadata": {},
   "outputs": [],
   "source": [
    "#Import modules\n",
    "\n",
    "import matplotlib.pyplot as plt\n",
    "import pandas as pd\n",
    "import scipy.stats as st\n",
    "import numpy as np\n"
   ]
  },
  {
   "cell_type": "code",
   "execution_count": 2,
   "metadata": {},
   "outputs": [],
   "source": [
    "#Import data from CSV\n",
    "combined_path = \"Resources/clean_data2.csv\""
   ]
  },
  {
   "cell_type": "code",
   "execution_count": 3,
   "metadata": {},
   "outputs": [],
   "source": [
    "#Import csvs\n",
    "combined_df = pd.read_csv(combined_path)"
   ]
  },
  {
   "cell_type": "code",
   "execution_count": 4,
   "metadata": {},
   "outputs": [
    {
     "data": {
      "text/html": [
       "<div>\n",
       "<style scoped>\n",
       "    .dataframe tbody tr th:only-of-type {\n",
       "        vertical-align: middle;\n",
       "    }\n",
       "\n",
       "    .dataframe tbody tr th {\n",
       "        vertical-align: top;\n",
       "    }\n",
       "\n",
       "    .dataframe thead th {\n",
       "        text-align: right;\n",
       "    }\n",
       "</style>\n",
       "<table border=\"1\" class=\"dataframe\">\n",
       "  <thead>\n",
       "    <tr style=\"text-align: right;\">\n",
       "      <th></th>\n",
       "      <th>State</th>\n",
       "      <th>County</th>\n",
       "      <th>POP2010</th>\n",
       "      <th>OHU2010</th>\n",
       "      <th>PovertyRate</th>\n",
       "      <th>MedianFamilyIncome</th>\n",
       "      <th>LILATracts_1And10</th>\n",
       "      <th>LILATracts_halfAnd10</th>\n",
       "      <th>LILATracts_1And20</th>\n",
       "      <th>LILATracts_Vehicle</th>\n",
       "      <th>...</th>\n",
       "      <th>Years of Potential Life Lost Rate</th>\n",
       "      <th>% Obese</th>\n",
       "      <th>% Fair/Poor</th>\n",
       "      <th># Diabetics</th>\n",
       "      <th># Violent Crimes</th>\n",
       "      <th># Unemployed</th>\n",
       "      <th>% Children in Poverty</th>\n",
       "      <th>Latitude</th>\n",
       "      <th>Longitude</th>\n",
       "      <th>Original Medicare</th>\n",
       "    </tr>\n",
       "  </thead>\n",
       "  <tbody>\n",
       "    <tr>\n",
       "      <th>0</th>\n",
       "      <td>Alabama</td>\n",
       "      <td>Autauga</td>\n",
       "      <td>54571</td>\n",
       "      <td>20221</td>\n",
       "      <td>13.858333</td>\n",
       "      <td>61082.916667</td>\n",
       "      <td>2</td>\n",
       "      <td>2</td>\n",
       "      <td>1</td>\n",
       "      <td>2</td>\n",
       "      <td>...</td>\n",
       "      <td>9158.0</td>\n",
       "      <td>34</td>\n",
       "      <td>18</td>\n",
       "      <td>711.0</td>\n",
       "      <td>145.0</td>\n",
       "      <td>1327.0</td>\n",
       "      <td>19.0</td>\n",
       "      <td>32.534920</td>\n",
       "      <td>-86.642749</td>\n",
       "      <td>5784</td>\n",
       "    </tr>\n",
       "    <tr>\n",
       "      <th>1</th>\n",
       "      <td>Alabama</td>\n",
       "      <td>Baldwin</td>\n",
       "      <td>182265</td>\n",
       "      <td>73180</td>\n",
       "      <td>14.358065</td>\n",
       "      <td>60664.935484</td>\n",
       "      <td>3</td>\n",
       "      <td>3</td>\n",
       "      <td>3</td>\n",
       "      <td>2</td>\n",
       "      <td>...</td>\n",
       "      <td>7394.0</td>\n",
       "      <td>27</td>\n",
       "      <td>16</td>\n",
       "      <td>2615.0</td>\n",
       "      <td>415.0</td>\n",
       "      <td>4791.0</td>\n",
       "      <td>20.0</td>\n",
       "      <td>30.660970</td>\n",
       "      <td>-87.749840</td>\n",
       "      <td>28388</td>\n",
       "    </tr>\n",
       "    <tr>\n",
       "      <th>2</th>\n",
       "      <td>Alabama</td>\n",
       "      <td>Barbour</td>\n",
       "      <td>27457</td>\n",
       "      <td>9820</td>\n",
       "      <td>24.533333</td>\n",
       "      <td>43123.000000</td>\n",
       "      <td>3</td>\n",
       "      <td>3</td>\n",
       "      <td>1</td>\n",
       "      <td>2</td>\n",
       "      <td>...</td>\n",
       "      <td>8573.0</td>\n",
       "      <td>44</td>\n",
       "      <td>25</td>\n",
       "      <td>525.0</td>\n",
       "      <td>85.0</td>\n",
       "      <td>771.0</td>\n",
       "      <td>45.0</td>\n",
       "      <td>31.869603</td>\n",
       "      <td>-85.393197</td>\n",
       "      <td>4372</td>\n",
       "    </tr>\n",
       "    <tr>\n",
       "      <th>3</th>\n",
       "      <td>Alabama</td>\n",
       "      <td>Bibb</td>\n",
       "      <td>22915</td>\n",
       "      <td>7953</td>\n",
       "      <td>16.025000</td>\n",
       "      <td>43362.500000</td>\n",
       "      <td>0</td>\n",
       "      <td>0</td>\n",
       "      <td>0</td>\n",
       "      <td>1</td>\n",
       "      <td>...</td>\n",
       "      <td>11766.0</td>\n",
       "      <td>40</td>\n",
       "      <td>20</td>\n",
       "      <td>333.0</td>\n",
       "      <td>33.0</td>\n",
       "      <td>561.0</td>\n",
       "      <td>29.0</td>\n",
       "      <td>32.998644</td>\n",
       "      <td>-87.126439</td>\n",
       "      <td>2480</td>\n",
       "    </tr>\n",
       "    <tr>\n",
       "      <th>4</th>\n",
       "      <td>Alabama</td>\n",
       "      <td>Blount</td>\n",
       "      <td>57322</td>\n",
       "      <td>21578</td>\n",
       "      <td>17.911111</td>\n",
       "      <td>52136.000000</td>\n",
       "      <td>0</td>\n",
       "      <td>0</td>\n",
       "      <td>0</td>\n",
       "      <td>2</td>\n",
       "      <td>...</td>\n",
       "      <td>9333.0</td>\n",
       "      <td>35</td>\n",
       "      <td>19</td>\n",
       "      <td>705.0</td>\n",
       "      <td>123.0</td>\n",
       "      <td>1316.0</td>\n",
       "      <td>22.0</td>\n",
       "      <td>33.980867</td>\n",
       "      <td>-86.567371</td>\n",
       "      <td>6070</td>\n",
       "    </tr>\n",
       "    <tr>\n",
       "      <th>...</th>\n",
       "      <td>...</td>\n",
       "      <td>...</td>\n",
       "      <td>...</td>\n",
       "      <td>...</td>\n",
       "      <td>...</td>\n",
       "      <td>...</td>\n",
       "      <td>...</td>\n",
       "      <td>...</td>\n",
       "      <td>...</td>\n",
       "      <td>...</td>\n",
       "      <td>...</td>\n",
       "      <td>...</td>\n",
       "      <td>...</td>\n",
       "      <td>...</td>\n",
       "      <td>...</td>\n",
       "      <td>...</td>\n",
       "      <td>...</td>\n",
       "      <td>...</td>\n",
       "      <td>...</td>\n",
       "      <td>...</td>\n",
       "      <td>...</td>\n",
       "    </tr>\n",
       "    <tr>\n",
       "      <th>3088</th>\n",
       "      <td>Wyoming</td>\n",
       "      <td>Sweetwater</td>\n",
       "      <td>43806</td>\n",
       "      <td>16475</td>\n",
       "      <td>11.841667</td>\n",
       "      <td>81835.083333</td>\n",
       "      <td>0</td>\n",
       "      <td>0</td>\n",
       "      <td>0</td>\n",
       "      <td>2</td>\n",
       "      <td>...</td>\n",
       "      <td>6878.0</td>\n",
       "      <td>32</td>\n",
       "      <td>16</td>\n",
       "      <td>469.0</td>\n",
       "      <td>159.0</td>\n",
       "      <td>1053.0</td>\n",
       "      <td>10.0</td>\n",
       "      <td>41.659496</td>\n",
       "      <td>-108.879431</td>\n",
       "      <td>5641</td>\n",
       "    </tr>\n",
       "    <tr>\n",
       "      <th>3089</th>\n",
       "      <td>Wyoming</td>\n",
       "      <td>Teton</td>\n",
       "      <td>21294</td>\n",
       "      <td>8973</td>\n",
       "      <td>8.100000</td>\n",
       "      <td>89555.250000</td>\n",
       "      <td>0</td>\n",
       "      <td>0</td>\n",
       "      <td>0</td>\n",
       "      <td>0</td>\n",
       "      <td>...</td>\n",
       "      <td>3728.0</td>\n",
       "      <td>13</td>\n",
       "      <td>12</td>\n",
       "      <td>104.0</td>\n",
       "      <td>NaN</td>\n",
       "      <td>558.0</td>\n",
       "      <td>8.0</td>\n",
       "      <td>43.934637</td>\n",
       "      <td>-110.589810</td>\n",
       "      <td>3122</td>\n",
       "    </tr>\n",
       "    <tr>\n",
       "      <th>3090</th>\n",
       "      <td>Wyoming</td>\n",
       "      <td>Uinta</td>\n",
       "      <td>21118</td>\n",
       "      <td>7668</td>\n",
       "      <td>14.166667</td>\n",
       "      <td>65312.666667</td>\n",
       "      <td>0</td>\n",
       "      <td>0</td>\n",
       "      <td>0</td>\n",
       "      <td>0</td>\n",
       "      <td>...</td>\n",
       "      <td>7660.0</td>\n",
       "      <td>28</td>\n",
       "      <td>15</td>\n",
       "      <td>243.0</td>\n",
       "      <td>8.0</td>\n",
       "      <td>475.0</td>\n",
       "      <td>12.0</td>\n",
       "      <td>41.287492</td>\n",
       "      <td>-110.547562</td>\n",
       "      <td>2804</td>\n",
       "    </tr>\n",
       "    <tr>\n",
       "      <th>3091</th>\n",
       "      <td>Wyoming</td>\n",
       "      <td>Washakie</td>\n",
       "      <td>8533</td>\n",
       "      <td>3492</td>\n",
       "      <td>14.133333</td>\n",
       "      <td>62213.666667</td>\n",
       "      <td>0</td>\n",
       "      <td>1</td>\n",
       "      <td>0</td>\n",
       "      <td>0</td>\n",
       "      <td>...</td>\n",
       "      <td>7294.0</td>\n",
       "      <td>28</td>\n",
       "      <td>14</td>\n",
       "      <td>156.0</td>\n",
       "      <td>7.0</td>\n",
       "      <td>174.0</td>\n",
       "      <td>16.0</td>\n",
       "      <td>43.904997</td>\n",
       "      <td>-107.682861</td>\n",
       "      <td>1812</td>\n",
       "    </tr>\n",
       "    <tr>\n",
       "      <th>3092</th>\n",
       "      <td>Wyoming</td>\n",
       "      <td>Weston</td>\n",
       "      <td>7208</td>\n",
       "      <td>3021</td>\n",
       "      <td>12.100000</td>\n",
       "      <td>75233.000000</td>\n",
       "      <td>0</td>\n",
       "      <td>0</td>\n",
       "      <td>0</td>\n",
       "      <td>0</td>\n",
       "      <td>...</td>\n",
       "      <td>8051.0</td>\n",
       "      <td>29</td>\n",
       "      <td>14</td>\n",
       "      <td>103.0</td>\n",
       "      <td>9.0</td>\n",
       "      <td>133.0</td>\n",
       "      <td>13.0</td>\n",
       "      <td>43.840485</td>\n",
       "      <td>-104.567830</td>\n",
       "      <td>1447</td>\n",
       "    </tr>\n",
       "  </tbody>\n",
       "</table>\n",
       "<p>3093 rows × 40 columns</p>\n",
       "</div>"
      ],
      "text/plain": [
       "        State      County  POP2010  OHU2010  PovertyRate  MedianFamilyIncome  \\\n",
       "0     Alabama     Autauga    54571    20221    13.858333        61082.916667   \n",
       "1     Alabama     Baldwin   182265    73180    14.358065        60664.935484   \n",
       "2     Alabama     Barbour    27457     9820    24.533333        43123.000000   \n",
       "3     Alabama        Bibb    22915     7953    16.025000        43362.500000   \n",
       "4     Alabama      Blount    57322    21578    17.911111        52136.000000   \n",
       "...       ...         ...      ...      ...          ...                 ...   \n",
       "3088  Wyoming  Sweetwater    43806    16475    11.841667        81835.083333   \n",
       "3089  Wyoming       Teton    21294     8973     8.100000        89555.250000   \n",
       "3090  Wyoming       Uinta    21118     7668    14.166667        65312.666667   \n",
       "3091  Wyoming    Washakie     8533     3492    14.133333        62213.666667   \n",
       "3092  Wyoming      Weston     7208     3021    12.100000        75233.000000   \n",
       "\n",
       "      LILATracts_1And10  LILATracts_halfAnd10  LILATracts_1And20  \\\n",
       "0                     2                     2                  1   \n",
       "1                     3                     3                  3   \n",
       "2                     3                     3                  1   \n",
       "3                     0                     0                  0   \n",
       "4                     0                     0                  0   \n",
       "...                 ...                   ...                ...   \n",
       "3088                  0                     0                  0   \n",
       "3089                  0                     0                  0   \n",
       "3090                  0                     0                  0   \n",
       "3091                  0                     1                  0   \n",
       "3092                  0                     0                  0   \n",
       "\n",
       "      LILATracts_Vehicle  ...  Years of Potential Life Lost Rate  % Obese  \\\n",
       "0                      2  ...                             9158.0       34   \n",
       "1                      2  ...                             7394.0       27   \n",
       "2                      2  ...                             8573.0       44   \n",
       "3                      1  ...                            11766.0       40   \n",
       "4                      2  ...                             9333.0       35   \n",
       "...                  ...  ...                                ...      ...   \n",
       "3088                   2  ...                             6878.0       32   \n",
       "3089                   0  ...                             3728.0       13   \n",
       "3090                   0  ...                             7660.0       28   \n",
       "3091                   0  ...                             7294.0       28   \n",
       "3092                   0  ...                             8051.0       29   \n",
       "\n",
       "      % Fair/Poor  # Diabetics  # Violent Crimes  # Unemployed  \\\n",
       "0              18        711.0             145.0        1327.0   \n",
       "1              16       2615.0             415.0        4791.0   \n",
       "2              25        525.0              85.0         771.0   \n",
       "3              20        333.0              33.0         561.0   \n",
       "4              19        705.0             123.0        1316.0   \n",
       "...           ...          ...               ...           ...   \n",
       "3088           16        469.0             159.0        1053.0   \n",
       "3089           12        104.0               NaN         558.0   \n",
       "3090           15        243.0               8.0         475.0   \n",
       "3091           14        156.0               7.0         174.0   \n",
       "3092           14        103.0               9.0         133.0   \n",
       "\n",
       "      % Children in Poverty   Latitude   Longitude  Original Medicare  \n",
       "0                      19.0  32.534920  -86.642749               5784  \n",
       "1                      20.0  30.660970  -87.749840              28388  \n",
       "2                      45.0  31.869603  -85.393197               4372  \n",
       "3                      29.0  32.998644  -87.126439               2480  \n",
       "4                      22.0  33.980867  -86.567371               6070  \n",
       "...                     ...        ...         ...                ...  \n",
       "3088                   10.0  41.659496 -108.879431               5641  \n",
       "3089                    8.0  43.934637 -110.589810               3122  \n",
       "3090                   12.0  41.287492 -110.547562               2804  \n",
       "3091                   16.0  43.904997 -107.682861               1812  \n",
       "3092                   13.0  43.840485 -104.567830               1447  \n",
       "\n",
       "[3093 rows x 40 columns]"
      ]
     },
     "execution_count": 4,
     "metadata": {},
     "output_type": "execute_result"
    }
   ],
   "source": [
    "#Read data from CSV\n",
    "combined_df = pd.read_csv(combined_path)\n",
    "combined_df"
   ]
  },
  {
   "cell_type": "code",
   "execution_count": 5,
   "metadata": {},
   "outputs": [
    {
     "data": {
      "text/plain": [
       "5.5"
      ]
     },
     "execution_count": 5,
     "metadata": {},
     "output_type": "execute_result"
    }
   ],
   "source": [
    "#Calculate the 0.10 quantile. This is what will be used for the poor environment cutoff.\n",
    "#According to The Locator, 10% of the roughly 65,000 census tracts in the US are food deserts.\n",
    "bottomten = combined_df[\"Food Environment Index\"].quantile(q=0.10)\n",
    "bottomten"
   ]
  },
  {
   "cell_type": "code",
   "execution_count": 6,
   "metadata": {},
   "outputs": [],
   "source": [
    "#Creating bins based on cutoff value\n",
    "bins = [0, float(bottomten), 10]\n",
    "#bin names\n",
    "ranges = [\"Food Desert\", \"Healthy\"]"
   ]
  },
  {
   "cell_type": "code",
   "execution_count": 66,
   "metadata": {},
   "outputs": [
    {
     "data": {
      "text/plain": [
       "0           Healthy\n",
       "1           Healthy\n",
       "2       Food Desert\n",
       "3           Healthy\n",
       "4           Healthy\n",
       "           ...     \n",
       "3088        Healthy\n",
       "3089        Healthy\n",
       "3090        Healthy\n",
       "3091        Healthy\n",
       "3092        Healthy\n",
       "Name: Food Environment Index, Length: 3093, dtype: category\n",
       "Categories (2, object): [Food Desert < Healthy]"
      ]
     },
     "execution_count": 66,
     "metadata": {},
     "output_type": "execute_result"
    }
   ],
   "source": [
    "#Slicing the data and placing into bins\n",
    "binned_if_desert = pd.cut(combined_df[\"Food Environment Index\"], bins, labels=ranges)\n",
    "binned_if_desert"
   ]
  },
  {
   "cell_type": "code",
   "execution_count": 8,
   "metadata": {},
   "outputs": [],
   "source": [
    "#Creating a column for food environment categories\n",
    "combined_df[\"Environment Category\"] = binned_if_desert\n",
    "combined_df.reset_index(drop=True,inplace=True)"
   ]
  },
  {
   "cell_type": "code",
   "execution_count": 72,
   "metadata": {},
   "outputs": [
    {
     "name": "stdout",
     "output_type": "stream",
     "text": [
      "              State     County  Food Environment Index\n",
      "2           Alabama    Barbour                     4.9\n",
      "5           Alabama    Bullock                     3.8\n",
      "11          Alabama    Choctaw                     5.4\n",
      "12          Alabama     Clarke                     4.6\n",
      "17          Alabama    Conecuh                     4.3\n",
      "...             ...        ...                     ...\n",
      "2913     Washington      Ferry                     4.6\n",
      "2915     Washington   Garfield                     4.4\n",
      "2938     Washington  Wahkiakum                     5.3\n",
      "2994  West Virginia     Wetzel                     5.5\n",
      "3037      Wisconsin  Menominee                     5.3\n",
      "\n",
      "[331 rows x 3 columns]\n"
     ]
    }
   ],
   "source": [
    "desert = combined_df.loc[combined_df[\"Environment Category\"]==\"Food Desert\"]\n",
    "print(desert[[\"State\",\"County\",\"Food Environment Index\"]])"
   ]
  },
  {
   "cell_type": "code",
   "execution_count": 9,
   "metadata": {},
   "outputs": [],
   "source": [
    "#Creating series for each parameter. Calculating the sum for Medicare enrollees and # of diabetics per category enrollment.\n",
    "population_total = combined_df.groupby(\"Environment Category\")[\"Original Medicare\"].sum()\n",
    "diabetics_total = combined_df.groupby(\"Environment Category\")[\"# Diabetics\"].sum()"
   ]
  },
  {
   "cell_type": "code",
   "execution_count": 10,
   "metadata": {},
   "outputs": [],
   "source": [
    "#Create dataframe to hold data\n",
    "popsum_byenv__deserts_df = pd.DataFrame(\n",
    "    {\"Medicare Population Total\": population_total,\n",
    "    \"Medicare Diabetic Total\": diabetics_total})"
   ]
  },
  {
   "cell_type": "code",
   "execution_count": 11,
   "metadata": {},
   "outputs": [
    {
     "data": {
      "text/html": [
       "<div>\n",
       "<style scoped>\n",
       "    .dataframe tbody tr th:only-of-type {\n",
       "        vertical-align: middle;\n",
       "    }\n",
       "\n",
       "    .dataframe tbody tr th {\n",
       "        vertical-align: top;\n",
       "    }\n",
       "\n",
       "    .dataframe thead th {\n",
       "        text-align: right;\n",
       "    }\n",
       "</style>\n",
       "<table border=\"1\" class=\"dataframe\">\n",
       "  <thead>\n",
       "    <tr style=\"text-align: right;\">\n",
       "      <th></th>\n",
       "      <th>Environment Category</th>\n",
       "      <th>Medicare Population Total</th>\n",
       "      <th>Medicare Diabetic Total</th>\n",
       "      <th>Percent Diabetic</th>\n",
       "    </tr>\n",
       "  </thead>\n",
       "  <tbody>\n",
       "    <tr>\n",
       "      <th>0</th>\n",
       "      <td>Food Desert</td>\n",
       "      <td>1531226</td>\n",
       "      <td>157268.0</td>\n",
       "      <td>10.270724</td>\n",
       "    </tr>\n",
       "    <tr>\n",
       "      <th>1</th>\n",
       "      <td>Healthy</td>\n",
       "      <td>36236319</td>\n",
       "      <td>3129051.0</td>\n",
       "      <td>8.635124</td>\n",
       "    </tr>\n",
       "  </tbody>\n",
       "</table>\n",
       "</div>"
      ],
      "text/plain": [
       "  Environment Category  Medicare Population Total  Medicare Diabetic Total  \\\n",
       "0          Food Desert                    1531226                 157268.0   \n",
       "1              Healthy                   36236319                3129051.0   \n",
       "\n",
       "   Percent Diabetic  \n",
       "0         10.270724  \n",
       "1          8.635124  "
      ]
     },
     "execution_count": 11,
     "metadata": {},
     "output_type": "execute_result"
    }
   ],
   "source": [
    "#Adding Percent Diabetic with Medicare\n",
    "popsum_byenv__deserts_df[\"Percent Diabetic\"]=(popsum_byenv__deserts_df[\"Medicare Diabetic Total\"]/popsum_byenv__deserts_df[\"Medicare Population Total\"])*100\n",
    "percent_diabetic2_df=popsum_byenv__deserts_df.reset_index()\n",
    "percent_diabetic2_df"
   ]
  },
  {
   "cell_type": "code",
   "execution_count": 12,
   "metadata": {},
   "outputs": [],
   "source": [
    "#Pie plot for Food Desert Environment\n",
    "\n",
    "#Generate pie plot using pyplot\n",
    "#Designating data to draw upon\n",
    "labels = [\"Diabetic\",\"Non-Diabetic\"]\n",
    "sizes =  [159982,1403018]\n",
    "colors = [\"gold\", \"lightskyblue\"]\n",
    "explode = (0.1,0)"
   ]
  },
  {
   "cell_type": "code",
   "execution_count": 13,
   "metadata": {},
   "outputs": [
    {
     "data": {
      "image/png": "[encoded data removed]",
      "text/plain": [
       "<Figure size 432x288 with 1 Axes>"
      ]
     },
     "metadata": {},
     "output_type": "display_data"
    }
   ],
   "source": [
    "#Creating the pie chart based on the values above\n",
    "plt.pie(sizes, explode = explode, labels=labels, colors=colors, autopct=\"%1.1f%%\", shadow=True)\n",
    "plt.title(\"Percent of Medicare Enrollment Diabetic - Food Desert\")\n",
    "#Save plot:\n",
    "plt.savefig(\"PiePlots/Percent of Medicare Enrollment Diabetic - Food Desert.png\")\n",
    "plt.show()"
   ]
  },
  {
   "cell_type": "code",
   "execution_count": 14,
   "metadata": {},
   "outputs": [],
   "source": [
    "#Pie plot for Healthy Food Environment\n",
    "\n",
    "#Generate pie plot using pyplot\n",
    "#Designating data to draw upon\n",
    "labels = [\"Diabetic\",\"Non-Diabetic\"]\n",
    "sizes =  [3108751,32864673]\n",
    "colors = [\"slateblue\", \"thistle\"]\n",
    "explode = (0.1,0)"
   ]
  },
  {
   "cell_type": "code",
   "execution_count": 15,
   "metadata": {},
   "outputs": [
    {
     "data": {
      "image/png": "[encoded data removed]",
      "text/plain": [
       "<Figure size 432x288 with 1 Axes>"
      ]
     },
     "metadata": {},
     "output_type": "display_data"
    }
   ],
   "source": [
    "#Creating the pie chart based on the values above\n",
    "plt.pie(sizes, explode = explode, labels=labels, colors=colors, autopct=\"%1.1f%%\", shadow=True)\n",
    "plt.title(\"Percent of Medicare Enrollment Diabetic - Non Food Desert\")\n",
    "#Save plot:\n",
    "plt.savefig(\"PiePlots/Percent of Medicare Enrollment Diabetic - Non Food Desert.png\")\n",
    "plt.show()"
   ]
  },
  {
   "cell_type": "code",
   "execution_count": 16,
   "metadata": {},
   "outputs": [],
   "source": [
    "#Obesity"
   ]
  },
  {
   "cell_type": "code",
   "execution_count": 17,
   "metadata": {},
   "outputs": [],
   "source": [
    "#Creating a column for food environment categories\n",
    "combined_df[\"Environment Category\"] = binned_if_desert\n",
    "combined_df.reset_index(drop=True,inplace=True)"
   ]
  },
  {
   "cell_type": "code",
   "execution_count": 18,
   "metadata": {},
   "outputs": [],
   "source": [
    "#Creating series for each parameter. Calculating the average obesity rate in each environment.\n",
    "obesity_average = combined_df.groupby(\"Environment Category\")[\"% Obese\"].mean()"
   ]
  },
  {
   "cell_type": "code",
   "execution_count": 19,
   "metadata": {},
   "outputs": [
    {
     "data": {
      "text/html": [
       "<div>\n",
       "<style scoped>\n",
       "    .dataframe tbody tr th:only-of-type {\n",
       "        vertical-align: middle;\n",
       "    }\n",
       "\n",
       "    .dataframe tbody tr th {\n",
       "        vertical-align: top;\n",
       "    }\n",
       "\n",
       "    .dataframe thead th {\n",
       "        text-align: right;\n",
       "    }\n",
       "</style>\n",
       "<table border=\"1\" class=\"dataframe\">\n",
       "  <thead>\n",
       "    <tr style=\"text-align: right;\">\n",
       "      <th></th>\n",
       "      <th>Obesity Rate Average</th>\n",
       "    </tr>\n",
       "    <tr>\n",
       "      <th>Environment Category</th>\n",
       "      <th></th>\n",
       "    </tr>\n",
       "  </thead>\n",
       "  <tbody>\n",
       "    <tr>\n",
       "      <th>Food Desert</th>\n",
       "      <td>33.238671</td>\n",
       "    </tr>\n",
       "    <tr>\n",
       "      <th>Healthy</th>\n",
       "      <td>30.808041</td>\n",
       "    </tr>\n",
       "  </tbody>\n",
       "</table>\n",
       "</div>"
      ],
      "text/plain": [
       "                      Obesity Rate Average\n",
       "Environment Category                      \n",
       "Food Desert                      33.238671\n",
       "Healthy                          30.808041"
      ]
     },
     "execution_count": 19,
     "metadata": {},
     "output_type": "execute_result"
    }
   ],
   "source": [
    "#Create dataframe to hold data\n",
    "obesity_byenv_df = pd.DataFrame(\n",
    "    {\"Obesity Rate Average\": obesity_average})\n",
    "obesity_byenv_df"
   ]
  },
  {
   "cell_type": "code",
   "execution_count": 20,
   "metadata": {},
   "outputs": [],
   "source": [
    "#Pie plot for Food Desert Environment: Obesity Rate Average\n",
    "\n",
    "#Generate pie plot using pyplot\n",
    "#Designating data to draw upon\n",
    "labels = [\"Average Obesity Rate\",\" \"]\n",
    "sizes =  [33.243243,100-33.243243]\n",
    "colors = [\"#FF5768\", \"#c2b2b4\"]\n",
    "explode = (0.1,0)"
   ]
  },
  {
   "cell_type": "code",
   "execution_count": 21,
   "metadata": {},
   "outputs": [
    {
     "data": {
      "image/png": "[encoded data removed]",
      "text/plain": [
       "<Figure size 432x288 with 1 Axes>"
      ]
     },
     "metadata": {},
     "output_type": "display_data"
    }
   ],
   "source": [
    "#Creating the pie chart based on the values above\n",
    "plt.pie(sizes, explode = explode, labels=labels, colors=colors, autopct=\"%1.1f%%\", shadow=True)\n",
    "plt.title(\"Average Obesity Rate - Food Desert\")\n",
    "#Save plot:\n",
    "plt.savefig(\"PiePlots/Average Obesity Rate - Food Desert.png\")\n",
    "plt.show()"
   ]
  },
  {
   "cell_type": "code",
   "execution_count": 22,
   "metadata": {},
   "outputs": [],
   "source": [
    "#Pie plot for Non-Food Desert Environment: Obesity Rate Average\n",
    "\n",
    "#Generate pie plot using pyplot\n",
    "#Designating data to draw upon\n",
    "labels = [\"Average Obesity Rate\",\" \"]\n",
    "sizes =  [30.811594,100-30.811594]\n",
    "colors = [\"#57ffee\", \"#b1c7c4\"]\n",
    "explode = (0.1,0)"
   ]
  },
  {
   "cell_type": "code",
   "execution_count": 23,
   "metadata": {},
   "outputs": [
    {
     "data": {
      "image/png": "[encoded data removed]",
      "text/plain": [
       "<Figure size 432x288 with 1 Axes>"
      ]
     },
     "metadata": {},
     "output_type": "display_data"
    }
   ],
   "source": [
    "#Creating the pie chart based on the values above\n",
    "plt.pie(sizes, explode = explode, labels=labels, colors=colors, autopct=\"%1.1f%%\", shadow=True)\n",
    "plt.title(\"Average Obesity Rate - Non Food Desert\")\n",
    "#Save plot:\n",
    "plt.savefig(\"PiePlots/Average Obesity Rate - Non Food Desert.png\")\n",
    "plt.show()\n"
   ]
  },
  {
   "cell_type": "code",
   "execution_count": 24,
   "metadata": {},
   "outputs": [],
   "source": [
    "#% Fair/Poor Health"
   ]
  },
  {
   "cell_type": "code",
   "execution_count": 25,
   "metadata": {},
   "outputs": [],
   "source": [
    "#Creating a column for food environment categories\n",
    "combined_df[\"Environment Category\"] = binned_if_desert\n",
    "combined_df.reset_index(drop=True,inplace=True)"
   ]
  },
  {
   "cell_type": "code",
   "execution_count": 26,
   "metadata": {},
   "outputs": [],
   "source": [
    "#Creating series for each parameter. Calculating the average fair/poor health rate in each environment.\n",
    "poor_health_average = combined_df.groupby(\"Environment Category\")[\"% Fair/Poor\"].mean()"
   ]
  },
  {
   "cell_type": "code",
   "execution_count": 27,
   "metadata": {},
   "outputs": [
    {
     "data": {
      "text/html": [
       "<div>\n",
       "<style scoped>\n",
       "    .dataframe tbody tr th:only-of-type {\n",
       "        vertical-align: middle;\n",
       "    }\n",
       "\n",
       "    .dataframe tbody tr th {\n",
       "        vertical-align: top;\n",
       "    }\n",
       "\n",
       "    .dataframe thead th {\n",
       "        text-align: right;\n",
       "    }\n",
       "</style>\n",
       "<table border=\"1\" class=\"dataframe\">\n",
       "  <thead>\n",
       "    <tr style=\"text-align: right;\">\n",
       "      <th></th>\n",
       "      <th>Fair/Poor Health Rate Average</th>\n",
       "    </tr>\n",
       "    <tr>\n",
       "      <th>Environment Category</th>\n",
       "      <th></th>\n",
       "    </tr>\n",
       "  </thead>\n",
       "  <tbody>\n",
       "    <tr>\n",
       "      <th>Food Desert</th>\n",
       "      <td>21.616314</td>\n",
       "    </tr>\n",
       "    <tr>\n",
       "      <th>Healthy</th>\n",
       "      <td>16.445491</td>\n",
       "    </tr>\n",
       "  </tbody>\n",
       "</table>\n",
       "</div>"
      ],
      "text/plain": [
       "                      Fair/Poor Health Rate Average\n",
       "Environment Category                               \n",
       "Food Desert                               21.616314\n",
       "Healthy                                   16.445491"
      ]
     },
     "execution_count": 27,
     "metadata": {},
     "output_type": "execute_result"
    }
   ],
   "source": [
    "#Create dataframe to hold data\n",
    "poorhealth_byenv_df = pd.DataFrame(\n",
    "    {\"Fair/Poor Health Rate Average\": poor_health_average})\n",
    "poorhealth_byenv_df"
   ]
  },
  {
   "cell_type": "code",
   "execution_count": 28,
   "metadata": {},
   "outputs": [],
   "source": [
    "#Pie plot for Food Desert Environment: Fair/Poor Health Rate Average\n",
    "\n",
    "#Generate pie plot using pyplot\n",
    "#Designating data to draw upon\n",
    "labels = [\"Fair/Poor Health Rate\",\" \"]\n",
    "sizes =  [21.615616,100-21.615616]\n",
    "colors = [\"#33FFB5\", \"#c8dbd4\"]\n",
    "explode = (0.1,0)"
   ]
  },
  {
   "cell_type": "code",
   "execution_count": 29,
   "metadata": {},
   "outputs": [
    {
     "data": {
      "image/png": "[encoded data removed]",
      "text/plain": [
       "<Figure size 432x288 with 1 Axes>"
      ]
     },
     "metadata": {},
     "output_type": "display_data"
    }
   ],
   "source": [
    "#Creating the pie chart based on the values above\n",
    "plt.pie(sizes, explode = explode, labels=labels, colors=colors, autopct=\"%1.1f%%\", shadow=True)\n",
    "plt.title(\"Fair/Poor Health Rate - Food Desert\")\n",
    "#Save plot:\n",
    "plt.savefig(\"PiePlots/Fair Poor Health Rate - Food Desert.png\")\n",
    "plt.show()\n"
   ]
  },
  {
   "cell_type": "code",
   "execution_count": 30,
   "metadata": {},
   "outputs": [],
   "source": [
    "#Pie plot for Non-Food Desert Environment: Fair/Poor Health Rate Average\n",
    "\n",
    "#Generate pie plot using pyplot\n",
    "#Designating data to draw upon\n",
    "labels = [\"Fair/Poor Health Rate\",\" \"]\n",
    "sizes =  [16.455072,100-16.455072]\n",
    "colors = [\"#a588fc\", \"#d6d1e8\"]\n",
    "explode = (0.1,0)"
   ]
  },
  {
   "cell_type": "code",
   "execution_count": 31,
   "metadata": {},
   "outputs": [
    {
     "data": {
      "image/png": "[encoded data removed]",
      "text/plain": [
       "<Figure size 432x288 with 1 Axes>"
      ]
     },
     "metadata": {},
     "output_type": "display_data"
    }
   ],
   "source": [
    "#Creating the pie chart based on the values above\n",
    "plt.pie(sizes, explode = explode, labels=labels, colors=colors, autopct=\"%1.1f%%\", shadow=True)\n",
    "plt.title(\"Fair/Poor Health Rate - Non Food Desert\")\n",
    "#Save plot:\n",
    "plt.savefig(\"PiePlots/Fair Poor Health Rate - Non Food Desert.png\")\n",
    "plt.show()\n"
   ]
  },
  {
   "cell_type": "code",
   "execution_count": 32,
   "metadata": {},
   "outputs": [],
   "source": [
    "#Race breakdown\n",
    "#Census defines race by five categories: White, Black, American Indian or Alaska Native, Asian, Native Hawaiian and Other Pacific Islander, and Multiracial\n",
    "#Added hispanic for breakdown purposes\n",
    "#Calculate count of all race tracts:\n",
    "whitetract=combined_df[\"TractWhite\"].sum()\n",
    "blacktract=combined_df[\"TractBlack\"].sum()\n",
    "asiantract=combined_df[\"TractAsian\"].sum()\n",
    "nhopitract=combined_df[\"TractNHOPI\"].sum()\n",
    "aiantract=combined_df[\"TractAIAN\"].sum()\n",
    "omultirtract=combined_df[\"TractOMultir\"].sum()\n",
    "hispanictract=combined_df[\"TractHispanic\"].sum()"
   ]
  },
  {
   "cell_type": "code",
   "execution_count": 33,
   "metadata": {},
   "outputs": [
    {
     "data": {
      "text/plain": [
       "329481134"
      ]
     },
     "execution_count": 33,
     "metadata": {},
     "output_type": "execute_result"
    }
   ],
   "source": [
    "all_tract=whitetract+blacktract+asiantract+nhopitract+aiantract+hispanictract\n",
    "all_tract"
   ]
  },
  {
   "cell_type": "code",
   "execution_count": 34,
   "metadata": {},
   "outputs": [],
   "source": [
    "#Creating a column for food environment categories\n",
    "combined_df[\"Environment Category\"] = binned_if_desert\n",
    "combined_df.reset_index(drop=True,inplace=True)"
   ]
  },
  {
   "cell_type": "code",
   "execution_count": 35,
   "metadata": {},
   "outputs": [],
   "source": [
    "#Creating series for each parameter. Calculating the sum of enrollees by race, grouped by environment.\n",
    "white_pop = combined_df.groupby(\"Environment Category\")[\"TractWhite\"].sum()\n",
    "black_pop = combined_df.groupby(\"Environment Category\")[\"TractBlack\"].sum()\n",
    "asian_pop = combined_df.groupby(\"Environment Category\")[\"TractAsian\"].sum()\n",
    "nhopi_pop = combined_df.groupby(\"Environment Category\")[\"TractNHOPI\"].sum()\n",
    "aian_pop = combined_df.groupby(\"Environment Category\")[\"TractAIAN\"].sum()\n",
    "omultir_pop = combined_df.groupby(\"Environment Category\")[\"TractOMultir\"].sum()\n",
    "hispanic_pop = combined_df.groupby(\"Environment Category\")[\"TractHispanic\"].sum()"
   ]
  },
  {
   "cell_type": "code",
   "execution_count": 36,
   "metadata": {},
   "outputs": [
    {
     "data": {
      "text/html": [
       "<div>\n",
       "<style scoped>\n",
       "    .dataframe tbody tr th:only-of-type {\n",
       "        vertical-align: middle;\n",
       "    }\n",
       "\n",
       "    .dataframe tbody tr th {\n",
       "        vertical-align: top;\n",
       "    }\n",
       "\n",
       "    .dataframe thead th {\n",
       "        text-align: right;\n",
       "    }\n",
       "</style>\n",
       "<table border=\"1\" class=\"dataframe\">\n",
       "  <thead>\n",
       "    <tr style=\"text-align: right;\">\n",
       "      <th></th>\n",
       "      <th>Environment Category</th>\n",
       "      <th>White</th>\n",
       "      <th>Black</th>\n",
       "      <th>Asian</th>\n",
       "      <th>NHOPI</th>\n",
       "      <th>AIAN</th>\n",
       "      <th>Other/Multi</th>\n",
       "      <th>Hispanic/Latinx</th>\n",
       "    </tr>\n",
       "  </thead>\n",
       "  <tbody>\n",
       "    <tr>\n",
       "      <th>0</th>\n",
       "      <td>Food Desert</td>\n",
       "      <td>6048719</td>\n",
       "      <td>3948444</td>\n",
       "      <td>169211</td>\n",
       "      <td>11480</td>\n",
       "      <td>438434</td>\n",
       "      <td>621001</td>\n",
       "      <td>988722</td>\n",
       "    </tr>\n",
       "    <tr>\n",
       "      <th>1</th>\n",
       "      <td>Healthy</td>\n",
       "      <td>217087544</td>\n",
       "      <td>33871990</td>\n",
       "      <td>14635995</td>\n",
       "      <td>525799</td>\n",
       "      <td>2454102</td>\n",
       "      <td>27378974</td>\n",
       "      <td>49296655</td>\n",
       "    </tr>\n",
       "  </tbody>\n",
       "</table>\n",
       "</div>"
      ],
      "text/plain": [
       "  Environment Category      White     Black     Asian   NHOPI     AIAN  \\\n",
       "0          Food Desert    6048719   3948444    169211   11480   438434   \n",
       "1              Healthy  217087544  33871990  14635995  525799  2454102   \n",
       "\n",
       "   Other/Multi  Hispanic/Latinx  \n",
       "0       621001           988722  \n",
       "1     27378974         49296655  "
      ]
     },
     "execution_count": 36,
     "metadata": {},
     "output_type": "execute_result"
    }
   ],
   "source": [
    "#Create dataframe to hold data\n",
    "race_sum_deserts_df = pd.DataFrame(\n",
    "    {\"White\": white_pop,\n",
    "    \"Black\": black_pop,\n",
    "    \"Asian\": asian_pop,\n",
    "    \"NHOPI\": nhopi_pop,\n",
    "    \"AIAN\": aian_pop,\n",
    "    \"Other/Multi\": omultir_pop,\n",
    "    \"Hispanic/Latinx\": hispanic_pop})\n",
    "race_sum_deserts_df.reset_index()"
   ]
  },
  {
   "cell_type": "code",
   "execution_count": 37,
   "metadata": {},
   "outputs": [
    {
     "data": {
      "image/png": "[encoded data removed]",
      "text/plain": [
       "<Figure size 720x360 with 1 Axes>"
      ]
     },
     "metadata": {},
     "output_type": "display_data"
    }
   ],
   "source": [
    "#Race Pie Chart\n",
    "#Food Desert:\n",
    "# Pie chart\n",
    "labels = ['White: 49.3%', 'Black: 32.7%', 'Asian: 1.4%', 'NHOPI: 0.1%','AIAN: 3.5%','Other/Multi: 5.0%','Hispanic/Latinx: 8.0%']\n",
    "sizes = [6192366,4110488,178566,11556,439300,632889,999993]\n",
    "#colors\n",
    "colors = ['#ff5e5e','#52a9ff','#72ff72','#ff9b37','#8585ff','#ff5eaf','#ffea00']\n",
    "\n",
    "\n",
    "\n",
    "\n",
    "fig1, ax1 = plt.subplots()\n",
    "ax1.pie(sizes, colors = colors, autopct='%1.1f%%', startangle=90,pctdistance=0.85)\n",
    "#draw circle\n",
    "centre_circle = plt.Circle((0,0),0.70,fc='white')\n",
    "fig = plt.gcf()\n",
    "fig.gca().add_artist(centre_circle)\n",
    "# Equal aspect ratio ensures that pie is drawn as a circle\n",
    "ax1.axis('equal')  \n",
    "plt.tight_layout(4)\n",
    "plt.title(\"Food Desert Racial Distribution\")\n",
    "plt.legend(labels)\n",
    "\n",
    "fig.set_size_inches(10,5)\n",
    "\n",
    "plt.savefig(\"PiePlots/Food Desert Racial Distribution.png\")\n",
    "plt.show()\n",
    "\n"
   ]
  },
  {
   "cell_type": "code",
   "execution_count": 38,
   "metadata": {},
   "outputs": [
    {
     "data": {
      "image/png": "[encoded data removed]",
      "text/plain": [
       "<Figure size 720x360 with 1 Axes>"
      ]
     },
     "metadata": {},
     "output_type": "display_data"
    }
   ],
   "source": [
    "#Race Pie Chart\n",
    "#Non Food Desert:\n",
    "# Pie chart\n",
    "labels = ['White: 62.8%', 'Black: 9.9%', 'Asian: 4.2%', 'NHOPI: 0.2%','AIAN: 0.7%','Other/Multi: 8.0%','Hispanic/Latinx: 14.3%']\n",
    "sizes = [215548737,33849445,14395563,524949,2451822,27294395,49250707]\n",
    "#colors\n",
    "colors = ['#ff5e5e','#52a9ff','#72ff72','#ff9b37','#8585ff','#ff5eaf','#ffea00']\n",
    " \n",
    "fig1, ax1 = plt.subplots()\n",
    "ax1.pie(sizes, colors = colors, autopct='%1.1f%%', startangle=90,pctdistance=0.85)\n",
    "#draw circle\n",
    "centre_circle = plt.Circle((0,0),0.70,fc='white')\n",
    "fig = plt.gcf()\n",
    "fig.gca().add_artist(centre_circle)\n",
    "# Equal aspect ratio ensures that pie is drawn as a circle\n",
    "ax1.axis('equal')  \n",
    "plt.tight_layout(4)\n",
    "plt.title(\"Non Food Desert Racial Distribution\")\n",
    "plt.legend(labels)\n",
    "\n",
    "fig.set_size_inches(10,5)\n",
    "\n",
    "plt.savefig(\"PiePlots/Non Food Desert Racial Distribution.png\")\n",
    "plt.show()\n",
    "\n"
   ]
  },
  {
   "cell_type": "code",
   "execution_count": 39,
   "metadata": {},
   "outputs": [
    {
     "data": {
      "text/plain": [
       "1587    5.3\n",
       "Name: Food Environment Index, dtype: float64"
      ]
     },
     "execution_count": 39,
     "metadata": {},
     "output_type": "execute_result"
    }
   ],
   "source": [
    "#Montana pie charts\n",
    "\n",
    "#Calculating known food desert, Blaine, Food Environment Index\n",
    "blainemt = combined_df.loc[(combined_df[\"State\"] == \"Montana\")&(combined_df[\"County\"]== \"Blaine\")]\n",
    "blainemt[\"Food Environment Index\"]"
   ]
  },
  {
   "cell_type": "code",
   "execution_count": 40,
   "metadata": {},
   "outputs": [
    {
     "data": {
      "text/html": [
       "<div>\n",
       "<style scoped>\n",
       "    .dataframe tbody tr th:only-of-type {\n",
       "        vertical-align: middle;\n",
       "    }\n",
       "\n",
       "    .dataframe tbody tr th {\n",
       "        vertical-align: top;\n",
       "    }\n",
       "\n",
       "    .dataframe thead th {\n",
       "        text-align: right;\n",
       "    }\n",
       "</style>\n",
       "<table border=\"1\" class=\"dataframe\">\n",
       "  <thead>\n",
       "    <tr style=\"text-align: right;\">\n",
       "      <th></th>\n",
       "      <th>State</th>\n",
       "      <th>County</th>\n",
       "      <th>POP2010</th>\n",
       "      <th>OHU2010</th>\n",
       "      <th>PovertyRate</th>\n",
       "      <th>MedianFamilyIncome</th>\n",
       "      <th>LILATracts_1And10</th>\n",
       "      <th>LILATracts_halfAnd10</th>\n",
       "      <th>LILATracts_1And20</th>\n",
       "      <th>LILATracts_Vehicle</th>\n",
       "      <th>...</th>\n",
       "      <th>% Obese</th>\n",
       "      <th>% Fair/Poor</th>\n",
       "      <th># Diabetics</th>\n",
       "      <th># Violent Crimes</th>\n",
       "      <th># Unemployed</th>\n",
       "      <th>% Children in Poverty</th>\n",
       "      <th>Latitude</th>\n",
       "      <th>Longitude</th>\n",
       "      <th>Original Medicare</th>\n",
       "      <th>Environment Category</th>\n",
       "    </tr>\n",
       "  </thead>\n",
       "  <tbody>\n",
       "    <tr>\n",
       "      <th>1585</th>\n",
       "      <td>Montana</td>\n",
       "      <td>Beaverhead</td>\n",
       "      <td>9246</td>\n",
       "      <td>4014</td>\n",
       "      <td>14.566667</td>\n",
       "      <td>53953.0</td>\n",
       "      <td>2</td>\n",
       "      <td>2</td>\n",
       "      <td>2</td>\n",
       "      <td>1</td>\n",
       "      <td>...</td>\n",
       "      <td>24</td>\n",
       "      <td>12</td>\n",
       "      <td>126.0</td>\n",
       "      <td>10.0</td>\n",
       "      <td>171.0</td>\n",
       "      <td>21.0</td>\n",
       "      <td>45.132700</td>\n",
       "      <td>-112.898820</td>\n",
       "      <td>1841</td>\n",
       "      <td>Healthy</td>\n",
       "    </tr>\n",
       "    <tr>\n",
       "      <th>1586</th>\n",
       "      <td>Montana</td>\n",
       "      <td>Big Horn</td>\n",
       "      <td>12865</td>\n",
       "      <td>4004</td>\n",
       "      <td>31.220000</td>\n",
       "      <td>46813.2</td>\n",
       "      <td>4</td>\n",
       "      <td>4</td>\n",
       "      <td>1</td>\n",
       "      <td>1</td>\n",
       "      <td>...</td>\n",
       "      <td>39</td>\n",
       "      <td>22</td>\n",
       "      <td>193.0</td>\n",
       "      <td>28.0</td>\n",
       "      <td>372.0</td>\n",
       "      <td>40.0</td>\n",
       "      <td>45.423382</td>\n",
       "      <td>-107.489853</td>\n",
       "      <td>1607</td>\n",
       "      <td>Food Desert</td>\n",
       "    </tr>\n",
       "    <tr>\n",
       "      <th>1587</th>\n",
       "      <td>Montana</td>\n",
       "      <td>Blaine</td>\n",
       "      <td>6491</td>\n",
       "      <td>2357</td>\n",
       "      <td>29.800000</td>\n",
       "      <td>38925.5</td>\n",
       "      <td>1</td>\n",
       "      <td>1</td>\n",
       "      <td>1</td>\n",
       "      <td>1</td>\n",
       "      <td>...</td>\n",
       "      <td>36</td>\n",
       "      <td>20</td>\n",
       "      <td>100.0</td>\n",
       "      <td>10.0</td>\n",
       "      <td>120.0</td>\n",
       "      <td>40.0</td>\n",
       "      <td>48.432676</td>\n",
       "      <td>-108.958602</td>\n",
       "      <td>1004</td>\n",
       "      <td>Food Desert</td>\n",
       "    </tr>\n",
       "    <tr>\n",
       "      <th>1588</th>\n",
       "      <td>Montana</td>\n",
       "      <td>Broadwater</td>\n",
       "      <td>5612</td>\n",
       "      <td>2347</td>\n",
       "      <td>11.250000</td>\n",
       "      <td>48507.5</td>\n",
       "      <td>0</td>\n",
       "      <td>0</td>\n",
       "      <td>0</td>\n",
       "      <td>0</td>\n",
       "      <td>...</td>\n",
       "      <td>30</td>\n",
       "      <td>12</td>\n",
       "      <td>64.0</td>\n",
       "      <td>20.0</td>\n",
       "      <td>124.0</td>\n",
       "      <td>16.0</td>\n",
       "      <td>46.332424</td>\n",
       "      <td>-111.495487</td>\n",
       "      <td>1111</td>\n",
       "      <td>Healthy</td>\n",
       "    </tr>\n",
       "    <tr>\n",
       "      <th>1589</th>\n",
       "      <td>Montana</td>\n",
       "      <td>Carbon</td>\n",
       "      <td>10078</td>\n",
       "      <td>4571</td>\n",
       "      <td>11.480000</td>\n",
       "      <td>60412.6</td>\n",
       "      <td>1</td>\n",
       "      <td>1</td>\n",
       "      <td>0</td>\n",
       "      <td>0</td>\n",
       "      <td>...</td>\n",
       "      <td>24</td>\n",
       "      <td>11</td>\n",
       "      <td>131.0</td>\n",
       "      <td>20.0</td>\n",
       "      <td>200.0</td>\n",
       "      <td>15.0</td>\n",
       "      <td>45.227386</td>\n",
       "      <td>-109.028016</td>\n",
       "      <td>1993</td>\n",
       "      <td>Healthy</td>\n",
       "    </tr>\n",
       "  </tbody>\n",
       "</table>\n",
       "<p>5 rows × 41 columns</p>\n",
       "</div>"
      ],
      "text/plain": [
       "        State      County  POP2010  OHU2010  PovertyRate  MedianFamilyIncome  \\\n",
       "1585  Montana  Beaverhead     9246     4014    14.566667             53953.0   \n",
       "1586  Montana    Big Horn    12865     4004    31.220000             46813.2   \n",
       "1587  Montana      Blaine     6491     2357    29.800000             38925.5   \n",
       "1588  Montana  Broadwater     5612     2347    11.250000             48507.5   \n",
       "1589  Montana      Carbon    10078     4571    11.480000             60412.6   \n",
       "\n",
       "      LILATracts_1And10  LILATracts_halfAnd10  LILATracts_1And20  \\\n",
       "1585                  2                     2                  2   \n",
       "1586                  4                     4                  1   \n",
       "1587                  1                     1                  1   \n",
       "1588                  0                     0                  0   \n",
       "1589                  1                     1                  0   \n",
       "\n",
       "      LILATracts_Vehicle  ...  % Obese  % Fair/Poor  # Diabetics  \\\n",
       "1585                   1  ...       24           12        126.0   \n",
       "1586                   1  ...       39           22        193.0   \n",
       "1587                   1  ...       36           20        100.0   \n",
       "1588                   0  ...       30           12         64.0   \n",
       "1589                   0  ...       24           11        131.0   \n",
       "\n",
       "      # Violent Crimes  # Unemployed  % Children in Poverty   Latitude  \\\n",
       "1585              10.0         171.0                   21.0  45.132700   \n",
       "1586              28.0         372.0                   40.0  45.423382   \n",
       "1587              10.0         120.0                   40.0  48.432676   \n",
       "1588              20.0         124.0                   16.0  46.332424   \n",
       "1589              20.0         200.0                   15.0  45.227386   \n",
       "\n",
       "       Longitude  Original Medicare  Environment Category  \n",
       "1585 -112.898820               1841               Healthy  \n",
       "1586 -107.489853               1607           Food Desert  \n",
       "1587 -108.958602               1004           Food Desert  \n",
       "1588 -111.495487               1111               Healthy  \n",
       "1589 -109.028016               1993               Healthy  \n",
       "\n",
       "[5 rows x 41 columns]"
      ]
     },
     "execution_count": 40,
     "metadata": {},
     "output_type": "execute_result"
    }
   ],
   "source": [
    "#Find Average Montana Food Environment Index\n",
    "mt_info = combined_df.loc[combined_df[\"State\"] == \"Montana\"]\n",
    "mt_info.head()"
   ]
  },
  {
   "cell_type": "code",
   "execution_count": 41,
   "metadata": {},
   "outputs": [],
   "source": [
    "#Info in question\n",
    "important = mt_info[[\"State\", \"County\", \"Food Environment Index\",\"POP2010\", \"PovertyRate\", \"MedianFamilyIncome\",\"% Obese\",\"% Fair/Poor\",\"# Diabetics\", \"# Violent Crimes\", \"Original Medicare\"]].copy()\n"
   ]
  },
  {
   "cell_type": "code",
   "execution_count": 42,
   "metadata": {},
   "outputs": [
    {
     "data": {
      "text/plain": [
       "6.375"
      ]
     },
     "execution_count": 42,
     "metadata": {},
     "output_type": "execute_result"
    }
   ],
   "source": [
    "avg_mt_fei=mt_info[\"Food Environment Index\"].mean()\n",
    "avg_mt_fei"
   ]
  },
  {
   "cell_type": "code",
   "execution_count": 43,
   "metadata": {},
   "outputs": [
    {
     "data": {
      "text/plain": [
       "8.3"
      ]
     },
     "execution_count": 43,
     "metadata": {},
     "output_type": "execute_result"
    }
   ],
   "source": [
    "#Calculate highest Food Environment Index for the state\n",
    "max_mt_fei=mt_info[\"Food Environment Index\"].max()\n",
    "max_mt_fei"
   ]
  },
  {
   "cell_type": "code",
   "execution_count": 44,
   "metadata": {},
   "outputs": [
    {
     "data": {
      "text/plain": [
       "3.1"
      ]
     },
     "execution_count": 44,
     "metadata": {},
     "output_type": "execute_result"
    }
   ],
   "source": [
    "#Calculate highest Food Environment Index for the state\n",
    "min_mt_fei=mt_info[\"Food Environment Index\"].min()\n",
    "min_mt_fei"
   ]
  },
  {
   "cell_type": "code",
   "execution_count": 45,
   "metadata": {},
   "outputs": [
    {
     "data": {
      "text/html": [
       "<div>\n",
       "<style scoped>\n",
       "    .dataframe tbody tr th:only-of-type {\n",
       "        vertical-align: middle;\n",
       "    }\n",
       "\n",
       "    .dataframe tbody tr th {\n",
       "        vertical-align: top;\n",
       "    }\n",
       "\n",
       "    .dataframe thead th {\n",
       "        text-align: right;\n",
       "    }\n",
       "</style>\n",
       "<table border=\"1\" class=\"dataframe\">\n",
       "  <thead>\n",
       "    <tr style=\"text-align: right;\">\n",
       "      <th></th>\n",
       "      <th>State</th>\n",
       "      <th>County</th>\n",
       "      <th>POP2010</th>\n",
       "      <th>OHU2010</th>\n",
       "      <th>PovertyRate</th>\n",
       "      <th>MedianFamilyIncome</th>\n",
       "      <th>LILATracts_1And10</th>\n",
       "      <th>LILATracts_halfAnd10</th>\n",
       "      <th>LILATracts_1And20</th>\n",
       "      <th>LILATracts_Vehicle</th>\n",
       "      <th>...</th>\n",
       "      <th>% Obese</th>\n",
       "      <th>% Fair/Poor</th>\n",
       "      <th># Diabetics</th>\n",
       "      <th># Violent Crimes</th>\n",
       "      <th># Unemployed</th>\n",
       "      <th>% Children in Poverty</th>\n",
       "      <th>Latitude</th>\n",
       "      <th>Longitude</th>\n",
       "      <th>Original Medicare</th>\n",
       "      <th>Environment Category</th>\n",
       "    </tr>\n",
       "  </thead>\n",
       "  <tbody>\n",
       "    <tr>\n",
       "      <th>1597</th>\n",
       "      <td>Montana</td>\n",
       "      <td>Fallon</td>\n",
       "      <td>2890</td>\n",
       "      <td>1233</td>\n",
       "      <td>6.200000</td>\n",
       "      <td>67375.000000</td>\n",
       "      <td>0</td>\n",
       "      <td>0</td>\n",
       "      <td>0</td>\n",
       "      <td>0</td>\n",
       "      <td>...</td>\n",
       "      <td>28</td>\n",
       "      <td>10</td>\n",
       "      <td>35.0</td>\n",
       "      <td>3.0</td>\n",
       "      <td>46.0</td>\n",
       "      <td>10.0</td>\n",
       "      <td>46.333997</td>\n",
       "      <td>-104.417424</td>\n",
       "      <td>508</td>\n",
       "      <td>Healthy</td>\n",
       "    </tr>\n",
       "    <tr>\n",
       "      <th>1632</th>\n",
       "      <td>Montana</td>\n",
       "      <td>Stillwater</td>\n",
       "      <td>9117</td>\n",
       "      <td>3796</td>\n",
       "      <td>7.566667</td>\n",
       "      <td>72431.333333</td>\n",
       "      <td>0</td>\n",
       "      <td>0</td>\n",
       "      <td>0</td>\n",
       "      <td>0</td>\n",
       "      <td>...</td>\n",
       "      <td>22</td>\n",
       "      <td>11</td>\n",
       "      <td>134.0</td>\n",
       "      <td>21.0</td>\n",
       "      <td>183.0</td>\n",
       "      <td>10.0</td>\n",
       "      <td>45.669053</td>\n",
       "      <td>-109.395217</td>\n",
       "      <td>1692</td>\n",
       "      <td>Healthy</td>\n",
       "    </tr>\n",
       "  </tbody>\n",
       "</table>\n",
       "<p>2 rows × 41 columns</p>\n",
       "</div>"
      ],
      "text/plain": [
       "        State      County  POP2010  OHU2010  PovertyRate  MedianFamilyIncome  \\\n",
       "1597  Montana      Fallon     2890     1233     6.200000        67375.000000   \n",
       "1632  Montana  Stillwater     9117     3796     7.566667        72431.333333   \n",
       "\n",
       "      LILATracts_1And10  LILATracts_halfAnd10  LILATracts_1And20  \\\n",
       "1597                  0                     0                  0   \n",
       "1632                  0                     0                  0   \n",
       "\n",
       "      LILATracts_Vehicle  ...  % Obese  % Fair/Poor  # Diabetics  \\\n",
       "1597                   0  ...       28           10         35.0   \n",
       "1632                   0  ...       22           11        134.0   \n",
       "\n",
       "      # Violent Crimes  # Unemployed  % Children in Poverty   Latitude  \\\n",
       "1597               3.0          46.0                   10.0  46.333997   \n",
       "1632              21.0         183.0                   10.0  45.669053   \n",
       "\n",
       "       Longitude  Original Medicare  Environment Category  \n",
       "1597 -104.417424                508               Healthy  \n",
       "1632 -109.395217               1692               Healthy  \n",
       "\n",
       "[2 rows x 41 columns]"
      ]
     },
     "execution_count": 45,
     "metadata": {},
     "output_type": "execute_result"
    }
   ],
   "source": [
    "#Find county name for max\n",
    "max_name=mt_info.loc[mt_info[\"Food Environment Index\"]==max_mt_fei]\n",
    "max_name"
   ]
  },
  {
   "cell_type": "code",
   "execution_count": 46,
   "metadata": {},
   "outputs": [
    {
     "data": {
      "text/html": [
       "<div>\n",
       "<style scoped>\n",
       "    .dataframe tbody tr th:only-of-type {\n",
       "        vertical-align: middle;\n",
       "    }\n",
       "\n",
       "    .dataframe tbody tr th {\n",
       "        vertical-align: top;\n",
       "    }\n",
       "\n",
       "    .dataframe thead th {\n",
       "        text-align: right;\n",
       "    }\n",
       "</style>\n",
       "<table border=\"1\" class=\"dataframe\">\n",
       "  <thead>\n",
       "    <tr style=\"text-align: right;\">\n",
       "      <th></th>\n",
       "      <th>State</th>\n",
       "      <th>County</th>\n",
       "      <th>POP2010</th>\n",
       "      <th>OHU2010</th>\n",
       "      <th>PovertyRate</th>\n",
       "      <th>MedianFamilyIncome</th>\n",
       "      <th>LILATracts_1And10</th>\n",
       "      <th>LILATracts_halfAnd10</th>\n",
       "      <th>LILATracts_1And20</th>\n",
       "      <th>LILATracts_Vehicle</th>\n",
       "      <th>...</th>\n",
       "      <th>% Obese</th>\n",
       "      <th>% Fair/Poor</th>\n",
       "      <th># Diabetics</th>\n",
       "      <th># Violent Crimes</th>\n",
       "      <th># Unemployed</th>\n",
       "      <th>% Children in Poverty</th>\n",
       "      <th>Latitude</th>\n",
       "      <th>Longitude</th>\n",
       "      <th>Original Medicare</th>\n",
       "      <th>Environment Category</th>\n",
       "    </tr>\n",
       "  </thead>\n",
       "  <tbody>\n",
       "    <tr>\n",
       "      <th>1614</th>\n",
       "      <td>Montana</td>\n",
       "      <td>Meagher</td>\n",
       "      <td>1891</td>\n",
       "      <td>806</td>\n",
       "      <td>14.1</td>\n",
       "      <td>44965.0</td>\n",
       "      <td>1</td>\n",
       "      <td>1</td>\n",
       "      <td>1</td>\n",
       "      <td>1</td>\n",
       "      <td>...</td>\n",
       "      <td>24</td>\n",
       "      <td>14</td>\n",
       "      <td>26.0</td>\n",
       "      <td>2.0</td>\n",
       "      <td>34.0</td>\n",
       "      <td>32.0</td>\n",
       "      <td>46.598224</td>\n",
       "      <td>-110.885661</td>\n",
       "      <td>521</td>\n",
       "      <td>Food Desert</td>\n",
       "    </tr>\n",
       "  </tbody>\n",
       "</table>\n",
       "<p>1 rows × 41 columns</p>\n",
       "</div>"
      ],
      "text/plain": [
       "        State   County  POP2010  OHU2010  PovertyRate  MedianFamilyIncome  \\\n",
       "1614  Montana  Meagher     1891      806         14.1             44965.0   \n",
       "\n",
       "      LILATracts_1And10  LILATracts_halfAnd10  LILATracts_1And20  \\\n",
       "1614                  1                     1                  1   \n",
       "\n",
       "      LILATracts_Vehicle  ...  % Obese  % Fair/Poor  # Diabetics  \\\n",
       "1614                   1  ...       24           14         26.0   \n",
       "\n",
       "      # Violent Crimes  # Unemployed  % Children in Poverty   Latitude  \\\n",
       "1614               2.0          34.0                   32.0  46.598224   \n",
       "\n",
       "       Longitude  Original Medicare  Environment Category  \n",
       "1614 -110.885661                521           Food Desert  \n",
       "\n",
       "[1 rows x 41 columns]"
      ]
     },
     "execution_count": 46,
     "metadata": {},
     "output_type": "execute_result"
    }
   ],
   "source": [
    "#Find county name for min\n",
    "min_name=mt_info.loc[mt_info[\"Food Environment Index\"]==min_mt_fei]\n",
    "min_name\n",
    "#Did not choose Meagher county due to population differences"
   ]
  },
  {
   "cell_type": "code",
   "execution_count": 47,
   "metadata": {},
   "outputs": [
    {
     "data": {
      "text/plain": [
       "1638    3.4\n",
       "Name: Food Environment Index, dtype: float64"
      ]
     },
     "execution_count": 47,
     "metadata": {},
     "output_type": "execute_result"
    }
   ],
   "source": [
    "#Chose Wheatland, MT to compare to Fallon due to similar population size (or as close possible)\n",
    "wheatlandmt = combined_df.loc[(combined_df[\"State\"] == \"Montana\")&(combined_df[\"County\"]== \"Wheatland\")]\n",
    "wheatlandmt[\"Food Environment Index\"]"
   ]
  },
  {
   "cell_type": "code",
   "execution_count": 48,
   "metadata": {},
   "outputs": [
    {
     "data": {
      "text/html": [
       "<div>\n",
       "<style scoped>\n",
       "    .dataframe tbody tr th:only-of-type {\n",
       "        vertical-align: middle;\n",
       "    }\n",
       "\n",
       "    .dataframe tbody tr th {\n",
       "        vertical-align: top;\n",
       "    }\n",
       "\n",
       "    .dataframe thead th {\n",
       "        text-align: right;\n",
       "    }\n",
       "</style>\n",
       "<table border=\"1\" class=\"dataframe\">\n",
       "  <thead>\n",
       "    <tr style=\"text-align: right;\">\n",
       "      <th></th>\n",
       "      <th>State</th>\n",
       "      <th>County</th>\n",
       "      <th>POP2010</th>\n",
       "      <th>OHU2010</th>\n",
       "      <th>PovertyRate</th>\n",
       "      <th>MedianFamilyIncome</th>\n",
       "      <th>LILATracts_1And10</th>\n",
       "      <th>LILATracts_halfAnd10</th>\n",
       "      <th>LILATracts_1And20</th>\n",
       "      <th>LILATracts_Vehicle</th>\n",
       "      <th>...</th>\n",
       "      <th>% Obese</th>\n",
       "      <th>% Fair/Poor</th>\n",
       "      <th># Diabetics</th>\n",
       "      <th># Violent Crimes</th>\n",
       "      <th># Unemployed</th>\n",
       "      <th>% Children in Poverty</th>\n",
       "      <th>Latitude</th>\n",
       "      <th>Longitude</th>\n",
       "      <th>Original Medicare</th>\n",
       "      <th>Environment Category</th>\n",
       "    </tr>\n",
       "  </thead>\n",
       "  <tbody>\n",
       "    <tr>\n",
       "      <th>1638</th>\n",
       "      <td>Montana</td>\n",
       "      <td>Wheatland</td>\n",
       "      <td>2168</td>\n",
       "      <td>887</td>\n",
       "      <td>14.1</td>\n",
       "      <td>40956.0</td>\n",
       "      <td>1</td>\n",
       "      <td>1</td>\n",
       "      <td>1</td>\n",
       "      <td>1</td>\n",
       "      <td>...</td>\n",
       "      <td>25</td>\n",
       "      <td>14</td>\n",
       "      <td>23.0</td>\n",
       "      <td>2.0</td>\n",
       "      <td>43.0</td>\n",
       "      <td>33.0</td>\n",
       "      <td>46.466281</td>\n",
       "      <td>-109.844522</td>\n",
       "      <td>470</td>\n",
       "      <td>Food Desert</td>\n",
       "    </tr>\n",
       "  </tbody>\n",
       "</table>\n",
       "<p>1 rows × 41 columns</p>\n",
       "</div>"
      ],
      "text/plain": [
       "        State     County  POP2010  OHU2010  PovertyRate  MedianFamilyIncome  \\\n",
       "1638  Montana  Wheatland     2168      887         14.1             40956.0   \n",
       "\n",
       "      LILATracts_1And10  LILATracts_halfAnd10  LILATracts_1And20  \\\n",
       "1638                  1                     1                  1   \n",
       "\n",
       "      LILATracts_Vehicle  ...  % Obese  % Fair/Poor  # Diabetics  \\\n",
       "1638                   1  ...       25           14         23.0   \n",
       "\n",
       "      # Violent Crimes  # Unemployed  % Children in Poverty   Latitude  \\\n",
       "1638               2.0          43.0                   33.0  46.466281   \n",
       "\n",
       "       Longitude  Original Medicare  Environment Category  \n",
       "1638 -109.844522                470           Food Desert  \n",
       "\n",
       "[1 rows x 41 columns]"
      ]
     },
     "execution_count": 48,
     "metadata": {},
     "output_type": "execute_result"
    }
   ],
   "source": [
    "wheatlandmt"
   ]
  },
  {
   "cell_type": "code",
   "execution_count": 49,
   "metadata": {},
   "outputs": [
    {
     "data": {
      "text/html": [
       "<div>\n",
       "<style scoped>\n",
       "    .dataframe tbody tr th:only-of-type {\n",
       "        vertical-align: middle;\n",
       "    }\n",
       "\n",
       "    .dataframe tbody tr th {\n",
       "        vertical-align: top;\n",
       "    }\n",
       "\n",
       "    .dataframe thead th {\n",
       "        text-align: right;\n",
       "    }\n",
       "</style>\n",
       "<table border=\"1\" class=\"dataframe\">\n",
       "  <thead>\n",
       "    <tr style=\"text-align: right;\">\n",
       "      <th></th>\n",
       "      <th>State</th>\n",
       "      <th>County</th>\n",
       "      <th>POP2010</th>\n",
       "      <th>OHU2010</th>\n",
       "      <th>PovertyRate</th>\n",
       "      <th>MedianFamilyIncome</th>\n",
       "      <th>LILATracts_1And10</th>\n",
       "      <th>LILATracts_halfAnd10</th>\n",
       "      <th>LILATracts_1And20</th>\n",
       "      <th>LILATracts_Vehicle</th>\n",
       "      <th>...</th>\n",
       "      <th>% Obese</th>\n",
       "      <th>% Fair/Poor</th>\n",
       "      <th># Diabetics</th>\n",
       "      <th># Violent Crimes</th>\n",
       "      <th># Unemployed</th>\n",
       "      <th>% Children in Poverty</th>\n",
       "      <th>Latitude</th>\n",
       "      <th>Longitude</th>\n",
       "      <th>Original Medicare</th>\n",
       "      <th>Environment Category</th>\n",
       "    </tr>\n",
       "  </thead>\n",
       "  <tbody>\n",
       "    <tr>\n",
       "      <th>1597</th>\n",
       "      <td>Montana</td>\n",
       "      <td>Fallon</td>\n",
       "      <td>2890</td>\n",
       "      <td>1233</td>\n",
       "      <td>6.2</td>\n",
       "      <td>67375.0</td>\n",
       "      <td>0</td>\n",
       "      <td>0</td>\n",
       "      <td>0</td>\n",
       "      <td>0</td>\n",
       "      <td>...</td>\n",
       "      <td>28</td>\n",
       "      <td>10</td>\n",
       "      <td>35.0</td>\n",
       "      <td>3.0</td>\n",
       "      <td>46.0</td>\n",
       "      <td>10.0</td>\n",
       "      <td>46.333997</td>\n",
       "      <td>-104.417424</td>\n",
       "      <td>508</td>\n",
       "      <td>Healthy</td>\n",
       "    </tr>\n",
       "  </tbody>\n",
       "</table>\n",
       "<p>1 rows × 41 columns</p>\n",
       "</div>"
      ],
      "text/plain": [
       "        State  County  POP2010  OHU2010  PovertyRate  MedianFamilyIncome  \\\n",
       "1597  Montana  Fallon     2890     1233          6.2             67375.0   \n",
       "\n",
       "      LILATracts_1And10  LILATracts_halfAnd10  LILATracts_1And20  \\\n",
       "1597                  0                     0                  0   \n",
       "\n",
       "      LILATracts_Vehicle  ...  % Obese  % Fair/Poor  # Diabetics  \\\n",
       "1597                   0  ...       28           10         35.0   \n",
       "\n",
       "      # Violent Crimes  # Unemployed  % Children in Poverty   Latitude  \\\n",
       "1597               3.0          46.0                   10.0  46.333997   \n",
       "\n",
       "       Longitude  Original Medicare  Environment Category  \n",
       "1597 -104.417424                508               Healthy  \n",
       "\n",
       "[1 rows x 41 columns]"
      ]
     },
     "execution_count": 49,
     "metadata": {},
     "output_type": "execute_result"
    }
   ],
   "source": [
    "fallonmt = combined_df.loc[(combined_df[\"State\"] == \"Montana\")&(combined_df[\"County\"]== \"Fallon\")]\n",
    "fallonmt"
   ]
  },
  {
   "cell_type": "code",
   "execution_count": 50,
   "metadata": {},
   "outputs": [
    {
     "data": {
      "text/html": [
       "<div>\n",
       "<style scoped>\n",
       "    .dataframe tbody tr th:only-of-type {\n",
       "        vertical-align: middle;\n",
       "    }\n",
       "\n",
       "    .dataframe tbody tr th {\n",
       "        vertical-align: top;\n",
       "    }\n",
       "\n",
       "    .dataframe thead th {\n",
       "        text-align: right;\n",
       "    }\n",
       "</style>\n",
       "<table border=\"1\" class=\"dataframe\">\n",
       "  <thead>\n",
       "    <tr style=\"text-align: right;\">\n",
       "      <th></th>\n",
       "      <th>State</th>\n",
       "      <th>County</th>\n",
       "      <th>POP2010</th>\n",
       "      <th>OHU2010</th>\n",
       "      <th>PovertyRate</th>\n",
       "      <th>MedianFamilyIncome</th>\n",
       "      <th>LILATracts_1And10</th>\n",
       "      <th>LILATracts_halfAnd10</th>\n",
       "      <th>LILATracts_1And20</th>\n",
       "      <th>LILATracts_Vehicle</th>\n",
       "      <th>...</th>\n",
       "      <th>% Obese</th>\n",
       "      <th>% Fair/Poor</th>\n",
       "      <th># Diabetics</th>\n",
       "      <th># Violent Crimes</th>\n",
       "      <th># Unemployed</th>\n",
       "      <th>% Children in Poverty</th>\n",
       "      <th>Latitude</th>\n",
       "      <th>Longitude</th>\n",
       "      <th>Original Medicare</th>\n",
       "      <th>Environment Category</th>\n",
       "    </tr>\n",
       "  </thead>\n",
       "  <tbody>\n",
       "    <tr>\n",
       "      <th>1586</th>\n",
       "      <td>Montana</td>\n",
       "      <td>Big Horn</td>\n",
       "      <td>12865</td>\n",
       "      <td>4004</td>\n",
       "      <td>31.22</td>\n",
       "      <td>46813.2</td>\n",
       "      <td>4</td>\n",
       "      <td>4</td>\n",
       "      <td>1</td>\n",
       "      <td>1</td>\n",
       "      <td>...</td>\n",
       "      <td>39</td>\n",
       "      <td>22</td>\n",
       "      <td>193.0</td>\n",
       "      <td>28.0</td>\n",
       "      <td>372.0</td>\n",
       "      <td>40.0</td>\n",
       "      <td>45.423382</td>\n",
       "      <td>-107.489853</td>\n",
       "      <td>1607</td>\n",
       "      <td>Food Desert</td>\n",
       "    </tr>\n",
       "  </tbody>\n",
       "</table>\n",
       "<p>1 rows × 41 columns</p>\n",
       "</div>"
      ],
      "text/plain": [
       "        State    County  POP2010  OHU2010  PovertyRate  MedianFamilyIncome  \\\n",
       "1586  Montana  Big Horn    12865     4004        31.22             46813.2   \n",
       "\n",
       "      LILATracts_1And10  LILATracts_halfAnd10  LILATracts_1And20  \\\n",
       "1586                  4                     4                  1   \n",
       "\n",
       "      LILATracts_Vehicle  ...  % Obese  % Fair/Poor  # Diabetics  \\\n",
       "1586                   1  ...       39           22        193.0   \n",
       "\n",
       "      # Violent Crimes  # Unemployed  % Children in Poverty   Latitude  \\\n",
       "1586              28.0         372.0                   40.0  45.423382   \n",
       "\n",
       "       Longitude  Original Medicare  Environment Category  \n",
       "1586 -107.489853               1607           Food Desert  \n",
       "\n",
       "[1 rows x 41 columns]"
      ]
     },
     "execution_count": 50,
     "metadata": {},
     "output_type": "execute_result"
    }
   ],
   "source": [
    "#Comparing Big Horn County (Food Desert) to Fergus County (Healthy Environment)\n",
    "\n",
    "#Big Horn Info\n",
    "bighornmt = combined_df.loc[(combined_df[\"State\"] == \"Montana\")&(combined_df[\"County\"]== \"Big Horn\")]\n",
    "bighornmt"
   ]
  },
  {
   "cell_type": "code",
   "execution_count": 51,
   "metadata": {},
   "outputs": [
    {
     "data": {
      "text/html": [
       "<div>\n",
       "<style scoped>\n",
       "    .dataframe tbody tr th:only-of-type {\n",
       "        vertical-align: middle;\n",
       "    }\n",
       "\n",
       "    .dataframe tbody tr th {\n",
       "        vertical-align: top;\n",
       "    }\n",
       "\n",
       "    .dataframe thead th {\n",
       "        text-align: right;\n",
       "    }\n",
       "</style>\n",
       "<table border=\"1\" class=\"dataframe\">\n",
       "  <thead>\n",
       "    <tr style=\"text-align: right;\">\n",
       "      <th></th>\n",
       "      <th>State</th>\n",
       "      <th>County</th>\n",
       "      <th>POP2010</th>\n",
       "      <th>OHU2010</th>\n",
       "      <th>PovertyRate</th>\n",
       "      <th>MedianFamilyIncome</th>\n",
       "      <th>LILATracts_1And10</th>\n",
       "      <th>LILATracts_halfAnd10</th>\n",
       "      <th>LILATracts_1And20</th>\n",
       "      <th>LILATracts_Vehicle</th>\n",
       "      <th>...</th>\n",
       "      <th>% Obese</th>\n",
       "      <th>% Fair/Poor</th>\n",
       "      <th># Diabetics</th>\n",
       "      <th># Violent Crimes</th>\n",
       "      <th># Unemployed</th>\n",
       "      <th>% Children in Poverty</th>\n",
       "      <th>Latitude</th>\n",
       "      <th>Longitude</th>\n",
       "      <th>Original Medicare</th>\n",
       "      <th>Environment Category</th>\n",
       "    </tr>\n",
       "  </thead>\n",
       "  <tbody>\n",
       "    <tr>\n",
       "      <th>1598</th>\n",
       "      <td>Montana</td>\n",
       "      <td>Fergus</td>\n",
       "      <td>11586</td>\n",
       "      <td>5099</td>\n",
       "      <td>12.05</td>\n",
       "      <td>56331.5</td>\n",
       "      <td>0</td>\n",
       "      <td>0</td>\n",
       "      <td>0</td>\n",
       "      <td>0</td>\n",
       "      <td>...</td>\n",
       "      <td>26</td>\n",
       "      <td>11</td>\n",
       "      <td>146.0</td>\n",
       "      <td>39.0</td>\n",
       "      <td>239.0</td>\n",
       "      <td>18.0</td>\n",
       "      <td>47.26358</td>\n",
       "      <td>-109.224485</td>\n",
       "      <td>2252</td>\n",
       "      <td>Healthy</td>\n",
       "    </tr>\n",
       "  </tbody>\n",
       "</table>\n",
       "<p>1 rows × 41 columns</p>\n",
       "</div>"
      ],
      "text/plain": [
       "        State  County  POP2010  OHU2010  PovertyRate  MedianFamilyIncome  \\\n",
       "1598  Montana  Fergus    11586     5099        12.05             56331.5   \n",
       "\n",
       "      LILATracts_1And10  LILATracts_halfAnd10  LILATracts_1And20  \\\n",
       "1598                  0                     0                  0   \n",
       "\n",
       "      LILATracts_Vehicle  ...  % Obese  % Fair/Poor  # Diabetics  \\\n",
       "1598                   0  ...       26           11        146.0   \n",
       "\n",
       "      # Violent Crimes  # Unemployed  % Children in Poverty  Latitude  \\\n",
       "1598              39.0         239.0                   18.0  47.26358   \n",
       "\n",
       "       Longitude  Original Medicare  Environment Category  \n",
       "1598 -109.224485               2252               Healthy  \n",
       "\n",
       "[1 rows x 41 columns]"
      ]
     },
     "execution_count": 51,
     "metadata": {},
     "output_type": "execute_result"
    }
   ],
   "source": [
    "#Fergus Info\n",
    "fergusmt = combined_df.loc[(combined_df[\"State\"] == \"Montana\")&(combined_df[\"County\"]== \"Fergus\")]\n",
    "fergusmt"
   ]
  },
  {
   "cell_type": "code",
   "execution_count": 52,
   "metadata": {},
   "outputs": [
    {
     "data": {
      "image/png": "[encoded data removed]",
      "text/plain": [
       "<Figure size 432x288 with 1 Axes>"
      ]
     },
     "metadata": {},
     "output_type": "display_data"
    }
   ],
   "source": [
    "#Big Horn Obesity\n",
    "#Food Desert:\n",
    "# Pie chart\n",
    "labels = [\"Obesity Rate\",\" \"]\n",
    "sizes =  [39,100-39]\n",
    "colors = [\"#A569BD\", \"#E8DAEF\"]\n",
    "explode = (0.01, 0.01)\n",
    "\n",
    "fig1, ax1 = plt.subplots()\n",
    "ax1.pie(sizes, colors = colors, labels=labels,autopct='%1.1f%%',startangle=90, pctdistance=0.85, explode=explode)\n",
    "#draw circle\n",
    "centre_circle = plt.Circle((0,0),0.70,fc='white')\n",
    "fig = plt.gcf()\n",
    "fig.gca().add_artist(centre_circle)\n",
    "# Equal aspect ratio ensures that pie is drawn as a circle\n",
    "ax1.axis('equal')  \n",
    "plt.tight_layout(3)\n",
    "plt.title(\"Big Horn, MT: Food Desert Obesity Rate\")\n",
    "\n",
    "\n",
    "#Save plot:\n",
    "plt.savefig(\"PiePlots/Big Horn (Food Desert) Obesity Rate.png\")\n",
    "plt.show()\n"
   ]
  },
  {
   "cell_type": "code",
   "execution_count": 53,
   "metadata": {},
   "outputs": [
    {
     "data": {
      "image/png": "[encoded data removed]",
      "text/plain": [
       "<Figure size 432x288 with 1 Axes>"
      ]
     },
     "metadata": {},
     "output_type": "display_data"
    }
   ],
   "source": [
    "#Fergus Obesity\n",
    "#Non Food Desert:\n",
    "# Pie chart\n",
    "labels = [\"Obesity Rate\",\" \"]\n",
    "sizes =  [26,100-26]\n",
    "colors = [\"#5DADE2\", \"#D6EAF8\"]\n",
    "explode = (0.01, 0.01)\n",
    "\n",
    "fig1, ax1 = plt.subplots()\n",
    "ax1.pie(sizes, colors = colors, labels=labels,autopct='%1.1f%%',startangle=90, pctdistance=0.85, explode=explode)\n",
    "#draw circle\n",
    "centre_circle = plt.Circle((0,0),0.70,fc='white')\n",
    "fig = plt.gcf()\n",
    "fig.gca().add_artist(centre_circle)\n",
    "# Equal aspect ratio ensures that pie is drawn as a circle\n",
    "ax1.axis('equal')  \n",
    "plt.tight_layout(3)\n",
    "plt.title(\"Fergus, MT: Non Food Desert Obesity Rate\")\n",
    "\n",
    "\n",
    "#Save plot:\n",
    "plt.savefig(\"PiePlots/Fergus (Non Desert) Obesity Rate.png\")\n",
    "plt.show()\n",
    "\n"
   ]
  },
  {
   "cell_type": "code",
   "execution_count": 54,
   "metadata": {},
   "outputs": [
    {
     "data": {
      "image/png": "[encoded data removed]",
      "text/plain": [
       "<Figure size 432x288 with 1 Axes>"
      ]
     },
     "metadata": {},
     "output_type": "display_data"
    }
   ],
   "source": [
    "#BIG HORN\n",
    "#Food Desert:\n",
    "# Pie chart\n",
    "labels = [\"Fair/Poor Health\",\" \"]\n",
    "sizes =  [22,100-22]\n",
    "colors = [\"#A569BD\", \"#E8DAEF\"]\n",
    "explode = (0.01, 0.01)\n",
    "\n",
    "fig1, ax1 = plt.subplots()\n",
    "ax1.pie(sizes, colors = colors, labels=labels,autopct='%1.1f%%',startangle=90, pctdistance=0.85, explode=explode)\n",
    "#draw circle\n",
    "centre_circle = plt.Circle((0,0),0.70,fc='white')\n",
    "fig = plt.gcf()\n",
    "fig.gca().add_artist(centre_circle)\n",
    "# Equal aspect ratio ensures that pie is drawn as a circle\n",
    "ax1.axis('equal')  \n",
    "plt.tight_layout(3)\n",
    "plt.title(\"Big Horn, MT: Food Desert Fair/Poor Health Rate\")\n",
    "\n",
    "\n",
    "#Save plot:\n",
    "plt.savefig(\"PiePlots/Big Horn (Food Desert) Health Rate.png\")\n",
    "plt.show()\n"
   ]
  },
  {
   "cell_type": "code",
   "execution_count": 55,
   "metadata": {},
   "outputs": [
    {
     "data": {
      "image/png": "[encoded data removed]",
      "text/plain": [
       "<Figure size 432x288 with 1 Axes>"
      ]
     },
     "metadata": {},
     "output_type": "display_data"
    }
   ],
   "source": [
    "#Fergus Health Fair/Poor Rate\n",
    "#Non Food Desert:\n",
    "# Pie chart\n",
    "labels = [\"Fair/Poor Health\",\" \"]\n",
    "sizes =  [11,100-11]\n",
    "colors = [\"#5DADE2\", \"#D6EAF8\"]\n",
    "explode = (0.01, 0.01)\n",
    "\n",
    "fig1, ax1 = plt.subplots()\n",
    "ax1.pie(sizes, colors = colors, labels=labels,autopct='%1.1f%%',startangle=90, pctdistance=0.85, explode=explode)\n",
    "#draw circle\n",
    "centre_circle = plt.Circle((0,0),0.70,fc='white')\n",
    "fig = plt.gcf()\n",
    "fig.gca().add_artist(centre_circle)\n",
    "# Equal aspect ratio ensures that pie is drawn as a circle\n",
    "ax1.axis('equal')  \n",
    "plt.tight_layout(3)\n",
    "plt.title(\"Fergus, MT: Non Food Desert Fair/Poor Health Rate\")\n",
    "\n",
    "\n",
    "#Save plot:\n",
    "plt.savefig(\"PiePlots/Fergus (Non Food Desert) Health Rate.png\")\n",
    "plt.show()\n"
   ]
  },
  {
   "cell_type": "code",
   "execution_count": 56,
   "metadata": {},
   "outputs": [
    {
     "data": {
      "text/plain": [
       "1586    0.1201\n",
       "dtype: float64"
      ]
     },
     "execution_count": 56,
     "metadata": {},
     "output_type": "execute_result"
    }
   ],
   "source": [
    "#Calculate diabetes medicare rate for Big Horn\n",
    "bighorn_diabetes=bighornmt[\"# Diabetics\"]/bighornmt[\"Original Medicare\"]\n",
    "bighorn_diabetes"
   ]
  },
  {
   "cell_type": "code",
   "execution_count": 57,
   "metadata": {},
   "outputs": [
    {
     "data": {
      "text/plain": [
       "1598    0.064831\n",
       "dtype: float64"
      ]
     },
     "execution_count": 57,
     "metadata": {},
     "output_type": "execute_result"
    }
   ],
   "source": [
    "#Calculate diabetes medicare rate for Fergus\n",
    "fergus_diabetes=fergusmt[\"# Diabetics\"]/fergusmt[\"Original Medicare\"]\n",
    "fergus_diabetes"
   ]
  },
  {
   "cell_type": "code",
   "execution_count": 58,
   "metadata": {},
   "outputs": [
    {
     "data": {
      "image/png": "[encoded data removed]",
      "text/plain": [
       "<Figure size 432x288 with 1 Axes>"
      ]
     },
     "metadata": {},
     "output_type": "display_data"
    }
   ],
   "source": [
    "#Plot Diabetes for Big Horn\n",
    "#Food Desert:\n",
    "# Pie chart\n",
    "labels = [\"Diabetes\",\" \"]\n",
    "sizes =  [.12,1-.12]\n",
    "colors = [\"#A569BD\", \"#E8DAEF\"]\n",
    "explode = (0.01, 0.01)\n",
    "\n",
    "fig1, ax1 = plt.subplots()\n",
    "ax1.pie(sizes, colors = colors, labels=labels,autopct='%1.1f%%',startangle=90, pctdistance=0.85, explode=explode)\n",
    "#draw circle\n",
    "centre_circle = plt.Circle((0,0),0.70,fc='white')\n",
    "fig = plt.gcf()\n",
    "fig.gca().add_artist(centre_circle)\n",
    "# Equal aspect ratio ensures that pie is drawn as a circle\n",
    "ax1.axis('equal')  \n",
    "plt.tight_layout(3)\n",
    "plt.title(\"Big Horn, MT: Food Desert Diabetes Rate (Medicare Enrollees)\")\n",
    "\n",
    "\n",
    "#Save plot:\n",
    "plt.savefig(\"PiePlots/Big Horn (Food Desert) Diabetes Rate.png\")\n",
    "plt.show()\n"
   ]
  },
  {
   "cell_type": "code",
   "execution_count": 59,
   "metadata": {},
   "outputs": [
    {
     "data": {
      "image/png": "[encoded data removed]",
      "text/plain": [
       "<Figure size 432x288 with 1 Axes>"
      ]
     },
     "metadata": {},
     "output_type": "display_data"
    }
   ],
   "source": [
    "#Plot Diabetes for Fergus\n",
    "#Non Food Desert:\n",
    "# Pie chart\n",
    "labels = [\"Diabetes\",\" \"]\n",
    "sizes =  [.06,1-.06]\n",
    "colors = [\"#5DADE2\", \"#D6EAF8\"]\n",
    "explode = (0.01, 0.01)\n",
    "\n",
    "fig1, ax1 = plt.subplots()\n",
    "ax1.pie(sizes, colors = colors, labels=labels,autopct='%1.1f%%',startangle=90, pctdistance=0.85, explode=explode)\n",
    "#draw circle\n",
    "centre_circle = plt.Circle((0,0),0.70,fc='white')\n",
    "fig = plt.gcf()\n",
    "fig.gca().add_artist(centre_circle)\n",
    "# Equal aspect ratio ensures that pie is drawn as a circle\n",
    "ax1.axis('equal')  \n",
    "plt.tight_layout(3)\n",
    "plt.title(\"Fergus, MT: Non Food Desert Diabetes Rate (Medicare Enrollees)\")\n",
    "\n",
    "\n",
    "#Save plot:\n",
    "plt.savefig(\"PiePlots/Fergus, MT (Non Food Desert) Diabetes Rate.png\")\n",
    "plt.show()\n"
   ]
  },
  {
   "cell_type": "code",
   "execution_count": 60,
   "metadata": {},
   "outputs": [],
   "source": [
    "#Montana Race breakdown\n",
    "#Census defines race by five categories: White, Black, American Indian or Alaska Native, Asian, Native Hawaiian and Other Pacific Islander, and Multiracial\n",
    "#Added hispanic for breakdown purposes\n",
    "#Calculate count of all race tracts:\n",
    "mtwhitetract=mt_info[\"TractWhite\"].sum()\n",
    "mtblacktract=mt_info[\"TractBlack\"].sum()\n",
    "mtasiantract=mt_info[\"TractAsian\"].sum()\n",
    "mtnhopitract=mt_info[\"TractNHOPI\"].sum()\n",
    "mtaiantract=mt_info[\"TractAIAN\"].sum()\n",
    "mtomultirtract=mt_info[\"TractOMultir\"].sum()\n",
    "mthispanictract=mt_info[\"TractHispanic\"].sum()"
   ]
  },
  {
   "cell_type": "code",
   "execution_count": 61,
   "metadata": {},
   "outputs": [
    {
     "data": {
      "text/plain": [
       "987029"
      ]
     },
     "execution_count": 61,
     "metadata": {},
     "output_type": "execute_result"
    }
   ],
   "source": [
    "mt_tract=mtwhitetract+mtblacktract+mtasiantract+mtnhopitract+mtaiantract+mthispanictract\n",
    "mt_tract"
   ]
  },
  {
   "cell_type": "code",
   "execution_count": 62,
   "metadata": {},
   "outputs": [],
   "source": [
    "#Creating series for each parameter. Calculating the sum of enrollees by race, grouped by environment.\n",
    "mtwhite_pop = mt_info.groupby(\"Environment Category\")[\"TractWhite\"].sum()\n",
    "mtblack_pop = mt_info.groupby(\"Environment Category\")[\"TractBlack\"].sum()\n",
    "mtasian_pop = mt_info.groupby(\"Environment Category\")[\"TractAsian\"].sum()\n",
    "mtnhopi_pop = mt_info.groupby(\"Environment Category\")[\"TractNHOPI\"].sum()\n",
    "mtaian_pop = mt_info.groupby(\"Environment Category\")[\"TractAIAN\"].sum()\n",
    "mtomultir_pop = mt_info.groupby(\"Environment Category\")[\"TractOMultir\"].sum()\n",
    "mthispanic_pop = mt_info.groupby(\"Environment Category\")[\"TractHispanic\"].sum()"
   ]
  },
  {
   "cell_type": "code",
   "execution_count": 63,
   "metadata": {},
   "outputs": [
    {
     "data": {
      "text/html": [
       "<div>\n",
       "<style scoped>\n",
       "    .dataframe tbody tr th:only-of-type {\n",
       "        vertical-align: middle;\n",
       "    }\n",
       "\n",
       "    .dataframe tbody tr th {\n",
       "        vertical-align: top;\n",
       "    }\n",
       "\n",
       "    .dataframe thead th {\n",
       "        text-align: right;\n",
       "    }\n",
       "</style>\n",
       "<table border=\"1\" class=\"dataframe\">\n",
       "  <thead>\n",
       "    <tr style=\"text-align: right;\">\n",
       "      <th></th>\n",
       "      <th>Environment Category</th>\n",
       "      <th>White</th>\n",
       "      <th>Black</th>\n",
       "      <th>Asian</th>\n",
       "      <th>NHOPI</th>\n",
       "      <th>AIAN</th>\n",
       "      <th>Other/Multi</th>\n",
       "      <th>Hispanic/Latinx</th>\n",
       "    </tr>\n",
       "  </thead>\n",
       "  <tbody>\n",
       "    <tr>\n",
       "      <th>0</th>\n",
       "      <td>Food Desert</td>\n",
       "      <td>44884</td>\n",
       "      <td>108</td>\n",
       "      <td>242</td>\n",
       "      <td>14</td>\n",
       "      <td>29317</td>\n",
       "      <td>2239</td>\n",
       "      <td>1584</td>\n",
       "    </tr>\n",
       "    <tr>\n",
       "      <th>1</th>\n",
       "      <td>Healthy</td>\n",
       "      <td>840077</td>\n",
       "      <td>3919</td>\n",
       "      <td>6011</td>\n",
       "      <td>654</td>\n",
       "      <td>33238</td>\n",
       "      <td>28712</td>\n",
       "      <td>26981</td>\n",
       "    </tr>\n",
       "  </tbody>\n",
       "</table>\n",
       "</div>"
      ],
      "text/plain": [
       "  Environment Category   White  Black  Asian  NHOPI   AIAN  Other/Multi  \\\n",
       "0          Food Desert   44884    108    242     14  29317         2239   \n",
       "1              Healthy  840077   3919   6011    654  33238        28712   \n",
       "\n",
       "   Hispanic/Latinx  \n",
       "0             1584  \n",
       "1            26981  "
      ]
     },
     "execution_count": 63,
     "metadata": {},
     "output_type": "execute_result"
    }
   ],
   "source": [
    "#Create dataframe to hold data\n",
    "mt_race_sum_deserts_df = pd.DataFrame(\n",
    "    {\"White\": mtwhite_pop,\n",
    "    \"Black\": mtblack_pop,\n",
    "    \"Asian\": mtasian_pop,\n",
    "    \"NHOPI\": mtnhopi_pop,\n",
    "    \"AIAN\": mtaian_pop,\n",
    "    \"Other/Multi\": mtomultir_pop,\n",
    "    \"Hispanic/Latinx\": mthispanic_pop})\n",
    "mt_race_sum_deserts_df.reset_index()"
   ]
  },
  {
   "cell_type": "code",
   "execution_count": 64,
   "metadata": {},
   "outputs": [
    {
     "data": {
      "image/png": "[encoded data removed]",
      "text/plain": [
       "<Figure size 720x360 with 1 Axes>"
      ]
     },
     "metadata": {},
     "output_type": "display_data"
    }
   ],
   "source": [
    "#Race Pie Chart\n",
    "#Food Desert:\n",
    "# Pie chart\n",
    "labels = ['White: 57.3%', 'Black: 0.1%', 'Asian: 3.0%', 'NHOPI: 0.0%','AIAN: 37.4%','Other/Multi: 2.9%','Hispanic/Latinx: 2.0%']\n",
    "sizes = [44884,108,242,14,29317,2239,1584]\n",
    "#colors\n",
    "colors = ['#ff5e5e','#52a9ff','#72ff72','#ff9b37','#8585ff','#ff5eaf','#ffea00']\n",
    "\n",
    "\n",
    "\n",
    "\n",
    "fig1, ax1 = plt.subplots()\n",
    "ax1.pie(sizes, colors = colors, autopct='%1.1f%%', startangle=90,pctdistance=0.85)\n",
    "#draw circle\n",
    "centre_circle = plt.Circle((0,0),0.70,fc='white')\n",
    "fig = plt.gcf()\n",
    "fig.gca().add_artist(centre_circle)\n",
    "# Equal aspect ratio ensures that pie is drawn as a circle\n",
    "ax1.axis('equal')  \n",
    "plt.tight_layout(4)\n",
    "plt.title(\"Montana Food Desert Racial Distribution\")\n",
    "plt.legend(labels)\n",
    "\n",
    "fig.set_size_inches(10,5)\n",
    "\n",
    "plt.savefig(\"PiePlots/Montana Food Desert Racial Distribution.png\")\n",
    "plt.show()\n",
    "\n"
   ]
  },
  {
   "cell_type": "code",
   "execution_count": 65,
   "metadata": {},
   "outputs": [
    {
     "data": {
      "image/png": "[encoded data removed]",
      "text/plain": [
       "<Figure size 720x360 with 1 Axes>"
      ]
     },
     "metadata": {},
     "output_type": "display_data"
    }
   ],
   "source": [
    "#Race Pie Chart\n",
    "#Non Food Desert:\n",
    "# Pie chart\n",
    "labels = ['White: 89.4%', 'Black: 0.4%', 'Asian: 0.6%', 'NHOPI: 0.0%','AIAN: 3.5%','Other/Multi: 3.1%','Hispanic/Latinx: 2.9%']\n",
    "sizes = [840077,3919,6011,654,33238,28712,26981]\n",
    "#colors\n",
    "colors = ['#ff5e5e','#52a9ff','#72ff72','#ff9b37','#8585ff','#ff5eaf','#ffea00']\n",
    " \n",
    "fig1, ax1 = plt.subplots()\n",
    "ax1.pie(sizes, colors = colors, autopct='%1.1f%%', startangle=90,pctdistance=0.85)\n",
    "#draw circle\n",
    "centre_circle = plt.Circle((0,0),0.70,fc='white')\n",
    "fig = plt.gcf()\n",
    "fig.gca().add_artist(centre_circle)\n",
    "# Equal aspect ratio ensures that pie is drawn as a circle\n",
    "ax1.axis('equal')  \n",
    "plt.tight_layout(4)\n",
    "plt.title(\"Montana Non Food Desert Racial Distribution\")\n",
    "plt.legend(labels)\n",
    "\n",
    "fig.set_size_inches(10,5)\n",
    "\n",
    "plt.savefig(\"PiePlots/Montana Non Food Desert Racial Distribution.png\")\n",
    "plt.show()\n",
    "\n"
   ]
  },
  {
   "cell_type": "code",
   "execution_count": null,
   "metadata": {},
   "outputs": [],
   "source": []
  }
 ],
 "metadata": {
  "kernelspec": {
   "display_name": "Python 3",
   "language": "python",
   "name": "python3"
  },
  "language_info": {
   "codemirror_mode": {
    "name": "ipython",
    "version": 3
   },
   "file_extension": ".py",
   "mimetype": "text/x-python",
   "name": "python",
   "nbconvert_exporter": "python",
   "pygments_lexer": "ipython3",
   "version": "3.8.3"
  }
 },
 "nbformat": 4,
 "nbformat_minor": 4
}
