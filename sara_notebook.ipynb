{
 "cells": [
  {
   "cell_type": "code",
   "execution_count": 18,
   "metadata": {},
   "outputs": [],
   "source": [
    "import matplotlib.pyplot as plt\n",
    "import pandas as pd\n",
    "import numpy as np\n",
    "import requests\n",
    "import gmaps\n",
    "import os\n",
    "\n",
    "\n",
    "\n",
    "# Import API key\n",
    "from api_keys import g_key"
   ]
  },
  {
   "cell_type": "markdown",
   "metadata": {},
   "source": [
    "merge CSV files into a combined dataframe for analysis"
   ]
  },
  {
   "cell_type": "code",
   "execution_count": 20,
   "metadata": {},
   "outputs": [
    {
     "data": {
      "text/html": [
       "<div>\n",
       "<style scoped>\n",
       "    .dataframe tbody tr th:only-of-type {\n",
       "        vertical-align: middle;\n",
       "    }\n",
       "\n",
       "    .dataframe tbody tr th {\n",
       "        vertical-align: top;\n",
       "    }\n",
       "\n",
       "    .dataframe thead th {\n",
       "        text-align: right;\n",
       "    }\n",
       "</style>\n",
       "<table border=\"1\" class=\"dataframe\">\n",
       "  <thead>\n",
       "    <tr style=\"text-align: right;\">\n",
       "      <th></th>\n",
       "      <th>State</th>\n",
       "      <th>County</th>\n",
       "      <th>POP2010</th>\n",
       "      <th>OHU2010</th>\n",
       "      <th>PovertyRate</th>\n",
       "      <th>MedianFamilyIncome</th>\n",
       "      <th>LILATracts_1And10</th>\n",
       "      <th>LILATracts_halfAnd10</th>\n",
       "      <th>LILATracts_1And20</th>\n",
       "      <th>LILATracts_Vehicle</th>\n",
       "      <th>...</th>\n",
       "      <th># Deaths</th>\n",
       "      <th>Years of Potential Life Lost Rate</th>\n",
       "      <th>% Obese</th>\n",
       "      <th>% Fair/Poor</th>\n",
       "      <th># Diabetics</th>\n",
       "      <th># Violent Crimes</th>\n",
       "      <th># Unemployed</th>\n",
       "      <th>% Children in Poverty</th>\n",
       "      <th>Latitude</th>\n",
       "      <th>Longitude</th>\n",
       "    </tr>\n",
       "  </thead>\n",
       "  <tbody>\n",
       "    <tr>\n",
       "      <th>0</th>\n",
       "      <td>Alabama</td>\n",
       "      <td>Autauga</td>\n",
       "      <td>54571</td>\n",
       "      <td>20221</td>\n",
       "      <td>13.858333</td>\n",
       "      <td>61082.916667</td>\n",
       "      <td>2</td>\n",
       "      <td>2</td>\n",
       "      <td>1</td>\n",
       "      <td>2</td>\n",
       "      <td>...</td>\n",
       "      <td>830.0</td>\n",
       "      <td>9158.0</td>\n",
       "      <td>34</td>\n",
       "      <td>18</td>\n",
       "      <td>711.0</td>\n",
       "      <td>145.0</td>\n",
       "      <td>1327.0</td>\n",
       "      <td>19.0</td>\n",
       "      <td>32.534920</td>\n",
       "      <td>-86.642749</td>\n",
       "    </tr>\n",
       "    <tr>\n",
       "      <th>1</th>\n",
       "      <td>Alabama</td>\n",
       "      <td>Baldwin</td>\n",
       "      <td>182265</td>\n",
       "      <td>73180</td>\n",
       "      <td>14.358065</td>\n",
       "      <td>60664.935484</td>\n",
       "      <td>3</td>\n",
       "      <td>3</td>\n",
       "      <td>3</td>\n",
       "      <td>2</td>\n",
       "      <td>...</td>\n",
       "      <td>2573.0</td>\n",
       "      <td>7394.0</td>\n",
       "      <td>27</td>\n",
       "      <td>16</td>\n",
       "      <td>2615.0</td>\n",
       "      <td>415.0</td>\n",
       "      <td>4791.0</td>\n",
       "      <td>20.0</td>\n",
       "      <td>30.660970</td>\n",
       "      <td>-87.749840</td>\n",
       "    </tr>\n",
       "    <tr>\n",
       "      <th>2</th>\n",
       "      <td>Alabama</td>\n",
       "      <td>Barbour</td>\n",
       "      <td>27457</td>\n",
       "      <td>9820</td>\n",
       "      <td>24.533333</td>\n",
       "      <td>43123.000000</td>\n",
       "      <td>3</td>\n",
       "      <td>3</td>\n",
       "      <td>1</td>\n",
       "      <td>2</td>\n",
       "      <td>...</td>\n",
       "      <td>413.0</td>\n",
       "      <td>8573.0</td>\n",
       "      <td>44</td>\n",
       "      <td>25</td>\n",
       "      <td>525.0</td>\n",
       "      <td>85.0</td>\n",
       "      <td>771.0</td>\n",
       "      <td>45.0</td>\n",
       "      <td>31.869603</td>\n",
       "      <td>-85.393197</td>\n",
       "    </tr>\n",
       "    <tr>\n",
       "      <th>3</th>\n",
       "      <td>Alabama</td>\n",
       "      <td>Bibb</td>\n",
       "      <td>22915</td>\n",
       "      <td>7953</td>\n",
       "      <td>16.025000</td>\n",
       "      <td>43362.500000</td>\n",
       "      <td>0</td>\n",
       "      <td>0</td>\n",
       "      <td>0</td>\n",
       "      <td>1</td>\n",
       "      <td>...</td>\n",
       "      <td>407.0</td>\n",
       "      <td>11766.0</td>\n",
       "      <td>40</td>\n",
       "      <td>20</td>\n",
       "      <td>333.0</td>\n",
       "      <td>33.0</td>\n",
       "      <td>561.0</td>\n",
       "      <td>29.0</td>\n",
       "      <td>32.998644</td>\n",
       "      <td>-87.126439</td>\n",
       "    </tr>\n",
       "    <tr>\n",
       "      <th>4</th>\n",
       "      <td>Alabama</td>\n",
       "      <td>Blount</td>\n",
       "      <td>57322</td>\n",
       "      <td>21578</td>\n",
       "      <td>17.911111</td>\n",
       "      <td>52136.000000</td>\n",
       "      <td>0</td>\n",
       "      <td>0</td>\n",
       "      <td>0</td>\n",
       "      <td>2</td>\n",
       "      <td>...</td>\n",
       "      <td>906.0</td>\n",
       "      <td>9333.0</td>\n",
       "      <td>35</td>\n",
       "      <td>19</td>\n",
       "      <td>705.0</td>\n",
       "      <td>123.0</td>\n",
       "      <td>1316.0</td>\n",
       "      <td>22.0</td>\n",
       "      <td>33.980867</td>\n",
       "      <td>-86.567371</td>\n",
       "    </tr>\n",
       "  </tbody>\n",
       "</table>\n",
       "<p>5 rows × 39 columns</p>\n",
       "</div>"
      ],
      "text/plain": [
       "     State   County  POP2010  OHU2010  PovertyRate  MedianFamilyIncome  \\\n",
       "0  Alabama  Autauga    54571    20221    13.858333        61082.916667   \n",
       "1  Alabama  Baldwin   182265    73180    14.358065        60664.935484   \n",
       "2  Alabama  Barbour    27457     9820    24.533333        43123.000000   \n",
       "3  Alabama     Bibb    22915     7953    16.025000        43362.500000   \n",
       "4  Alabama   Blount    57322    21578    17.911111        52136.000000   \n",
       "\n",
       "   LILATracts_1And10  LILATracts_halfAnd10  LILATracts_1And20  \\\n",
       "0                  2                     2                  1   \n",
       "1                  3                     3                  3   \n",
       "2                  3                     3                  1   \n",
       "3                  0                     0                  0   \n",
       "4                  0                     0                  0   \n",
       "\n",
       "   LILATracts_Vehicle  ...  # Deaths  Years of Potential Life Lost Rate  \\\n",
       "0                   2  ...     830.0                             9158.0   \n",
       "1                   2  ...    2573.0                             7394.0   \n",
       "2                   2  ...     413.0                             8573.0   \n",
       "3                   1  ...     407.0                            11766.0   \n",
       "4                   2  ...     906.0                             9333.0   \n",
       "\n",
       "   % Obese  % Fair/Poor  # Diabetics  # Violent Crimes  # Unemployed  \\\n",
       "0       34           18        711.0             145.0        1327.0   \n",
       "1       27           16       2615.0             415.0        4791.0   \n",
       "2       44           25        525.0              85.0         771.0   \n",
       "3       40           20        333.0              33.0         561.0   \n",
       "4       35           19        705.0             123.0        1316.0   \n",
       "\n",
       "   % Children in Poverty   Latitude  Longitude  \n",
       "0                   19.0  32.534920 -86.642749  \n",
       "1                   20.0  30.660970 -87.749840  \n",
       "2                   45.0  31.869603 -85.393197  \n",
       "3                   29.0  32.998644 -87.126439  \n",
       "4                   22.0  33.980867 -86.567371  \n",
       "\n",
       "[5 rows x 39 columns]"
      ]
     },
     "execution_count": 20,
     "metadata": {},
     "output_type": "execute_result"
    }
   ],
   "source": [
    "file = \"output/my_combined.csv\"\n",
    "\n",
    "county_df = pd.read_csv(file)\n",
    "county_df.head()\n",
    "\n",
    "file2 = \"Resources/countycoordinates.xlsx\"\n",
    "\n",
    "coord_df = pd.read_excel(file2)\n",
    "clean_coord = coord_df[[\"State\", \"County\", \"Latitude\", \"Longitude\"]]\n",
    "clean_coord\n",
    "\n",
    "data_loc = pd.DataFrame.merge(county_df, clean_coord, on=[\"State\", \"County\"])\n",
    "\n",
    "\n",
    "\n",
    "#data_loc.to_csv('output/clean_with_lat_long.csv', index = False)\n",
    "\n",
    "data_loc.head()"
   ]
  },
  {
   "cell_type": "code",
   "execution_count": 22,
   "metadata": {},
   "outputs": [
    {
     "data": {
      "text/html": [
       "<div>\n",
       "<style scoped>\n",
       "    .dataframe tbody tr th:only-of-type {\n",
       "        vertical-align: middle;\n",
       "    }\n",
       "\n",
       "    .dataframe tbody tr th {\n",
       "        vertical-align: top;\n",
       "    }\n",
       "\n",
       "    .dataframe thead th {\n",
       "        text-align: right;\n",
       "    }\n",
       "</style>\n",
       "<table border=\"1\" class=\"dataframe\">\n",
       "  <thead>\n",
       "    <tr style=\"text-align: right;\">\n",
       "      <th></th>\n",
       "      <th>State</th>\n",
       "      <th>County</th>\n",
       "      <th>POP2010</th>\n",
       "      <th>OHU2010</th>\n",
       "      <th>PovertyRate</th>\n",
       "      <th>MedianFamilyIncome</th>\n",
       "      <th>LILATracts_1And10</th>\n",
       "      <th>LILATracts_halfAnd10</th>\n",
       "      <th>LILATracts_1And20</th>\n",
       "      <th>LILATracts_Vehicle</th>\n",
       "      <th>...</th>\n",
       "      <th>Years of Potential Life Lost Rate</th>\n",
       "      <th>% Obese</th>\n",
       "      <th>% Fair/Poor</th>\n",
       "      <th># Diabetics</th>\n",
       "      <th># Violent Crimes</th>\n",
       "      <th># Unemployed</th>\n",
       "      <th>% Children in Poverty</th>\n",
       "      <th>Latitude</th>\n",
       "      <th>Longitude</th>\n",
       "      <th>Original Medicare</th>\n",
       "    </tr>\n",
       "  </thead>\n",
       "  <tbody>\n",
       "    <tr>\n",
       "      <th>0</th>\n",
       "      <td>Alabama</td>\n",
       "      <td>Autauga</td>\n",
       "      <td>54571</td>\n",
       "      <td>20221</td>\n",
       "      <td>13.858333</td>\n",
       "      <td>61082.916667</td>\n",
       "      <td>2</td>\n",
       "      <td>2</td>\n",
       "      <td>1</td>\n",
       "      <td>2</td>\n",
       "      <td>...</td>\n",
       "      <td>9158.0</td>\n",
       "      <td>34</td>\n",
       "      <td>18</td>\n",
       "      <td>711.0</td>\n",
       "      <td>145.0</td>\n",
       "      <td>1327.0</td>\n",
       "      <td>19.0</td>\n",
       "      <td>32.534920</td>\n",
       "      <td>-86.642749</td>\n",
       "      <td>5784</td>\n",
       "    </tr>\n",
       "    <tr>\n",
       "      <th>1</th>\n",
       "      <td>Alabama</td>\n",
       "      <td>Baldwin</td>\n",
       "      <td>182265</td>\n",
       "      <td>73180</td>\n",
       "      <td>14.358065</td>\n",
       "      <td>60664.935484</td>\n",
       "      <td>3</td>\n",
       "      <td>3</td>\n",
       "      <td>3</td>\n",
       "      <td>2</td>\n",
       "      <td>...</td>\n",
       "      <td>7394.0</td>\n",
       "      <td>27</td>\n",
       "      <td>16</td>\n",
       "      <td>2615.0</td>\n",
       "      <td>415.0</td>\n",
       "      <td>4791.0</td>\n",
       "      <td>20.0</td>\n",
       "      <td>30.660970</td>\n",
       "      <td>-87.749840</td>\n",
       "      <td>28388</td>\n",
       "    </tr>\n",
       "    <tr>\n",
       "      <th>2</th>\n",
       "      <td>Alabama</td>\n",
       "      <td>Barbour</td>\n",
       "      <td>27457</td>\n",
       "      <td>9820</td>\n",
       "      <td>24.533333</td>\n",
       "      <td>43123.000000</td>\n",
       "      <td>3</td>\n",
       "      <td>3</td>\n",
       "      <td>1</td>\n",
       "      <td>2</td>\n",
       "      <td>...</td>\n",
       "      <td>8573.0</td>\n",
       "      <td>44</td>\n",
       "      <td>25</td>\n",
       "      <td>525.0</td>\n",
       "      <td>85.0</td>\n",
       "      <td>771.0</td>\n",
       "      <td>45.0</td>\n",
       "      <td>31.869603</td>\n",
       "      <td>-85.393197</td>\n",
       "      <td>4372</td>\n",
       "    </tr>\n",
       "    <tr>\n",
       "      <th>3</th>\n",
       "      <td>Alabama</td>\n",
       "      <td>Bibb</td>\n",
       "      <td>22915</td>\n",
       "      <td>7953</td>\n",
       "      <td>16.025000</td>\n",
       "      <td>43362.500000</td>\n",
       "      <td>0</td>\n",
       "      <td>0</td>\n",
       "      <td>0</td>\n",
       "      <td>1</td>\n",
       "      <td>...</td>\n",
       "      <td>11766.0</td>\n",
       "      <td>40</td>\n",
       "      <td>20</td>\n",
       "      <td>333.0</td>\n",
       "      <td>33.0</td>\n",
       "      <td>561.0</td>\n",
       "      <td>29.0</td>\n",
       "      <td>32.998644</td>\n",
       "      <td>-87.126439</td>\n",
       "      <td>2480</td>\n",
       "    </tr>\n",
       "    <tr>\n",
       "      <th>4</th>\n",
       "      <td>Alabama</td>\n",
       "      <td>Blount</td>\n",
       "      <td>57322</td>\n",
       "      <td>21578</td>\n",
       "      <td>17.911111</td>\n",
       "      <td>52136.000000</td>\n",
       "      <td>0</td>\n",
       "      <td>0</td>\n",
       "      <td>0</td>\n",
       "      <td>2</td>\n",
       "      <td>...</td>\n",
       "      <td>9333.0</td>\n",
       "      <td>35</td>\n",
       "      <td>19</td>\n",
       "      <td>705.0</td>\n",
       "      <td>123.0</td>\n",
       "      <td>1316.0</td>\n",
       "      <td>22.0</td>\n",
       "      <td>33.980867</td>\n",
       "      <td>-86.567371</td>\n",
       "      <td>6070</td>\n",
       "    </tr>\n",
       "  </tbody>\n",
       "</table>\n",
       "<p>5 rows × 40 columns</p>\n",
       "</div>"
      ],
      "text/plain": [
       "     State   County  POP2010  OHU2010  PovertyRate  MedianFamilyIncome  \\\n",
       "0  Alabama  Autauga    54571    20221    13.858333        61082.916667   \n",
       "1  Alabama  Baldwin   182265    73180    14.358065        60664.935484   \n",
       "2  Alabama  Barbour    27457     9820    24.533333        43123.000000   \n",
       "3  Alabama     Bibb    22915     7953    16.025000        43362.500000   \n",
       "4  Alabama   Blount    57322    21578    17.911111        52136.000000   \n",
       "\n",
       "   LILATracts_1And10  LILATracts_halfAnd10  LILATracts_1And20  \\\n",
       "0                  2                     2                  1   \n",
       "1                  3                     3                  3   \n",
       "2                  3                     3                  1   \n",
       "3                  0                     0                  0   \n",
       "4                  0                     0                  0   \n",
       "\n",
       "   LILATracts_Vehicle  ...  Years of Potential Life Lost Rate  % Obese  \\\n",
       "0                   2  ...                             9158.0       34   \n",
       "1                   2  ...                             7394.0       27   \n",
       "2                   2  ...                             8573.0       44   \n",
       "3                   1  ...                            11766.0       40   \n",
       "4                   2  ...                             9333.0       35   \n",
       "\n",
       "   % Fair/Poor  # Diabetics  # Violent Crimes  # Unemployed  \\\n",
       "0           18        711.0             145.0        1327.0   \n",
       "1           16       2615.0             415.0        4791.0   \n",
       "2           25        525.0              85.0         771.0   \n",
       "3           20        333.0              33.0         561.0   \n",
       "4           19        705.0             123.0        1316.0   \n",
       "\n",
       "   % Children in Poverty   Latitude  Longitude  Original Medicare  \n",
       "0                   19.0  32.534920 -86.642749               5784  \n",
       "1                   20.0  30.660970 -87.749840              28388  \n",
       "2                   45.0  31.869603 -85.393197               4372  \n",
       "3                   29.0  32.998644 -87.126439               2480  \n",
       "4                   22.0  33.980867 -86.567371               6070  \n",
       "\n",
       "[5 rows x 40 columns]"
      ]
     },
     "execution_count": 22,
     "metadata": {},
     "output_type": "execute_result"
    }
   ],
   "source": [
    "#add additional data column to dataframe and merge again with medicare data\n",
    "\n",
    "file = \"output/clean_with_lat_long.csv\"\n",
    "\n",
    "longlat_df = pd.read_csv(file)\n",
    "longlat_df.head()\n",
    "\n",
    "file2 = \"Resources/Medicare_Enrollment_2017.csv\"\n",
    "\n",
    "health_df = pd.read_csv(file2)\n",
    "\n",
    "clean_data2 = pd.DataFrame.merge(longlat_df, health_df, on=[\"State\", \"County\"])\n",
    "\n",
    "\n",
    "\n",
    "#clean_data2.to_csv('output/clean_data2.csv', index = False)\n",
    "\n",
    "clean_data2.head()"
   ]
  },
  {
   "cell_type": "code",
   "execution_count": 23,
   "metadata": {},
   "outputs": [
    {
     "data": {
      "text/plain": [
       "0       6.9\n",
       "1       7.5\n",
       "2       4.9\n",
       "3       7.3\n",
       "4       8.3\n",
       "       ... \n",
       "3088    8.1\n",
       "3089    8.0\n",
       "3090    7.5\n",
       "3091    8.0\n",
       "3092    8.0\n",
       "Name: Food Environment Index, Length: 3093, dtype: float64"
      ]
     },
     "execution_count": 23,
     "metadata": {},
     "output_type": "execute_result"
    }
   ],
   "source": [
    "#print column to see data\n",
    "\n",
    "clean_data2[\"Food Environment Index\"]\n"
   ]
  },
  {
   "cell_type": "code",
   "execution_count": 24,
   "metadata": {},
   "outputs": [
    {
     "data": {
      "text/plain": [
       "0       3.1\n",
       "1       2.5\n",
       "2       5.1\n",
       "3       2.7\n",
       "4       1.7\n",
       "       ... \n",
       "3088    1.9\n",
       "3089    2.0\n",
       "3090    2.5\n",
       "3091    2.0\n",
       "3092    2.0\n",
       "Name: Inverse Index, Length: 3093, dtype: float64"
      ]
     },
     "execution_count": 24,
     "metadata": {},
     "output_type": "execute_result"
    }
   ],
   "source": [
    "\n",
    "\n",
    "clean_data2 \n",
    "\n",
    "#create inverse values so that the heat layer map shows green for access to food and red for no access.  \n",
    "\n",
    "clean_data2[\"Inverse Index\"] = clean_data2[\"Food Environment Index\"].apply(lambda x: abs(x - 10))\n",
    "\n",
    "clean_data2[\"Inverse Index\"]"
   ]
  },
  {
   "cell_type": "code",
   "execution_count": 25,
   "metadata": {
    "scrolled": true
   },
   "outputs": [
    {
     "name": "stdout",
     "output_type": "stream",
     "text": [
      "State\n",
      "County\n",
      "POP2010\n",
      "OHU2010\n",
      "PovertyRate\n",
      "MedianFamilyIncome\n",
      "LILATracts_1And10\n",
      "LILATracts_halfAnd10\n",
      "LILATracts_1And20\n",
      "LILATracts_Vehicle\n",
      "LAPOP1_10\n",
      "LAPOP05_10\n",
      "LAPOP1_20\n",
      "LALOWI1_10\n",
      "LALOWI05_10\n",
      "LALOWI1_20\n",
      "lapophalf\n",
      "TractKids\n",
      "TractSeniors\n",
      "TractWhite\n",
      "TractBlack\n",
      "TractAsian\n",
      "TractNHOPI\n",
      "TractAIAN\n",
      "TractOMultir\n",
      "TractHispanic\n",
      "TractHUNV\n",
      "TractSNAP\n",
      "Food Environment Index\n",
      "# Deaths\n",
      "Years of Potential Life Lost Rate\n",
      "% Obese\n",
      "% Fair/Poor\n",
      "# Diabetics\n",
      "# Violent Crimes\n",
      "# Unemployed\n",
      "% Children in Poverty\n",
      "Latitude\n",
      "Longitude\n",
      "Original Medicare\n",
      "Inverse Index\n"
     ]
    }
   ],
   "source": [
    "#print column headers to easy viewing when analyzing data\n",
    "for col in clean_data2.columns:\n",
    "    print(col)"
   ]
  },
  {
   "cell_type": "markdown",
   "metadata": {},
   "source": [
    "Create heat map of US with data by county showing the Food Environment Index Inverse 0 is best, 10 is worst "
   ]
  },
  {
   "cell_type": "code",
   "execution_count": 26,
   "metadata": {},
   "outputs": [],
   "source": [
    "\n",
    "locations = clean_data2[[\"Latitude\", \"Longitude\"]]\n",
    "\n",
    "food_env = clean_data2[\"Inverse Index\"]"
   ]
  },
  {
   "cell_type": "code",
   "execution_count": 27,
   "metadata": {
    "scrolled": true
   },
   "outputs": [
    {
     "data": {
      "application/vnd.jupyter.widget-view+json": {
       "model_id": "6dc3c63ab2444690a9b304de2029f405",
       "version_major": 2,
       "version_minor": 0
      },
      "text/plain": [
       "Figure(layout=FigureLayout(height='420px'))"
      ]
     },
     "metadata": {},
     "output_type": "display_data"
    }
   ],
   "source": [
    "# Plot Heatmap\n",
    "fig = gmaps.figure()\n",
    "\n",
    "\n",
    "# Create heat layer\n",
    "heat_layer = gmaps.heatmap_layer(locations, weights=food_env, \n",
    "                                 dissipating=False, max_intensity=10,\n",
    "                                 point_radius=.25)\n",
    "\n",
    "\n",
    "# Add layer\n",
    "fig.add_layer(heat_layer)\n",
    "\n",
    "#Display figure\n",
    "fig\n"
   ]
  },
  {
   "cell_type": "markdown",
   "metadata": {},
   "source": [
    "create a heat map to show obesity % for US by county. 100% is red, 0% is faint green"
   ]
  },
  {
   "cell_type": "code",
   "execution_count": 28,
   "metadata": {},
   "outputs": [],
   "source": [
    "locations = data_loc[[\"Latitude\", \"Longitude\"]]\n",
    "\n",
    "obese = data_loc[\"% Obese\"].astype(float)"
   ]
  },
  {
   "cell_type": "code",
   "execution_count": 29,
   "metadata": {},
   "outputs": [
    {
     "data": {
      "application/vnd.jupyter.widget-view+json": {
       "model_id": "0a36a22a2adf4c509b30da10c6bafdf4",
       "version_major": 2,
       "version_minor": 0
      },
      "text/plain": [
       "Figure(layout=FigureLayout(height='420px'))"
      ]
     },
     "metadata": {},
     "output_type": "display_data"
    }
   ],
   "source": [
    "# Plot Heatmap\n",
    "fig = gmaps.figure()\n",
    "\n",
    "\n",
    "# Create heat layer\n",
    "heat_layer = gmaps.heatmap_layer(locations, weights=obese, \n",
    "                                 dissipating=False, max_intensity=100,\n",
    "                                 point_radius=.25)\n",
    "\n",
    "\n",
    "# Add layer\n",
    "fig.add_layer(heat_layer)\n",
    "\n",
    "#Display figure\n",
    "fig\n"
   ]
  },
  {
   "cell_type": "markdown",
   "metadata": {},
   "source": [
    "create heat maps by State Montana. create dataframe of Just Montana"
   ]
  },
  {
   "cell_type": "code",
   "execution_count": 30,
   "metadata": {
    "scrolled": true
   },
   "outputs": [
    {
     "data": {
      "text/html": [
       "<div>\n",
       "<style scoped>\n",
       "    .dataframe tbody tr th:only-of-type {\n",
       "        vertical-align: middle;\n",
       "    }\n",
       "\n",
       "    .dataframe tbody tr th {\n",
       "        vertical-align: top;\n",
       "    }\n",
       "\n",
       "    .dataframe thead th {\n",
       "        text-align: right;\n",
       "    }\n",
       "</style>\n",
       "<table border=\"1\" class=\"dataframe\">\n",
       "  <thead>\n",
       "    <tr style=\"text-align: right;\">\n",
       "      <th></th>\n",
       "      <th>State</th>\n",
       "      <th>County</th>\n",
       "      <th>POP2010</th>\n",
       "      <th>OHU2010</th>\n",
       "      <th>PovertyRate</th>\n",
       "      <th>MedianFamilyIncome</th>\n",
       "      <th>LILATracts_1And10</th>\n",
       "      <th>LILATracts_halfAnd10</th>\n",
       "      <th>LILATracts_1And20</th>\n",
       "      <th>LILATracts_Vehicle</th>\n",
       "      <th>...</th>\n",
       "      <th>% Obese</th>\n",
       "      <th>% Fair/Poor</th>\n",
       "      <th># Diabetics</th>\n",
       "      <th># Violent Crimes</th>\n",
       "      <th># Unemployed</th>\n",
       "      <th>% Children in Poverty</th>\n",
       "      <th>Latitude</th>\n",
       "      <th>Longitude</th>\n",
       "      <th>Original Medicare</th>\n",
       "      <th>Inverse Index</th>\n",
       "    </tr>\n",
       "  </thead>\n",
       "  <tbody>\n",
       "    <tr>\n",
       "      <th>1585</th>\n",
       "      <td>Montana</td>\n",
       "      <td>Beaverhead</td>\n",
       "      <td>9246</td>\n",
       "      <td>4014</td>\n",
       "      <td>14.566667</td>\n",
       "      <td>53953.0</td>\n",
       "      <td>2</td>\n",
       "      <td>2</td>\n",
       "      <td>2</td>\n",
       "      <td>1</td>\n",
       "      <td>...</td>\n",
       "      <td>24</td>\n",
       "      <td>12</td>\n",
       "      <td>126.0</td>\n",
       "      <td>10.0</td>\n",
       "      <td>171.0</td>\n",
       "      <td>21.0</td>\n",
       "      <td>45.132700</td>\n",
       "      <td>-112.898820</td>\n",
       "      <td>1841</td>\n",
       "      <td>2.7</td>\n",
       "    </tr>\n",
       "    <tr>\n",
       "      <th>1586</th>\n",
       "      <td>Montana</td>\n",
       "      <td>Big Horn</td>\n",
       "      <td>12865</td>\n",
       "      <td>4004</td>\n",
       "      <td>31.220000</td>\n",
       "      <td>46813.2</td>\n",
       "      <td>4</td>\n",
       "      <td>4</td>\n",
       "      <td>1</td>\n",
       "      <td>1</td>\n",
       "      <td>...</td>\n",
       "      <td>39</td>\n",
       "      <td>22</td>\n",
       "      <td>193.0</td>\n",
       "      <td>28.0</td>\n",
       "      <td>372.0</td>\n",
       "      <td>40.0</td>\n",
       "      <td>45.423382</td>\n",
       "      <td>-107.489853</td>\n",
       "      <td>1607</td>\n",
       "      <td>5.5</td>\n",
       "    </tr>\n",
       "    <tr>\n",
       "      <th>1587</th>\n",
       "      <td>Montana</td>\n",
       "      <td>Blaine</td>\n",
       "      <td>6491</td>\n",
       "      <td>2357</td>\n",
       "      <td>29.800000</td>\n",
       "      <td>38925.5</td>\n",
       "      <td>1</td>\n",
       "      <td>1</td>\n",
       "      <td>1</td>\n",
       "      <td>1</td>\n",
       "      <td>...</td>\n",
       "      <td>36</td>\n",
       "      <td>20</td>\n",
       "      <td>100.0</td>\n",
       "      <td>10.0</td>\n",
       "      <td>120.0</td>\n",
       "      <td>40.0</td>\n",
       "      <td>48.432676</td>\n",
       "      <td>-108.958602</td>\n",
       "      <td>1004</td>\n",
       "      <td>4.7</td>\n",
       "    </tr>\n",
       "    <tr>\n",
       "      <th>1588</th>\n",
       "      <td>Montana</td>\n",
       "      <td>Broadwater</td>\n",
       "      <td>5612</td>\n",
       "      <td>2347</td>\n",
       "      <td>11.250000</td>\n",
       "      <td>48507.5</td>\n",
       "      <td>0</td>\n",
       "      <td>0</td>\n",
       "      <td>0</td>\n",
       "      <td>0</td>\n",
       "      <td>...</td>\n",
       "      <td>30</td>\n",
       "      <td>12</td>\n",
       "      <td>64.0</td>\n",
       "      <td>20.0</td>\n",
       "      <td>124.0</td>\n",
       "      <td>16.0</td>\n",
       "      <td>46.332424</td>\n",
       "      <td>-111.495487</td>\n",
       "      <td>1111</td>\n",
       "      <td>2.7</td>\n",
       "    </tr>\n",
       "    <tr>\n",
       "      <th>1589</th>\n",
       "      <td>Montana</td>\n",
       "      <td>Carbon</td>\n",
       "      <td>10078</td>\n",
       "      <td>4571</td>\n",
       "      <td>11.480000</td>\n",
       "      <td>60412.6</td>\n",
       "      <td>1</td>\n",
       "      <td>1</td>\n",
       "      <td>0</td>\n",
       "      <td>0</td>\n",
       "      <td>...</td>\n",
       "      <td>24</td>\n",
       "      <td>11</td>\n",
       "      <td>131.0</td>\n",
       "      <td>20.0</td>\n",
       "      <td>200.0</td>\n",
       "      <td>15.0</td>\n",
       "      <td>45.227386</td>\n",
       "      <td>-109.028016</td>\n",
       "      <td>1993</td>\n",
       "      <td>2.5</td>\n",
       "    </tr>\n",
       "  </tbody>\n",
       "</table>\n",
       "<p>5 rows × 41 columns</p>\n",
       "</div>"
      ],
      "text/plain": [
       "        State      County  POP2010  OHU2010  PovertyRate  MedianFamilyIncome  \\\n",
       "1585  Montana  Beaverhead     9246     4014    14.566667             53953.0   \n",
       "1586  Montana    Big Horn    12865     4004    31.220000             46813.2   \n",
       "1587  Montana      Blaine     6491     2357    29.800000             38925.5   \n",
       "1588  Montana  Broadwater     5612     2347    11.250000             48507.5   \n",
       "1589  Montana      Carbon    10078     4571    11.480000             60412.6   \n",
       "\n",
       "      LILATracts_1And10  LILATracts_halfAnd10  LILATracts_1And20  \\\n",
       "1585                  2                     2                  2   \n",
       "1586                  4                     4                  1   \n",
       "1587                  1                     1                  1   \n",
       "1588                  0                     0                  0   \n",
       "1589                  1                     1                  0   \n",
       "\n",
       "      LILATracts_Vehicle  ...  % Obese  % Fair/Poor  # Diabetics  \\\n",
       "1585                   1  ...       24           12        126.0   \n",
       "1586                   1  ...       39           22        193.0   \n",
       "1587                   1  ...       36           20        100.0   \n",
       "1588                   0  ...       30           12         64.0   \n",
       "1589                   0  ...       24           11        131.0   \n",
       "\n",
       "      # Violent Crimes  # Unemployed  % Children in Poverty   Latitude  \\\n",
       "1585              10.0         171.0                   21.0  45.132700   \n",
       "1586              28.0         372.0                   40.0  45.423382   \n",
       "1587              10.0         120.0                   40.0  48.432676   \n",
       "1588              20.0         124.0                   16.0  46.332424   \n",
       "1589              20.0         200.0                   15.0  45.227386   \n",
       "\n",
       "       Longitude  Original Medicare  Inverse Index  \n",
       "1585 -112.898820               1841            2.7  \n",
       "1586 -107.489853               1607            5.5  \n",
       "1587 -108.958602               1004            4.7  \n",
       "1588 -111.495487               1111            2.7  \n",
       "1589 -109.028016               1993            2.5  \n",
       "\n",
       "[5 rows x 41 columns]"
      ]
     },
     "execution_count": 30,
     "metadata": {},
     "output_type": "execute_result"
    }
   ],
   "source": [
    "montana = clean_data2.loc[clean_data2[\"State\"] == \"Montana\",:]\n",
    "\n",
    "montana.head()"
   ]
  },
  {
   "cell_type": "code",
   "execution_count": 32,
   "metadata": {},
   "outputs": [],
   "source": [
    "#heat map of inverse data of Food Environment for Montana\n",
    "\n",
    "locations2 = montana[[\"Latitude\", \"Longitude\"]]\n",
    "\n",
    "\n",
    "food_env2 = montana[\"Inverse Index\"]"
   ]
  },
  {
   "cell_type": "code",
   "execution_count": 33,
   "metadata": {},
   "outputs": [
    {
     "data": {
      "application/vnd.jupyter.widget-view+json": {
       "model_id": "fe66465b58f542c798068334eb1431f2",
       "version_major": 2,
       "version_minor": 0
      },
      "text/plain": [
       "Figure(layout=FigureLayout(height='420px'))"
      ]
     },
     "metadata": {},
     "output_type": "display_data"
    }
   ],
   "source": [
    "# Plot Heatmap\n",
    "fig = gmaps.figure()\n",
    "\n",
    "\n",
    "# Create heat layer\n",
    "heat_layer = gmaps.heatmap_layer(locations2, weights=food_env2, \n",
    "                                 dissipating=False, max_intensity=10,\n",
    "                                 point_radius=.25)\n",
    "\n",
    "\n",
    "# Add layer\n",
    "fig.add_layer(heat_layer)\n",
    "\n",
    "#Display figure\n",
    "fig"
   ]
  },
  {
   "cell_type": "code",
   "execution_count": 34,
   "metadata": {},
   "outputs": [],
   "source": [
    "#create heat map for Obese % for Montana\n",
    "\n",
    "locations = montana[[\"Latitude\", \"Longitude\"]]\n",
    "\n",
    "# Fill NaN values and convert to float\n",
    "obese2 = montana[\"% Obese\"]"
   ]
  },
  {
   "cell_type": "code",
   "execution_count": 53,
   "metadata": {},
   "outputs": [
    {
     "data": {
      "application/vnd.jupyter.widget-view+json": {
       "model_id": "37998d2bc3004b91b46c1517100e55b3",
       "version_major": 2,
       "version_minor": 0
      },
      "text/plain": [
       "Figure(layout=FigureLayout(height='420px'))"
      ]
     },
     "metadata": {},
     "output_type": "display_data"
    }
   ],
   "source": [
    "\n",
    "# Plot Heatmap\n",
    "fig = gmaps.figure()\n",
    "marker_locations = montana[[\"Latitude\", \"Longitude\"]]\n",
    "\n",
    "# Create heat layer\n",
    "heat_layer = gmaps.heatmap_layer(locations, weights=obese2, \n",
    "                                 dissipating=False, max_intensity=100,\n",
    "                                 point_radius=.25)\n",
    "\n",
    "\n",
    "# Add layer\n",
    "\n",
    "fig.add_layer(heat_layer)\n",
    "markers = gmaps.marker_layer(marker_locations)\n",
    "fig.add_layer(markers)\n",
    "#Display figure\n",
    "fig"
   ]
  },
  {
   "cell_type": "code",
   "execution_count": 40,
   "metadata": {},
   "outputs": [],
   "source": [
    "\n",
    "# Using the template add the Obese % marks to the heatmap\n",
    "info_box_template = \"\"\"\n",
    "<dl>\n",
    "<dt>County: </dt><dd>{County}</dd>\n",
    "<dt>Obesity %: </dt><dd>{% Obese}</dd>\n",
    "</dl>\n",
    "\"\"\"\n",
    "# Store the DataFrame Row\n",
    "\n",
    "# NOTE: be sure to update with your DataFrame name\n",
    "obese_info = [info_box_template1.format(**row) for index, row in montana.iterrows()]\n",
    "locations = montana[[\"Latitude\", \"Longitude\"]]"
   ]
  },
  {
   "cell_type": "code",
   "execution_count": 69,
   "metadata": {},
   "outputs": [
    {
     "data": {
      "application/vnd.jupyter.widget-view+json": {
       "model_id": "4bfb2588ff4f4d0ab48263dad8914f9b",
       "version_major": 2,
       "version_minor": 0
      },
      "text/plain": [
       "Figure(layout=FigureLayout(height='420px'))"
      ]
     },
     "metadata": {},
     "output_type": "display_data"
    }
   ],
   "source": [
    "# Plot Heatmap\n",
    "fig = gmaps.figure()\n",
    "marker_locations = montana[[\"Latitude\", \"Longitude\"]]\n",
    "\n",
    "# Create heat layer\n",
    "heat_layer2 = gmaps.heatmap_layer(locations2, weights=obese2, \n",
    "                                 dissipating=False, max_intensity=100,\n",
    "                                 point_radius=.25)\n",
    "\n",
    "\n",
    "# Add layer\n",
    "marker_layer2 = gmaps.marker_layer(locations, info_box_content=obese_info)\n",
    "\n",
    "fig.add_layer(heat_layer2)\n",
    "fig.add_layer(markers)\n",
    "fig.add_layer(marker_layer2)\n",
    "#Display figure\n",
    "fig"
   ]
  },
  {
   "cell_type": "code",
   "execution_count": null,
   "metadata": {},
   "outputs": [],
   "source": []
  },
  {
   "cell_type": "code",
   "execution_count": 42,
   "metadata": {},
   "outputs": [
    {
     "data": {
      "application/vnd.jupyter.widget-view+json": {
       "model_id": "6645b1ffb6cc4b0bb65827d6b892c492",
       "version_major": 2,
       "version_minor": 0
      },
      "text/plain": [
       "Figure(layout=FigureLayout(height='420px'))"
      ]
     },
     "metadata": {},
     "output_type": "display_data"
    }
   ],
   "source": [
    "\n",
    "gmaps.configure(api_key= g_key)\n",
    "\n",
    "marker_locations = montana[[\"Latitude\", \"Longitude\"]]\n",
    "    \n",
    "\n",
    "fig = gmaps.figure()\n",
    "markers = gmaps.marker_layer(marker_locations)\n",
    "fig.add_layer(markers)\n",
    "#Display figure\n",
    "fig\n",
    "\n"
   ]
  },
  {
   "cell_type": "code",
   "execution_count": 43,
   "metadata": {},
   "outputs": [],
   "source": [
    "\n",
    "# Using the template add the food environment marks to the heatmap\n",
    "info_box_template = \"\"\"\n",
    "<dl>\n",
    "<dt>County: </dt><dd>{County}</dd>\n",
    "<dt>Food Environment Index: </dt><dd>{Food Environment Index}</dd>\n",
    "</dl>\n",
    "\"\"\"\n",
    "# Store the DataFrame Row\n",
    "\n",
    "# NOTE: be sure to update with your DataFrame name\n",
    "county_info = [info_box_template.format(**row) for index, row in montana.iterrows()]\n",
    "locations = montana[[\"Latitude\", \"Longitude\"]]"
   ]
  },
  {
   "cell_type": "code",
   "execution_count": 44,
   "metadata": {},
   "outputs": [
    {
     "data": {
      "application/vnd.jupyter.widget-view+json": {
       "model_id": "7d755de9dffb4e9d83aa8fe090d49098",
       "version_major": 2,
       "version_minor": 0
      },
      "text/plain": [
       "Figure(layout=FigureLayout(height='420px'))"
      ]
     },
     "metadata": {},
     "output_type": "display_data"
    }
   ],
   "source": [
    "\n",
    "# Add marker layer ontop of heat map\n",
    "marker_layer = gmaps.marker_layer(locations, info_box_content=county_info)\n",
    "fig = gmaps.figure()\n",
    "fig.add_layer(marker_layer)\n",
    "\n",
    "heat_layer = gmaps.heatmap_layer(locations2, weights=food_env2, \n",
    "                                 dissipating=False, max_intensity=10,\n",
    "                                 point_radius=.25)\n",
    "\n",
    "fig.add_layer(heat_layer)\n",
    "fig\n",
    "\n",
    "# Display figure"
   ]
  },
  {
   "cell_type": "code",
   "execution_count": 50,
   "metadata": {},
   "outputs": [
    {
     "data": {
      "application/vnd.jupyter.widget-view+json": {
       "model_id": "e195d7a21f3f40bab0d12f8584aa9bca",
       "version_major": 2,
       "version_minor": 0
      },
      "text/plain": [
       "Figure(layout=FigureLayout(height='420px'))"
      ]
     },
     "metadata": {},
     "output_type": "display_data"
    }
   ],
   "source": [
    "\n",
    "gmaps.configure(api_key= g_key)\n",
    "\n",
    "marker_locations = montana[[\"Latitude\", \"Longitude\"]]\n",
    "    \n",
    "\n",
    "fig = gmaps.figure()\n",
    "markers = gmaps.marker_layer(marker_locations)\n",
    "fig.add_layer(markers)\n",
    "\n",
    "fig"
   ]
  },
  {
   "cell_type": "code",
   "execution_count": null,
   "metadata": {},
   "outputs": [],
   "source": [
    "\n",
    "# Using the template add the food environment Index marks to the heatmap\n",
    "info_box_template = \"\"\"\n",
    "<dl>\n",
    "<dt>County: </dt><dd>{County}</dd>\n",
    "<dt>Food Environment Index: </dt><dd>{Food Environment Index}</dd>\n",
    "</dl>\n",
    "\"\"\"\n",
    "\n",
    "\n",
    "# NOTE: be sure to update with your DataFrame name\n",
    "county_info = [info_box_template.format(**row) for index, row in montana.iterrows()]\n",
    "locations = montana[[\"Latitude\", \"Longitude\"]]"
   ]
  },
  {
   "cell_type": "markdown",
   "metadata": {},
   "source": [
    "# Diabetics"
   ]
  },
  {
   "cell_type": "code",
   "execution_count": 55,
   "metadata": {},
   "outputs": [],
   "source": [
    "locations = data_loc[[\"Latitude\", \"Longitude\"]]\n",
    "\n",
    "# Fill NaN values and convert to float\n",
    "diabetic = data_loc[\"# Diabetics\"].astype(float)"
   ]
  },
  {
   "cell_type": "code",
   "execution_count": 56,
   "metadata": {},
   "outputs": [
    {
     "data": {
      "application/vnd.jupyter.widget-view+json": {
       "model_id": "92b4fb6cdc524124972af9338d272537",
       "version_major": 2,
       "version_minor": 0
      },
      "text/plain": [
       "Figure(layout=FigureLayout(height='420px'))"
      ]
     },
     "metadata": {},
     "output_type": "display_data"
    }
   ],
   "source": [
    "# Plot Heatmap\n",
    "fig = gmaps.figure()\n",
    "\n",
    "\n",
    "# Create heat layer\n",
    "heat_layer = gmaps.heatmap_layer(locations, weights=diabetic, \n",
    "                                 dissipating=False, max_intensity=3000,\n",
    "                                 point_radius=.25)\n",
    "\n",
    "\n",
    "# Add layer\n",
    "fig.add_layer(heat_layer)\n",
    "\n",
    "#Display figure\n",
    "fig\n"
   ]
  },
  {
   "cell_type": "code",
   "execution_count": 58,
   "metadata": {},
   "outputs": [],
   "source": [
    "locations = montana[[\"Latitude\", \"Longitude\"]]\n",
    "\n",
    "# Fill NaN values and convert to float\n",
    "diabetic2 = montana[\"# Diabetics\"]"
   ]
  },
  {
   "cell_type": "code",
   "execution_count": 65,
   "metadata": {},
   "outputs": [],
   "source": [
    "\n",
    "# Using the template add the diabetic # marks to the heatmap\n",
    "info_box_template = \"\"\"\n",
    "<dl>\n",
    "<dt>County: </dt><dd>{County}</dd>\n",
    "<dt># of Diabetics: </dt><dd>{# Diabetics}</dd>\n",
    "</dl>\n",
    "\"\"\"\n",
    "\n",
    "\n",
    "# NOTE: be sure to update with your DataFrame name\n",
    "diabetic_info = [info_box_template.format(**row) for index, row in montana.iterrows()]\n",
    "locations = montana[[\"Latitude\", \"Longitude\"]]\n"
   ]
  },
  {
   "cell_type": "code",
   "execution_count": 67,
   "metadata": {},
   "outputs": [
    {
     "data": {
      "application/vnd.jupyter.widget-view+json": {
       "model_id": "418f3a004c8345658ead46c567a2b6ee",
       "version_major": 2,
       "version_minor": 0
      },
      "text/plain": [
       "Figure(layout=FigureLayout(height='420px'))"
      ]
     },
     "metadata": {},
     "output_type": "display_data"
    }
   ],
   "source": [
    "fig = gmaps.figure()\n",
    "\n",
    "\n",
    "# Create heat layer\n",
    "heat_layer = gmaps.heatmap_layer(locations2, weights=diabetic2, \n",
    "                                 dissipating=False, max_intensity=800,\n",
    "                                 point_radius=.25)\n",
    "\n",
    "\n",
    "# Add layer\n",
    "fig.add_layer(heat_layer)\n",
    "fig.add_layer(markers)\n",
    "marker_layer = gmaps.marker_layer(locations, info_box_content=diabetic_info)\n",
    "fig.add_layer(marker_layer)\n",
    "#Display figure\n",
    "fig"
   ]
  },
  {
   "cell_type": "markdown",
   "metadata": {},
   "source": [
    "# Unemployed"
   ]
  },
  {
   "cell_type": "code",
   "execution_count": 73,
   "metadata": {},
   "outputs": [],
   "source": [
    "locations = data_loc[[\"Latitude\", \"Longitude\"]]\n",
    "\n",
    "# Fill NaN values and convert to float\n",
    "unemployed = data_loc[\"# Unemployed\"].astype(float)"
   ]
  },
  {
   "cell_type": "code",
   "execution_count": 74,
   "metadata": {},
   "outputs": [
    {
     "data": {
      "application/vnd.jupyter.widget-view+json": {
       "model_id": "01294dc0aef54c35ae57c21489769c79",
       "version_major": 2,
       "version_minor": 0
      },
      "text/plain": [
       "Figure(layout=FigureLayout(height='420px'))"
      ]
     },
     "metadata": {},
     "output_type": "display_data"
    }
   ],
   "source": [
    "# Plot Heatmap\n",
    "fig = gmaps.figure()\n",
    "\n",
    "\n",
    "# Create heat layer\n",
    "heat_layer = gmaps.heatmap_layer(locations, weights=unemployed, \n",
    "                                 dissipating=False, max_intensity=3000,\n",
    "                                 point_radius=.25)\n",
    "\n",
    "\n",
    "# Add layer\n",
    "fig.add_layer(heat_layer)\n",
    "\n",
    "#Display figure\n",
    "fig"
   ]
  },
  {
   "cell_type": "code",
   "execution_count": 75,
   "metadata": {},
   "outputs": [],
   "source": [
    "locations = montana[[\"Latitude\", \"Longitude\"]]\n",
    "\n",
    "# Fill NaN values and convert to float\n",
    "unemployed2 = montana[\"# Unemployed\"]"
   ]
  },
  {
   "cell_type": "code",
   "execution_count": 76,
   "metadata": {},
   "outputs": [],
   "source": [
    "# Using the template add the # unemployed marks to the heatmap\n",
    "info_box_template = \"\"\"\n",
    "<dl>\n",
    "<dt>County: </dt><dd>{County}</dd>\n",
    "<dt># of Unemployed: </dt><dd>{# Unemployed}</dd>\n",
    "</dl>\n",
    "\"\"\"\n",
    "\n",
    "# NOTE: be sure to update with your DataFrame name\n",
    "employmemt_info = [info_box_template.format(**row) for index, row in montana.iterrows()]\n",
    "locations = montana[[\"Latitude\", \"Longitude\"]]"
   ]
  },
  {
   "cell_type": "code",
   "execution_count": 78,
   "metadata": {
    "scrolled": true
   },
   "outputs": [
    {
     "data": {
      "application/vnd.jupyter.widget-view+json": {
       "model_id": "bbea331de30d49fc9e17946f9b3f6710",
       "version_major": 2,
       "version_minor": 0
      },
      "text/plain": [
       "Figure(layout=FigureLayout(height='420px'))"
      ]
     },
     "metadata": {},
     "output_type": "display_data"
    }
   ],
   "source": [
    "fig = gmaps.figure()\n",
    "\n",
    "\n",
    "# Create heat layer\n",
    "heat_layer = gmaps.heatmap_layer(locations2, weights=unemployed2, \n",
    "                                 dissipating=False, max_intensity=800,\n",
    "                                 point_radius=.25)\n",
    "\n",
    "\n",
    "# Add layer\n",
    "fig.add_layer(heat_layer)\n",
    "fig.add_layer(markers)\n",
    "marker_layer = gmaps.marker_layer(locations, info_box_content=employmemt_info)\n",
    "fig.add_layer(marker_layer)\n",
    "#Display figure\n",
    "fig"
   ]
  },
  {
   "cell_type": "code",
   "execution_count": null,
   "metadata": {},
   "outputs": [],
   "source": []
  }
 ],
 "metadata": {
  "kernelspec": {
   "display_name": "Python 3",
   "language": "python",
   "name": "python3"
  },
  "language_info": {
   "codemirror_mode": {
    "name": "ipython",
    "version": 3
   },
   "file_extension": ".py",
   "mimetype": "text/x-python",
   "name": "python",
   "nbconvert_exporter": "python",
   "pygments_lexer": "ipython3",
   "version": "3.7.6"
  }
 },
 "nbformat": 4,
 "nbformat_minor": 4
}
